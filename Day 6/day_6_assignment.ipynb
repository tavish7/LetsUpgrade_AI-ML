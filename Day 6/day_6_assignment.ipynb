{
 "cells": [
  {
   "cell_type": "markdown",
   "metadata": {},
   "source": [
    "# Day 6 Assignment"
   ]
  },
  {
   "cell_type": "markdown",
   "metadata": {},
   "source": [
    "## Q1. Assuming that we have some email addresses in the \"username@companyname.com\" format, please write program to print the company name of a given email address. Both user names and company names are composed of letters only."
   ]
  },
  {
   "cell_type": "code",
   "execution_count": 1,
   "metadata": {},
   "outputs": [
    {
     "name": "stdout",
     "output_type": "stream",
     "text": [
      "Enter your emailabc@google.com\n",
      "google\n"
     ]
    }
   ],
   "source": [
    "s = input(\"Enter your email\")\n",
    "a = s.split(\"@\")[1]\n",
    "s = a.rstrip(\".com\")\n",
    "print(s)"
   ]
  },
  {
   "cell_type": "markdown",
   "metadata": {},
   "source": [
    "## Q2. Write a program that accepts a comma-separated sequence of words as input and prints the words in a comma separated sequence after sorting them alphabetically."
   ]
  },
  {
   "cell_type": "code",
   "execution_count": 2,
   "metadata": {},
   "outputs": [
    {
     "name": "stdout",
     "output_type": "stream",
     "text": [
      "Enter words: without,hello,bag,world\n",
      "bag,hello,without,world\n"
     ]
    }
   ],
   "source": [
    "line = input(\"Enter words: \")\n",
    "l = line.split(\",\")\n",
    "x = sorted(l)\n",
    "print(\",\".join(x))"
   ]
  },
  {
   "cell_type": "markdown",
   "metadata": {},
   "source": [
    "## Q4. Given a list of n-1 numbers ranging from 1 to n, your task is to find the missing number. There are no duplicates."
   ]
  },
  {
   "cell_type": "code",
   "execution_count": 3,
   "metadata": {},
   "outputs": [
    {
     "name": "stdout",
     "output_type": "stream",
     "text": [
      "Enter list of numbers : 1 2 4 6 3 7 8\n",
      "5\n"
     ]
    }
   ],
   "source": [
    "l = list(map(int,input(\"Enter list of numbers : \").split()))\n",
    "l = sorted(set(range(l[0], l[-1])) - set(l))\n",
    "print(*l)"
   ]
  },
  {
   "cell_type": "markdown",
   "metadata": {},
   "source": [
    "## Q.5 With a given list L, write a program to print this list L after removing all duplicate values with original order reserved."
   ]
  },
  {
   "cell_type": "code",
   "execution_count": 4,
   "metadata": {},
   "outputs": [
    {
     "name": "stdout",
     "output_type": "stream",
     "text": [
      "Enter list of numbers : 12 24 35 24 88 120 155 88 120 155\n",
      "12 24 35 88 120 155\n"
     ]
    }
   ],
   "source": [
    "l = list(map(int,input(\"Enter list of numbers : \").split()))\n",
    "l = sorted(set(l))\n",
    "print(*l)"
   ]
  }
 ],
 "metadata": {
  "kernelspec": {
   "display_name": "Python 3",
   "language": "python",
   "name": "python3"
  },
  "language_info": {
   "codemirror_mode": {
    "name": "ipython",
    "version": 3
   },
   "file_extension": ".py",
   "mimetype": "text/x-python",
   "name": "python",
   "nbconvert_exporter": "python",
   "pygments_lexer": "ipython3",
   "version": "3.7.6"
  }
 },
 "nbformat": 4,
 "nbformat_minor": 4
}
