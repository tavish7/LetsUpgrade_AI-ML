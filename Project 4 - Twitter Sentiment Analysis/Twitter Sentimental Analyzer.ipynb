{
 "cells": [
  {
   "cell_type": "markdown",
   "metadata": {},
   "source": [
    "### We will colect text data using Twitter API."
   ]
  },
  {
   "cell_type": "code",
   "execution_count": 3,
   "metadata": {},
   "outputs": [
    {
     "name": "stdout",
     "output_type": "stream",
     "text": [
      "Requirement already satisfied: tweepy in d:\\anaconda\\lib\\site-packages (3.9.0)\n",
      "Requirement already satisfied: requests[socks]>=2.11.1 in d:\\anaconda\\lib\\site-packages (from tweepy) (2.24.0)\n",
      "Requirement already satisfied: six>=1.10.0 in d:\\anaconda\\lib\\site-packages (from tweepy) (1.14.0)\n",
      "Requirement already satisfied: requests-oauthlib>=0.7.0 in d:\\anaconda\\lib\\site-packages (from tweepy) (1.3.0)\n",
      "Requirement already satisfied: chardet<4,>=3.0.2 in d:\\anaconda\\lib\\site-packages (from requests[socks]>=2.11.1->tweepy) (3.0.4)\n",
      "Requirement already satisfied: certifi>=2017.4.17 in d:\\anaconda\\lib\\site-packages (from requests[socks]>=2.11.1->tweepy) (2019.11.28)\n",
      "Requirement already satisfied: urllib3!=1.25.0,!=1.25.1,<1.26,>=1.21.1 in d:\\anaconda\\lib\\site-packages (from requests[socks]>=2.11.1->tweepy) (1.25.8)\n",
      "Requirement already satisfied: idna<3,>=2.5 in d:\\anaconda\\lib\\site-packages (from requests[socks]>=2.11.1->tweepy) (2.8)\n",
      "Requirement already satisfied: PySocks!=1.5.7,>=1.5.6; extra == \"socks\" in d:\\anaconda\\lib\\site-packages (from requests[socks]>=2.11.1->tweepy) (1.7.1)\n",
      "Requirement already satisfied: oauthlib>=3.0.0 in d:\\anaconda\\lib\\site-packages (from requests-oauthlib>=0.7.0->tweepy) (3.1.0)\n"
     ]
    }
   ],
   "source": [
    "# communicate with twitter api\n",
    "!pip install tweepy"
   ]
  },
  {
   "cell_type": "code",
   "execution_count": 4,
   "metadata": {},
   "outputs": [
    {
     "name": "stdout",
     "output_type": "stream",
     "text": [
      "Requirement already satisfied: openpyxl in d:\\anaconda\\lib\\site-packages (3.0.3)\n",
      "Requirement already satisfied: et-xmlfile in d:\\anaconda\\lib\\site-packages (from openpyxl) (1.0.1)\n",
      "Requirement already satisfied: jdcal in d:\\anaconda\\lib\\site-packages (from openpyxl) (1.4.1)\n"
     ]
    }
   ],
   "source": [
    "# read or write excell file\n",
    "!pip install openpyxl     "
   ]
  },
  {
   "cell_type": "code",
   "execution_count": 5,
   "metadata": {},
   "outputs": [],
   "source": [
    "import numpy as np\n",
    "import pandas as pd\n",
    "import tweepy\n",
    "import json\n",
    "from tweepy import OAuthHandler  # communicate with twitter"
   ]
  },
  {
   "cell_type": "code",
   "execution_count": 6,
   "metadata": {},
   "outputs": [],
   "source": [
    "consumer_key = \"cEQU7HP8sIz5q598uA65g9ooa\"\n",
    "consumer_secret = \"GLPgPqHoKyvQTNC5m0Fyd7JaSDE8ONPFKOIjB1dpBuWWuFhVo1\"\n",
    "access_token = \"1321518103482695680-7WmynEdqVf8ozt0qYteptjpHejBs30\"\n",
    "access_token_secret = \"qHTjoZdsvsAOYDAED7PahuMuNWyrZL0hquUFnSUK4HwMW\""
   ]
  },
  {
   "cell_type": "code",
   "execution_count": 9,
   "metadata": {},
   "outputs": [],
   "source": [
    "auth = tweepy.OAuthHandler(consumer_key, consumer_secret)\n",
    "auth.set_access_token(access_token, access_token_secret)\n",
    "api = tweepy.API(auth)"
   ]
  },
  {
   "cell_type": "code",
   "execution_count": 10,
   "metadata": {},
   "outputs": [],
   "source": [
    "query = \"bjp election in bihar\""
   ]
  },
  {
   "cell_type": "code",
   "execution_count": 11,
   "metadata": {},
   "outputs": [
    {
     "name": "stdout",
     "output_type": "stream",
     "text": [
      "Status(_api=<tweepy.api.API object at 0x00000294BF7D1A48>, _json={'created_at': 'Thu Oct 29 14:04:59 +0000 2020', 'id': 1321815298236821505, 'id_str': '1321815298236821505', 'full_text': '@SalmanNizami_ Bihar learnt a lesson from the last election when one of the party of Grand Alliance allied with BJP after the election. \\nThis may happen too this time, it may be RJD or Congress MLAs as had happened in other States.', 'truncated': False, 'display_text_range': [15, 231], 'entities': {'hashtags': [], 'symbols': [], 'user_mentions': [{'screen_name': 'SalmanNizami_', 'name': 'Salman Nizami', 'id': 83586157, 'id_str': '83586157', 'indices': [0, 14]}], 'urls': []}, 'metadata': {'iso_language_code': 'en', 'result_type': 'recent'}, 'source': '<a href=\"https://mobile.twitter.com\" rel=\"nofollow\">Twitter Web App</a>', 'in_reply_to_status_id': 1321792060328865792, 'in_reply_to_status_id_str': '1321792060328865792', 'in_reply_to_user_id': 83586157, 'in_reply_to_user_id_str': '83586157', 'in_reply_to_screen_name': 'SalmanNizami_', 'user': {'id': 1274023420519264256, 'id_str': '1274023420519264256', 'name': 'Nomanuddin Hassan', 'screen_name': 'NomanuddinH', 'location': '', 'description': 'Engineer.\\nAligarian. \\nFrom Basti (UP)', 'url': None, 'entities': {'description': {'urls': []}}, 'protected': False, 'followers_count': 584, 'friends_count': 1619, 'listed_count': 0, 'created_at': 'Fri Jun 19 16:57:25 +0000 2020', 'favourites_count': 7776, 'utc_offset': None, 'time_zone': None, 'geo_enabled': False, 'verified': False, 'statuses_count': 4402, 'lang': None, 'contributors_enabled': False, 'is_translator': False, 'is_translation_enabled': False, 'profile_background_color': 'F5F8FA', 'profile_background_image_url': None, 'profile_background_image_url_https': None, 'profile_background_tile': False, 'profile_image_url': 'http://pbs.twimg.com/profile_images/1276571082124742658/zZAliysR_normal.jpg', 'profile_image_url_https': 'https://pbs.twimg.com/profile_images/1276571082124742658/zZAliysR_normal.jpg', 'profile_link_color': '1DA1F2', 'profile_sidebar_border_color': 'C0DEED', 'profile_sidebar_fill_color': 'DDEEF6', 'profile_text_color': '333333', 'profile_use_background_image': True, 'has_extended_profile': True, 'default_profile': True, 'default_profile_image': False, 'following': False, 'follow_request_sent': False, 'notifications': False, 'translator_type': 'none'}, 'geo': None, 'coordinates': None, 'place': None, 'contributors': None, 'is_quote_status': False, 'retweet_count': 0, 'favorite_count': 0, 'favorited': False, 'retweeted': False, 'lang': 'en'}, created_at=datetime.datetime(2020, 10, 29, 14, 4, 59), id=1321815298236821505, id_str='1321815298236821505', full_text='@SalmanNizami_ Bihar learnt a lesson from the last election when one of the party of Grand Alliance allied with BJP after the election. \\nThis may happen too this time, it may be RJD or Congress MLAs as had happened in other States.', truncated=False, display_text_range=[15, 231], entities={'hashtags': [], 'symbols': [], 'user_mentions': [{'screen_name': 'SalmanNizami_', 'name': 'Salman Nizami', 'id': 83586157, 'id_str': '83586157', 'indices': [0, 14]}], 'urls': []}, metadata={'iso_language_code': 'en', 'result_type': 'recent'}, source='Twitter Web App', source_url='https://mobile.twitter.com', in_reply_to_status_id=1321792060328865792, in_reply_to_status_id_str='1321792060328865792', in_reply_to_user_id=83586157, in_reply_to_user_id_str='83586157', in_reply_to_screen_name='SalmanNizami_', author=User(_api=<tweepy.api.API object at 0x00000294BF7D1A48>, _json={'id': 1274023420519264256, 'id_str': '1274023420519264256', 'name': 'Nomanuddin Hassan', 'screen_name': 'NomanuddinH', 'location': '', 'description': 'Engineer.\\nAligarian. \\nFrom Basti (UP)', 'url': None, 'entities': {'description': {'urls': []}}, 'protected': False, 'followers_count': 584, 'friends_count': 1619, 'listed_count': 0, 'created_at': 'Fri Jun 19 16:57:25 +0000 2020', 'favourites_count': 7776, 'utc_offset': None, 'time_zone': None, 'geo_enabled': False, 'verified': False, 'statuses_count': 4402, 'lang': None, 'contributors_enabled': False, 'is_translator': False, 'is_translation_enabled': False, 'profile_background_color': 'F5F8FA', 'profile_background_image_url': None, 'profile_background_image_url_https': None, 'profile_background_tile': False, 'profile_image_url': 'http://pbs.twimg.com/profile_images/1276571082124742658/zZAliysR_normal.jpg', 'profile_image_url_https': 'https://pbs.twimg.com/profile_images/1276571082124742658/zZAliysR_normal.jpg', 'profile_link_color': '1DA1F2', 'profile_sidebar_border_color': 'C0DEED', 'profile_sidebar_fill_color': 'DDEEF6', 'profile_text_color': '333333', 'profile_use_background_image': True, 'has_extended_profile': True, 'default_profile': True, 'default_profile_image': False, 'following': False, 'follow_request_sent': False, 'notifications': False, 'translator_type': 'none'}, id=1274023420519264256, id_str='1274023420519264256', name='Nomanuddin Hassan', screen_name='NomanuddinH', location='', description='Engineer.\\nAligarian. \\nFrom Basti (UP)', url=None, entities={'description': {'urls': []}}, protected=False, followers_count=584, friends_count=1619, listed_count=0, created_at=datetime.datetime(2020, 6, 19, 16, 57, 25), favourites_count=7776, utc_offset=None, time_zone=None, geo_enabled=False, verified=False, statuses_count=4402, lang=None, contributors_enabled=False, is_translator=False, is_translation_enabled=False, profile_background_color='F5F8FA', profile_background_image_url=None, profile_background_image_url_https=None, profile_background_tile=False, profile_image_url='http://pbs.twimg.com/profile_images/1276571082124742658/zZAliysR_normal.jpg', profile_image_url_https='https://pbs.twimg.com/profile_images/1276571082124742658/zZAliysR_normal.jpg', profile_link_color='1DA1F2', profile_sidebar_border_color='C0DEED', profile_sidebar_fill_color='DDEEF6', profile_text_color='333333', profile_use_background_image=True, has_extended_profile=True, default_profile=True, default_profile_image=False, following=False, follow_request_sent=False, notifications=False, translator_type='none'), user=User(_api=<tweepy.api.API object at 0x00000294BF7D1A48>, _json={'id': 1274023420519264256, 'id_str': '1274023420519264256', 'name': 'Nomanuddin Hassan', 'screen_name': 'NomanuddinH', 'location': '', 'description': 'Engineer.\\nAligarian. \\nFrom Basti (UP)', 'url': None, 'entities': {'description': {'urls': []}}, 'protected': False, 'followers_count': 584, 'friends_count': 1619, 'listed_count': 0, 'created_at': 'Fri Jun 19 16:57:25 +0000 2020', 'favourites_count': 7776, 'utc_offset': None, 'time_zone': None, 'geo_enabled': False, 'verified': False, 'statuses_count': 4402, 'lang': None, 'contributors_enabled': False, 'is_translator': False, 'is_translation_enabled': False, 'profile_background_color': 'F5F8FA', 'profile_background_image_url': None, 'profile_background_image_url_https': None, 'profile_background_tile': False, 'profile_image_url': 'http://pbs.twimg.com/profile_images/1276571082124742658/zZAliysR_normal.jpg', 'profile_image_url_https': 'https://pbs.twimg.com/profile_images/1276571082124742658/zZAliysR_normal.jpg', 'profile_link_color': '1DA1F2', 'profile_sidebar_border_color': 'C0DEED', 'profile_sidebar_fill_color': 'DDEEF6', 'profile_text_color': '333333', 'profile_use_background_image': True, 'has_extended_profile': True, 'default_profile': True, 'default_profile_image': False, 'following': False, 'follow_request_sent': False, 'notifications': False, 'translator_type': 'none'}, id=1274023420519264256, id_str='1274023420519264256', name='Nomanuddin Hassan', screen_name='NomanuddinH', location='', description='Engineer.\\nAligarian. \\nFrom Basti (UP)', url=None, entities={'description': {'urls': []}}, protected=False, followers_count=584, friends_count=1619, listed_count=0, created_at=datetime.datetime(2020, 6, 19, 16, 57, 25), favourites_count=7776, utc_offset=None, time_zone=None, geo_enabled=False, verified=False, statuses_count=4402, lang=None, contributors_enabled=False, is_translator=False, is_translation_enabled=False, profile_background_color='F5F8FA', profile_background_image_url=None, profile_background_image_url_https=None, profile_background_tile=False, profile_image_url='http://pbs.twimg.com/profile_images/1276571082124742658/zZAliysR_normal.jpg', profile_image_url_https='https://pbs.twimg.com/profile_images/1276571082124742658/zZAliysR_normal.jpg', profile_link_color='1DA1F2', profile_sidebar_border_color='C0DEED', profile_sidebar_fill_color='DDEEF6', profile_text_color='333333', profile_use_background_image=True, has_extended_profile=True, default_profile=True, default_profile_image=False, following=False, follow_request_sent=False, notifications=False, translator_type='none'), geo=None, coordinates=None, place=None, contributors=None, is_quote_status=False, retweet_count=0, favorite_count=0, favorited=False, retweeted=False, lang='en') \n",
      "\n",
      "........................................\n",
      "\n",
      "Status(_api=<tweepy.api.API object at 0x00000294BF7D1A48>, _json={'created_at': 'Thu Oct 29 14:00:00 +0000 2020', 'id': 1321814040818143237, 'id_str': '1321814040818143237', 'full_text': \"@ZarrarKhuhro @Khalil_a_hassan Bihar Elections.\\n\\nModi needed his minions (PMLN) to start this conversation at this crucial moment in elections and help him win that election. Now watch modi and ministers brag about Ayaz Sadiq's words in their campaign.\\n\\nGovt (Pakistan) got played by BJP, politically, again.\", 'truncated': False, 'display_text_range': [31, 308], 'entities': {'hashtags': [], 'symbols': [], 'user_mentions': [{'screen_name': 'ZarrarKhuhro', 'name': 'Zarrar Khuhro', 'id': 378126181, 'id_str': '378126181', 'indices': [0, 13]}, {'screen_name': 'Khalil_a_hassan', 'name': 'Khalil A. Hassan', 'id': 79955904, 'id_str': '79955904', 'indices': [14, 30]}], 'urls': []}, 'metadata': {'iso_language_code': 'en', 'result_type': 'recent'}, 'source': '<a href=\"http://twitter.com/download/android\" rel=\"nofollow\">Twitter for Android</a>', 'in_reply_to_status_id': 1321802778763759619, 'in_reply_to_status_id_str': '1321802778763759619', 'in_reply_to_user_id': 378126181, 'in_reply_to_user_id_str': '378126181', 'in_reply_to_screen_name': 'ZarrarKhuhro', 'user': {'id': 1030647632157454336, 'id_str': '1030647632157454336', 'name': '30 Beat Khan', 'screen_name': 'Hoo_Carez', 'location': 'Pakistan ', 'description': 'Muslim, Pakistani, Pukhtun.... (I tweet as muslim but the other three- Pakistani, Pukhtun and Paki+Pukhtun- are my Alter Egos). \\nFollow at your own risk.', 'url': 'https://t.co/5inJUjAoI2', 'entities': {'url': {'urls': [{'url': 'https://t.co/5inJUjAoI2', 'expanded_url': 'http://KalaBaZay.com', 'display_url': 'KalaBaZay.com', 'indices': [0, 23]}]}, 'description': {'urls': []}}, 'protected': False, 'followers_count': 256, 'friends_count': 437, 'listed_count': 1, 'created_at': 'Sat Aug 18 02:48:38 +0000 2018', 'favourites_count': 23591, 'utc_offset': None, 'time_zone': None, 'geo_enabled': True, 'verified': False, 'statuses_count': 17029, 'lang': None, 'contributors_enabled': False, 'is_translator': False, 'is_translation_enabled': False, 'profile_background_color': 'F5F8FA', 'profile_background_image_url': None, 'profile_background_image_url_https': None, 'profile_background_tile': False, 'profile_image_url': 'http://pbs.twimg.com/profile_images/1249115096183431175/LWyWy6LU_normal.jpg', 'profile_image_url_https': 'https://pbs.twimg.com/profile_images/1249115096183431175/LWyWy6LU_normal.jpg', 'profile_banner_url': 'https://pbs.twimg.com/profile_banners/1030647632157454336/1597259961', 'profile_link_color': '1DA1F2', 'profile_sidebar_border_color': 'C0DEED', 'profile_sidebar_fill_color': 'DDEEF6', 'profile_text_color': '333333', 'profile_use_background_image': True, 'has_extended_profile': False, 'default_profile': True, 'default_profile_image': False, 'following': False, 'follow_request_sent': False, 'notifications': False, 'translator_type': 'none'}, 'geo': None, 'coordinates': None, 'place': None, 'contributors': None, 'is_quote_status': False, 'retweet_count': 0, 'favorite_count': 0, 'favorited': False, 'retweeted': False, 'lang': 'en'}, created_at=datetime.datetime(2020, 10, 29, 14, 0), id=1321814040818143237, id_str='1321814040818143237', full_text=\"@ZarrarKhuhro @Khalil_a_hassan Bihar Elections.\\n\\nModi needed his minions (PMLN) to start this conversation at this crucial moment in elections and help him win that election. Now watch modi and ministers brag about Ayaz Sadiq's words in their campaign.\\n\\nGovt (Pakistan) got played by BJP, politically, again.\", truncated=False, display_text_range=[31, 308], entities={'hashtags': [], 'symbols': [], 'user_mentions': [{'screen_name': 'ZarrarKhuhro', 'name': 'Zarrar Khuhro', 'id': 378126181, 'id_str': '378126181', 'indices': [0, 13]}, {'screen_name': 'Khalil_a_hassan', 'name': 'Khalil A. Hassan', 'id': 79955904, 'id_str': '79955904', 'indices': [14, 30]}], 'urls': []}, metadata={'iso_language_code': 'en', 'result_type': 'recent'}, source='Twitter for Android', source_url='http://twitter.com/download/android', in_reply_to_status_id=1321802778763759619, in_reply_to_status_id_str='1321802778763759619', in_reply_to_user_id=378126181, in_reply_to_user_id_str='378126181', in_reply_to_screen_name='ZarrarKhuhro', author=User(_api=<tweepy.api.API object at 0x00000294BF7D1A48>, _json={'id': 1030647632157454336, 'id_str': '1030647632157454336', 'name': '30 Beat Khan', 'screen_name': 'Hoo_Carez', 'location': 'Pakistan ', 'description': 'Muslim, Pakistani, Pukhtun.... (I tweet as muslim but the other three- Pakistani, Pukhtun and Paki+Pukhtun- are my Alter Egos). \\nFollow at your own risk.', 'url': 'https://t.co/5inJUjAoI2', 'entities': {'url': {'urls': [{'url': 'https://t.co/5inJUjAoI2', 'expanded_url': 'http://KalaBaZay.com', 'display_url': 'KalaBaZay.com', 'indices': [0, 23]}]}, 'description': {'urls': []}}, 'protected': False, 'followers_count': 256, 'friends_count': 437, 'listed_count': 1, 'created_at': 'Sat Aug 18 02:48:38 +0000 2018', 'favourites_count': 23591, 'utc_offset': None, 'time_zone': None, 'geo_enabled': True, 'verified': False, 'statuses_count': 17029, 'lang': None, 'contributors_enabled': False, 'is_translator': False, 'is_translation_enabled': False, 'profile_background_color': 'F5F8FA', 'profile_background_image_url': None, 'profile_background_image_url_https': None, 'profile_background_tile': False, 'profile_image_url': 'http://pbs.twimg.com/profile_images/1249115096183431175/LWyWy6LU_normal.jpg', 'profile_image_url_https': 'https://pbs.twimg.com/profile_images/1249115096183431175/LWyWy6LU_normal.jpg', 'profile_banner_url': 'https://pbs.twimg.com/profile_banners/1030647632157454336/1597259961', 'profile_link_color': '1DA1F2', 'profile_sidebar_border_color': 'C0DEED', 'profile_sidebar_fill_color': 'DDEEF6', 'profile_text_color': '333333', 'profile_use_background_image': True, 'has_extended_profile': False, 'default_profile': True, 'default_profile_image': False, 'following': False, 'follow_request_sent': False, 'notifications': False, 'translator_type': 'none'}, id=1030647632157454336, id_str='1030647632157454336', name='30 Beat Khan', screen_name='Hoo_Carez', location='Pakistan ', description='Muslim, Pakistani, Pukhtun.... (I tweet as muslim but the other three- Pakistani, Pukhtun and Paki+Pukhtun- are my Alter Egos). \\nFollow at your own risk.', url='https://t.co/5inJUjAoI2', entities={'url': {'urls': [{'url': 'https://t.co/5inJUjAoI2', 'expanded_url': 'http://KalaBaZay.com', 'display_url': 'KalaBaZay.com', 'indices': [0, 23]}]}, 'description': {'urls': []}}, protected=False, followers_count=256, friends_count=437, listed_count=1, created_at=datetime.datetime(2018, 8, 18, 2, 48, 38), favourites_count=23591, utc_offset=None, time_zone=None, geo_enabled=True, verified=False, statuses_count=17029, lang=None, contributors_enabled=False, is_translator=False, is_translation_enabled=False, profile_background_color='F5F8FA', profile_background_image_url=None, profile_background_image_url_https=None, profile_background_tile=False, profile_image_url='http://pbs.twimg.com/profile_images/1249115096183431175/LWyWy6LU_normal.jpg', profile_image_url_https='https://pbs.twimg.com/profile_images/1249115096183431175/LWyWy6LU_normal.jpg', profile_banner_url='https://pbs.twimg.com/profile_banners/1030647632157454336/1597259961', profile_link_color='1DA1F2', profile_sidebar_border_color='C0DEED', profile_sidebar_fill_color='DDEEF6', profile_text_color='333333', profile_use_background_image=True, has_extended_profile=False, default_profile=True, default_profile_image=False, following=False, follow_request_sent=False, notifications=False, translator_type='none'), user=User(_api=<tweepy.api.API object at 0x00000294BF7D1A48>, _json={'id': 1030647632157454336, 'id_str': '1030647632157454336', 'name': '30 Beat Khan', 'screen_name': 'Hoo_Carez', 'location': 'Pakistan ', 'description': 'Muslim, Pakistani, Pukhtun.... (I tweet as muslim but the other three- Pakistani, Pukhtun and Paki+Pukhtun- are my Alter Egos). \\nFollow at your own risk.', 'url': 'https://t.co/5inJUjAoI2', 'entities': {'url': {'urls': [{'url': 'https://t.co/5inJUjAoI2', 'expanded_url': 'http://KalaBaZay.com', 'display_url': 'KalaBaZay.com', 'indices': [0, 23]}]}, 'description': {'urls': []}}, 'protected': False, 'followers_count': 256, 'friends_count': 437, 'listed_count': 1, 'created_at': 'Sat Aug 18 02:48:38 +0000 2018', 'favourites_count': 23591, 'utc_offset': None, 'time_zone': None, 'geo_enabled': True, 'verified': False, 'statuses_count': 17029, 'lang': None, 'contributors_enabled': False, 'is_translator': False, 'is_translation_enabled': False, 'profile_background_color': 'F5F8FA', 'profile_background_image_url': None, 'profile_background_image_url_https': None, 'profile_background_tile': False, 'profile_image_url': 'http://pbs.twimg.com/profile_images/1249115096183431175/LWyWy6LU_normal.jpg', 'profile_image_url_https': 'https://pbs.twimg.com/profile_images/1249115096183431175/LWyWy6LU_normal.jpg', 'profile_banner_url': 'https://pbs.twimg.com/profile_banners/1030647632157454336/1597259961', 'profile_link_color': '1DA1F2', 'profile_sidebar_border_color': 'C0DEED', 'profile_sidebar_fill_color': 'DDEEF6', 'profile_text_color': '333333', 'profile_use_background_image': True, 'has_extended_profile': False, 'default_profile': True, 'default_profile_image': False, 'following': False, 'follow_request_sent': False, 'notifications': False, 'translator_type': 'none'}, id=1030647632157454336, id_str='1030647632157454336', name='30 Beat Khan', screen_name='Hoo_Carez', location='Pakistan ', description='Muslim, Pakistani, Pukhtun.... (I tweet as muslim but the other three- Pakistani, Pukhtun and Paki+Pukhtun- are my Alter Egos). \\nFollow at your own risk.', url='https://t.co/5inJUjAoI2', entities={'url': {'urls': [{'url': 'https://t.co/5inJUjAoI2', 'expanded_url': 'http://KalaBaZay.com', 'display_url': 'KalaBaZay.com', 'indices': [0, 23]}]}, 'description': {'urls': []}}, protected=False, followers_count=256, friends_count=437, listed_count=1, created_at=datetime.datetime(2018, 8, 18, 2, 48, 38), favourites_count=23591, utc_offset=None, time_zone=None, geo_enabled=True, verified=False, statuses_count=17029, lang=None, contributors_enabled=False, is_translator=False, is_translation_enabled=False, profile_background_color='F5F8FA', profile_background_image_url=None, profile_background_image_url_https=None, profile_background_tile=False, profile_image_url='http://pbs.twimg.com/profile_images/1249115096183431175/LWyWy6LU_normal.jpg', profile_image_url_https='https://pbs.twimg.com/profile_images/1249115096183431175/LWyWy6LU_normal.jpg', profile_banner_url='https://pbs.twimg.com/profile_banners/1030647632157454336/1597259961', profile_link_color='1DA1F2', profile_sidebar_border_color='C0DEED', profile_sidebar_fill_color='DDEEF6', profile_text_color='333333', profile_use_background_image=True, has_extended_profile=False, default_profile=True, default_profile_image=False, following=False, follow_request_sent=False, notifications=False, translator_type='none'), geo=None, coordinates=None, place=None, contributors=None, is_quote_status=False, retweet_count=0, favorite_count=0, favorited=False, retweeted=False, lang='en') \n",
      "\n",
      "........................................\n",
      "\n",
      "Status(_api=<tweepy.api.API object at 0x00000294BF7D1A48>, _json={'created_at': 'Thu Oct 29 13:58:34 +0000 2020', 'id': 1321813680992911360, 'id_str': '1321813680992911360', 'full_text': \"@AbhishBanerj Bihar...After Maharashtra it's the second election where BJP is in an uncomfortable alliance. \\nSimilarly people have contrasting opinion about 2 allies. They wish to vote out one and vote in another. Opposition is simply a vote cutter here. Very very rare situation this is\", 'truncated': False, 'display_text_range': [14, 287], 'entities': {'hashtags': [], 'symbols': [], 'user_mentions': [{'screen_name': 'AbhishBanerj', 'name': 'Abhishek', 'id': 797673785268715521, 'id_str': '797673785268715521', 'indices': [0, 13]}], 'urls': []}, 'metadata': {'iso_language_code': 'en', 'result_type': 'recent'}, 'source': '<a href=\"https://mobile.twitter.com\" rel=\"nofollow\">Twitter Web App</a>', 'in_reply_to_status_id': 1321812918770397184, 'in_reply_to_status_id_str': '1321812918770397184', 'in_reply_to_user_id': 797673785268715521, 'in_reply_to_user_id_str': '797673785268715521', 'in_reply_to_screen_name': 'AbhishBanerj', 'user': {'id': 1218781036898705408, 'id_str': '1218781036898705408', 'name': 'Onc Doc', 'screen_name': 'veeronco', 'location': 'Mumbai, India', 'description': 'AIIMS.. Cancer..Nation...Work in progress...Rest all are details', 'url': None, 'entities': {'description': {'urls': []}}, 'protected': False, 'followers_count': 673, 'friends_count': 296, 'listed_count': 4, 'created_at': 'Sun Jan 19 06:23:53 +0000 2020', 'favourites_count': 4712, 'utc_offset': None, 'time_zone': None, 'geo_enabled': False, 'verified': False, 'statuses_count': 4387, 'lang': None, 'contributors_enabled': False, 'is_translator': False, 'is_translation_enabled': False, 'profile_background_color': 'F5F8FA', 'profile_background_image_url': None, 'profile_background_image_url_https': None, 'profile_background_tile': False, 'profile_image_url': 'http://pbs.twimg.com/profile_images/1296513885042745344/_AOuKD9S_normal.jpg', 'profile_image_url_https': 'https://pbs.twimg.com/profile_images/1296513885042745344/_AOuKD9S_normal.jpg', 'profile_link_color': '1DA1F2', 'profile_sidebar_border_color': 'C0DEED', 'profile_sidebar_fill_color': 'DDEEF6', 'profile_text_color': '333333', 'profile_use_background_image': True, 'has_extended_profile': True, 'default_profile': True, 'default_profile_image': False, 'following': False, 'follow_request_sent': False, 'notifications': False, 'translator_type': 'none'}, 'geo': None, 'coordinates': None, 'place': None, 'contributors': None, 'is_quote_status': False, 'retweet_count': 0, 'favorite_count': 1, 'favorited': False, 'retweeted': False, 'lang': 'en'}, created_at=datetime.datetime(2020, 10, 29, 13, 58, 34), id=1321813680992911360, id_str='1321813680992911360', full_text=\"@AbhishBanerj Bihar...After Maharashtra it's the second election where BJP is in an uncomfortable alliance. \\nSimilarly people have contrasting opinion about 2 allies. They wish to vote out one and vote in another. Opposition is simply a vote cutter here. Very very rare situation this is\", truncated=False, display_text_range=[14, 287], entities={'hashtags': [], 'symbols': [], 'user_mentions': [{'screen_name': 'AbhishBanerj', 'name': 'Abhishek', 'id': 797673785268715521, 'id_str': '797673785268715521', 'indices': [0, 13]}], 'urls': []}, metadata={'iso_language_code': 'en', 'result_type': 'recent'}, source='Twitter Web App', source_url='https://mobile.twitter.com', in_reply_to_status_id=1321812918770397184, in_reply_to_status_id_str='1321812918770397184', in_reply_to_user_id=797673785268715521, in_reply_to_user_id_str='797673785268715521', in_reply_to_screen_name='AbhishBanerj', author=User(_api=<tweepy.api.API object at 0x00000294BF7D1A48>, _json={'id': 1218781036898705408, 'id_str': '1218781036898705408', 'name': 'Onc Doc', 'screen_name': 'veeronco', 'location': 'Mumbai, India', 'description': 'AIIMS.. Cancer..Nation...Work in progress...Rest all are details', 'url': None, 'entities': {'description': {'urls': []}}, 'protected': False, 'followers_count': 673, 'friends_count': 296, 'listed_count': 4, 'created_at': 'Sun Jan 19 06:23:53 +0000 2020', 'favourites_count': 4712, 'utc_offset': None, 'time_zone': None, 'geo_enabled': False, 'verified': False, 'statuses_count': 4387, 'lang': None, 'contributors_enabled': False, 'is_translator': False, 'is_translation_enabled': False, 'profile_background_color': 'F5F8FA', 'profile_background_image_url': None, 'profile_background_image_url_https': None, 'profile_background_tile': False, 'profile_image_url': 'http://pbs.twimg.com/profile_images/1296513885042745344/_AOuKD9S_normal.jpg', 'profile_image_url_https': 'https://pbs.twimg.com/profile_images/1296513885042745344/_AOuKD9S_normal.jpg', 'profile_link_color': '1DA1F2', 'profile_sidebar_border_color': 'C0DEED', 'profile_sidebar_fill_color': 'DDEEF6', 'profile_text_color': '333333', 'profile_use_background_image': True, 'has_extended_profile': True, 'default_profile': True, 'default_profile_image': False, 'following': False, 'follow_request_sent': False, 'notifications': False, 'translator_type': 'none'}, id=1218781036898705408, id_str='1218781036898705408', name='Onc Doc', screen_name='veeronco', location='Mumbai, India', description='AIIMS.. Cancer..Nation...Work in progress...Rest all are details', url=None, entities={'description': {'urls': []}}, protected=False, followers_count=673, friends_count=296, listed_count=4, created_at=datetime.datetime(2020, 1, 19, 6, 23, 53), favourites_count=4712, utc_offset=None, time_zone=None, geo_enabled=False, verified=False, statuses_count=4387, lang=None, contributors_enabled=False, is_translator=False, is_translation_enabled=False, profile_background_color='F5F8FA', profile_background_image_url=None, profile_background_image_url_https=None, profile_background_tile=False, profile_image_url='http://pbs.twimg.com/profile_images/1296513885042745344/_AOuKD9S_normal.jpg', profile_image_url_https='https://pbs.twimg.com/profile_images/1296513885042745344/_AOuKD9S_normal.jpg', profile_link_color='1DA1F2', profile_sidebar_border_color='C0DEED', profile_sidebar_fill_color='DDEEF6', profile_text_color='333333', profile_use_background_image=True, has_extended_profile=True, default_profile=True, default_profile_image=False, following=False, follow_request_sent=False, notifications=False, translator_type='none'), user=User(_api=<tweepy.api.API object at 0x00000294BF7D1A48>, _json={'id': 1218781036898705408, 'id_str': '1218781036898705408', 'name': 'Onc Doc', 'screen_name': 'veeronco', 'location': 'Mumbai, India', 'description': 'AIIMS.. Cancer..Nation...Work in progress...Rest all are details', 'url': None, 'entities': {'description': {'urls': []}}, 'protected': False, 'followers_count': 673, 'friends_count': 296, 'listed_count': 4, 'created_at': 'Sun Jan 19 06:23:53 +0000 2020', 'favourites_count': 4712, 'utc_offset': None, 'time_zone': None, 'geo_enabled': False, 'verified': False, 'statuses_count': 4387, 'lang': None, 'contributors_enabled': False, 'is_translator': False, 'is_translation_enabled': False, 'profile_background_color': 'F5F8FA', 'profile_background_image_url': None, 'profile_background_image_url_https': None, 'profile_background_tile': False, 'profile_image_url': 'http://pbs.twimg.com/profile_images/1296513885042745344/_AOuKD9S_normal.jpg', 'profile_image_url_https': 'https://pbs.twimg.com/profile_images/1296513885042745344/_AOuKD9S_normal.jpg', 'profile_link_color': '1DA1F2', 'profile_sidebar_border_color': 'C0DEED', 'profile_sidebar_fill_color': 'DDEEF6', 'profile_text_color': '333333', 'profile_use_background_image': True, 'has_extended_profile': True, 'default_profile': True, 'default_profile_image': False, 'following': False, 'follow_request_sent': False, 'notifications': False, 'translator_type': 'none'}, id=1218781036898705408, id_str='1218781036898705408', name='Onc Doc', screen_name='veeronco', location='Mumbai, India', description='AIIMS.. Cancer..Nation...Work in progress...Rest all are details', url=None, entities={'description': {'urls': []}}, protected=False, followers_count=673, friends_count=296, listed_count=4, created_at=datetime.datetime(2020, 1, 19, 6, 23, 53), favourites_count=4712, utc_offset=None, time_zone=None, geo_enabled=False, verified=False, statuses_count=4387, lang=None, contributors_enabled=False, is_translator=False, is_translation_enabled=False, profile_background_color='F5F8FA', profile_background_image_url=None, profile_background_image_url_https=None, profile_background_tile=False, profile_image_url='http://pbs.twimg.com/profile_images/1296513885042745344/_AOuKD9S_normal.jpg', profile_image_url_https='https://pbs.twimg.com/profile_images/1296513885042745344/_AOuKD9S_normal.jpg', profile_link_color='1DA1F2', profile_sidebar_border_color='C0DEED', profile_sidebar_fill_color='DDEEF6', profile_text_color='333333', profile_use_background_image=True, has_extended_profile=True, default_profile=True, default_profile_image=False, following=False, follow_request_sent=False, notifications=False, translator_type='none'), geo=None, coordinates=None, place=None, contributors=None, is_quote_status=False, retweet_count=0, favorite_count=1, favorited=False, retweeted=False, lang='en') \n",
      "\n",
      "........................................\n",
      "\n",
      "Status(_api=<tweepy.api.API object at 0x00000294BF7D1A48>, _json={'created_at': 'Thu Oct 29 13:55:20 +0000 2020', 'id': 1321812869944496131, 'id_str': '1321812869944496131', 'full_text': '@MrSinha_ bjp chamche- aarogya setu data, freebies in bihar election, munger blame game in sabse mere lena dena nhi 😂', 'truncated': False, 'display_text_range': [10, 117], 'entities': {'hashtags': [], 'symbols': [], 'user_mentions': [{'screen_name': 'MrSinha_', 'name': 'Mr Sinha', 'id': 1090084079964348419, 'id_str': '1090084079964348419', 'indices': [0, 9]}], 'urls': []}, 'metadata': {'iso_language_code': 'en', 'result_type': 'recent'}, 'source': '<a href=\"http://twitter.com/download/android\" rel=\"nofollow\">Twitter for Android</a>', 'in_reply_to_status_id': 1321811364243976193, 'in_reply_to_status_id_str': '1321811364243976193', 'in_reply_to_user_id': 1090084079964348419, 'in_reply_to_user_id_str': '1090084079964348419', 'in_reply_to_screen_name': 'MrSinha_', 'user': {'id': 1321088349755629570, 'id_str': '1321088349755629570', 'name': 'Bullshot 🌪', 'screen_name': 'abullshot', 'location': 'delhi, Nepal', 'description': 'rationalist •politics •satire• stats• humour🐂', 'url': None, 'entities': {'description': {'urls': []}}, 'protected': False, 'followers_count': 0, 'friends_count': 40, 'listed_count': 0, 'created_at': 'Tue Oct 27 13:56:34 +0000 2020', 'favourites_count': 26, 'utc_offset': None, 'time_zone': None, 'geo_enabled': False, 'verified': False, 'statuses_count': 21, 'lang': None, 'contributors_enabled': False, 'is_translator': False, 'is_translation_enabled': False, 'profile_background_color': 'F5F8FA', 'profile_background_image_url': None, 'profile_background_image_url_https': None, 'profile_background_tile': False, 'profile_image_url': 'http://pbs.twimg.com/profile_images/1321113019347210240/wSKTXjbS_normal.jpg', 'profile_image_url_https': 'https://pbs.twimg.com/profile_images/1321113019347210240/wSKTXjbS_normal.jpg', 'profile_banner_url': 'https://pbs.twimg.com/profile_banners/1321088349755629570/1603812863', 'profile_link_color': '1DA1F2', 'profile_sidebar_border_color': 'C0DEED', 'profile_sidebar_fill_color': 'DDEEF6', 'profile_text_color': '333333', 'profile_use_background_image': True, 'has_extended_profile': True, 'default_profile': True, 'default_profile_image': False, 'following': False, 'follow_request_sent': False, 'notifications': False, 'translator_type': 'none'}, 'geo': None, 'coordinates': None, 'place': None, 'contributors': None, 'is_quote_status': False, 'retweet_count': 0, 'favorite_count': 0, 'favorited': False, 'retweeted': False, 'lang': 'en'}, created_at=datetime.datetime(2020, 10, 29, 13, 55, 20), id=1321812869944496131, id_str='1321812869944496131', full_text='@MrSinha_ bjp chamche- aarogya setu data, freebies in bihar election, munger blame game in sabse mere lena dena nhi 😂', truncated=False, display_text_range=[10, 117], entities={'hashtags': [], 'symbols': [], 'user_mentions': [{'screen_name': 'MrSinha_', 'name': 'Mr Sinha', 'id': 1090084079964348419, 'id_str': '1090084079964348419', 'indices': [0, 9]}], 'urls': []}, metadata={'iso_language_code': 'en', 'result_type': 'recent'}, source='Twitter for Android', source_url='http://twitter.com/download/android', in_reply_to_status_id=1321811364243976193, in_reply_to_status_id_str='1321811364243976193', in_reply_to_user_id=1090084079964348419, in_reply_to_user_id_str='1090084079964348419', in_reply_to_screen_name='MrSinha_', author=User(_api=<tweepy.api.API object at 0x00000294BF7D1A48>, _json={'id': 1321088349755629570, 'id_str': '1321088349755629570', 'name': 'Bullshot 🌪', 'screen_name': 'abullshot', 'location': 'delhi, Nepal', 'description': 'rationalist •politics •satire• stats• humour🐂', 'url': None, 'entities': {'description': {'urls': []}}, 'protected': False, 'followers_count': 0, 'friends_count': 40, 'listed_count': 0, 'created_at': 'Tue Oct 27 13:56:34 +0000 2020', 'favourites_count': 26, 'utc_offset': None, 'time_zone': None, 'geo_enabled': False, 'verified': False, 'statuses_count': 21, 'lang': None, 'contributors_enabled': False, 'is_translator': False, 'is_translation_enabled': False, 'profile_background_color': 'F5F8FA', 'profile_background_image_url': None, 'profile_background_image_url_https': None, 'profile_background_tile': False, 'profile_image_url': 'http://pbs.twimg.com/profile_images/1321113019347210240/wSKTXjbS_normal.jpg', 'profile_image_url_https': 'https://pbs.twimg.com/profile_images/1321113019347210240/wSKTXjbS_normal.jpg', 'profile_banner_url': 'https://pbs.twimg.com/profile_banners/1321088349755629570/1603812863', 'profile_link_color': '1DA1F2', 'profile_sidebar_border_color': 'C0DEED', 'profile_sidebar_fill_color': 'DDEEF6', 'profile_text_color': '333333', 'profile_use_background_image': True, 'has_extended_profile': True, 'default_profile': True, 'default_profile_image': False, 'following': False, 'follow_request_sent': False, 'notifications': False, 'translator_type': 'none'}, id=1321088349755629570, id_str='1321088349755629570', name='Bullshot 🌪', screen_name='abullshot', location='delhi, Nepal', description='rationalist •politics •satire• stats• humour🐂', url=None, entities={'description': {'urls': []}}, protected=False, followers_count=0, friends_count=40, listed_count=0, created_at=datetime.datetime(2020, 10, 27, 13, 56, 34), favourites_count=26, utc_offset=None, time_zone=None, geo_enabled=False, verified=False, statuses_count=21, lang=None, contributors_enabled=False, is_translator=False, is_translation_enabled=False, profile_background_color='F5F8FA', profile_background_image_url=None, profile_background_image_url_https=None, profile_background_tile=False, profile_image_url='http://pbs.twimg.com/profile_images/1321113019347210240/wSKTXjbS_normal.jpg', profile_image_url_https='https://pbs.twimg.com/profile_images/1321113019347210240/wSKTXjbS_normal.jpg', profile_banner_url='https://pbs.twimg.com/profile_banners/1321088349755629570/1603812863', profile_link_color='1DA1F2', profile_sidebar_border_color='C0DEED', profile_sidebar_fill_color='DDEEF6', profile_text_color='333333', profile_use_background_image=True, has_extended_profile=True, default_profile=True, default_profile_image=False, following=False, follow_request_sent=False, notifications=False, translator_type='none'), user=User(_api=<tweepy.api.API object at 0x00000294BF7D1A48>, _json={'id': 1321088349755629570, 'id_str': '1321088349755629570', 'name': 'Bullshot 🌪', 'screen_name': 'abullshot', 'location': 'delhi, Nepal', 'description': 'rationalist •politics •satire• stats• humour🐂', 'url': None, 'entities': {'description': {'urls': []}}, 'protected': False, 'followers_count': 0, 'friends_count': 40, 'listed_count': 0, 'created_at': 'Tue Oct 27 13:56:34 +0000 2020', 'favourites_count': 26, 'utc_offset': None, 'time_zone': None, 'geo_enabled': False, 'verified': False, 'statuses_count': 21, 'lang': None, 'contributors_enabled': False, 'is_translator': False, 'is_translation_enabled': False, 'profile_background_color': 'F5F8FA', 'profile_background_image_url': None, 'profile_background_image_url_https': None, 'profile_background_tile': False, 'profile_image_url': 'http://pbs.twimg.com/profile_images/1321113019347210240/wSKTXjbS_normal.jpg', 'profile_image_url_https': 'https://pbs.twimg.com/profile_images/1321113019347210240/wSKTXjbS_normal.jpg', 'profile_banner_url': 'https://pbs.twimg.com/profile_banners/1321088349755629570/1603812863', 'profile_link_color': '1DA1F2', 'profile_sidebar_border_color': 'C0DEED', 'profile_sidebar_fill_color': 'DDEEF6', 'profile_text_color': '333333', 'profile_use_background_image': True, 'has_extended_profile': True, 'default_profile': True, 'default_profile_image': False, 'following': False, 'follow_request_sent': False, 'notifications': False, 'translator_type': 'none'}, id=1321088349755629570, id_str='1321088349755629570', name='Bullshot 🌪', screen_name='abullshot', location='delhi, Nepal', description='rationalist •politics •satire• stats• humour🐂', url=None, entities={'description': {'urls': []}}, protected=False, followers_count=0, friends_count=40, listed_count=0, created_at=datetime.datetime(2020, 10, 27, 13, 56, 34), favourites_count=26, utc_offset=None, time_zone=None, geo_enabled=False, verified=False, statuses_count=21, lang=None, contributors_enabled=False, is_translator=False, is_translation_enabled=False, profile_background_color='F5F8FA', profile_background_image_url=None, profile_background_image_url_https=None, profile_background_tile=False, profile_image_url='http://pbs.twimg.com/profile_images/1321113019347210240/wSKTXjbS_normal.jpg', profile_image_url_https='https://pbs.twimg.com/profile_images/1321113019347210240/wSKTXjbS_normal.jpg', profile_banner_url='https://pbs.twimg.com/profile_banners/1321088349755629570/1603812863', profile_link_color='1DA1F2', profile_sidebar_border_color='C0DEED', profile_sidebar_fill_color='DDEEF6', profile_text_color='333333', profile_use_background_image=True, has_extended_profile=True, default_profile=True, default_profile_image=False, following=False, follow_request_sent=False, notifications=False, translator_type='none'), geo=None, coordinates=None, place=None, contributors=None, is_quote_status=False, retweet_count=0, favorite_count=0, favorited=False, retweeted=False, lang='en') \n",
      "\n",
      "........................................\n",
      "\n",
      "Status(_api=<tweepy.api.API object at 0x00000294BF7D1A48>, _json={'created_at': 'Thu Oct 29 13:46:33 +0000 2020', 'id': 1321810658258788352, 'id_str': '1321810658258788352', 'full_text': '@the_hindu @fawadchaudhry Thanks for helping BJP in winning the bihar and kolkata election. Love from Raveena.', 'truncated': False, 'display_text_range': [11, 110], 'entities': {'hashtags': [], 'symbols': [], 'user_mentions': [{'screen_name': 'the_hindu', 'name': 'The Hindu', 'id': 20751449, 'id_str': '20751449', 'indices': [0, 10]}, {'screen_name': 'fawadchaudhry', 'name': 'Ch Fawad Hussain', 'id': 113286385, 'id_str': '113286385', 'indices': [11, 25]}], 'urls': []}, 'metadata': {'iso_language_code': 'en', 'result_type': 'recent'}, 'source': '<a href=\"https://mobile.twitter.com\" rel=\"nofollow\">Twitter Web App</a>', 'in_reply_to_status_id': 1321809648807223298, 'in_reply_to_status_id_str': '1321809648807223298', 'in_reply_to_user_id': 20751449, 'in_reply_to_user_id_str': '20751449', 'in_reply_to_screen_name': 'the_hindu', 'user': {'id': 740529984775852034, 'id_str': '740529984775852034', 'name': 'PV', 'screen_name': 'pshvarshney803', 'location': 'New Delhi, India', 'description': '', 'url': None, 'entities': {'description': {'urls': []}}, 'protected': False, 'followers_count': 44, 'friends_count': 182, 'listed_count': 0, 'created_at': 'Wed Jun 08 13:04:41 +0000 2016', 'favourites_count': 3153, 'utc_offset': None, 'time_zone': None, 'geo_enabled': False, 'verified': False, 'statuses_count': 1142, 'lang': None, 'contributors_enabled': False, 'is_translator': False, 'is_translation_enabled': False, 'profile_background_color': 'F5F8FA', 'profile_background_image_url': None, 'profile_background_image_url_https': None, 'profile_background_tile': False, 'profile_image_url': 'http://pbs.twimg.com/profile_images/1320072940105265152/vwVXpVb5_normal.jpg', 'profile_image_url_https': 'https://pbs.twimg.com/profile_images/1320072940105265152/vwVXpVb5_normal.jpg', 'profile_banner_url': 'https://pbs.twimg.com/profile_banners/740529984775852034/1600249508', 'profile_link_color': '1DA1F2', 'profile_sidebar_border_color': 'C0DEED', 'profile_sidebar_fill_color': 'DDEEF6', 'profile_text_color': '333333', 'profile_use_background_image': True, 'has_extended_profile': True, 'default_profile': True, 'default_profile_image': False, 'following': False, 'follow_request_sent': False, 'notifications': False, 'translator_type': 'none'}, 'geo': None, 'coordinates': None, 'place': None, 'contributors': None, 'is_quote_status': False, 'retweet_count': 0, 'favorite_count': 1, 'favorited': False, 'retweeted': False, 'lang': 'en'}, created_at=datetime.datetime(2020, 10, 29, 13, 46, 33), id=1321810658258788352, id_str='1321810658258788352', full_text='@the_hindu @fawadchaudhry Thanks for helping BJP in winning the bihar and kolkata election. Love from Raveena.', truncated=False, display_text_range=[11, 110], entities={'hashtags': [], 'symbols': [], 'user_mentions': [{'screen_name': 'the_hindu', 'name': 'The Hindu', 'id': 20751449, 'id_str': '20751449', 'indices': [0, 10]}, {'screen_name': 'fawadchaudhry', 'name': 'Ch Fawad Hussain', 'id': 113286385, 'id_str': '113286385', 'indices': [11, 25]}], 'urls': []}, metadata={'iso_language_code': 'en', 'result_type': 'recent'}, source='Twitter Web App', source_url='https://mobile.twitter.com', in_reply_to_status_id=1321809648807223298, in_reply_to_status_id_str='1321809648807223298', in_reply_to_user_id=20751449, in_reply_to_user_id_str='20751449', in_reply_to_screen_name='the_hindu', author=User(_api=<tweepy.api.API object at 0x00000294BF7D1A48>, _json={'id': 740529984775852034, 'id_str': '740529984775852034', 'name': 'PV', 'screen_name': 'pshvarshney803', 'location': 'New Delhi, India', 'description': '', 'url': None, 'entities': {'description': {'urls': []}}, 'protected': False, 'followers_count': 44, 'friends_count': 182, 'listed_count': 0, 'created_at': 'Wed Jun 08 13:04:41 +0000 2016', 'favourites_count': 3153, 'utc_offset': None, 'time_zone': None, 'geo_enabled': False, 'verified': False, 'statuses_count': 1142, 'lang': None, 'contributors_enabled': False, 'is_translator': False, 'is_translation_enabled': False, 'profile_background_color': 'F5F8FA', 'profile_background_image_url': None, 'profile_background_image_url_https': None, 'profile_background_tile': False, 'profile_image_url': 'http://pbs.twimg.com/profile_images/1320072940105265152/vwVXpVb5_normal.jpg', 'profile_image_url_https': 'https://pbs.twimg.com/profile_images/1320072940105265152/vwVXpVb5_normal.jpg', 'profile_banner_url': 'https://pbs.twimg.com/profile_banners/740529984775852034/1600249508', 'profile_link_color': '1DA1F2', 'profile_sidebar_border_color': 'C0DEED', 'profile_sidebar_fill_color': 'DDEEF6', 'profile_text_color': '333333', 'profile_use_background_image': True, 'has_extended_profile': True, 'default_profile': True, 'default_profile_image': False, 'following': False, 'follow_request_sent': False, 'notifications': False, 'translator_type': 'none'}, id=740529984775852034, id_str='740529984775852034', name='PV', screen_name='pshvarshney803', location='New Delhi, India', description='', url=None, entities={'description': {'urls': []}}, protected=False, followers_count=44, friends_count=182, listed_count=0, created_at=datetime.datetime(2016, 6, 8, 13, 4, 41), favourites_count=3153, utc_offset=None, time_zone=None, geo_enabled=False, verified=False, statuses_count=1142, lang=None, contributors_enabled=False, is_translator=False, is_translation_enabled=False, profile_background_color='F5F8FA', profile_background_image_url=None, profile_background_image_url_https=None, profile_background_tile=False, profile_image_url='http://pbs.twimg.com/profile_images/1320072940105265152/vwVXpVb5_normal.jpg', profile_image_url_https='https://pbs.twimg.com/profile_images/1320072940105265152/vwVXpVb5_normal.jpg', profile_banner_url='https://pbs.twimg.com/profile_banners/740529984775852034/1600249508', profile_link_color='1DA1F2', profile_sidebar_border_color='C0DEED', profile_sidebar_fill_color='DDEEF6', profile_text_color='333333', profile_use_background_image=True, has_extended_profile=True, default_profile=True, default_profile_image=False, following=False, follow_request_sent=False, notifications=False, translator_type='none'), user=User(_api=<tweepy.api.API object at 0x00000294BF7D1A48>, _json={'id': 740529984775852034, 'id_str': '740529984775852034', 'name': 'PV', 'screen_name': 'pshvarshney803', 'location': 'New Delhi, India', 'description': '', 'url': None, 'entities': {'description': {'urls': []}}, 'protected': False, 'followers_count': 44, 'friends_count': 182, 'listed_count': 0, 'created_at': 'Wed Jun 08 13:04:41 +0000 2016', 'favourites_count': 3153, 'utc_offset': None, 'time_zone': None, 'geo_enabled': False, 'verified': False, 'statuses_count': 1142, 'lang': None, 'contributors_enabled': False, 'is_translator': False, 'is_translation_enabled': False, 'profile_background_color': 'F5F8FA', 'profile_background_image_url': None, 'profile_background_image_url_https': None, 'profile_background_tile': False, 'profile_image_url': 'http://pbs.twimg.com/profile_images/1320072940105265152/vwVXpVb5_normal.jpg', 'profile_image_url_https': 'https://pbs.twimg.com/profile_images/1320072940105265152/vwVXpVb5_normal.jpg', 'profile_banner_url': 'https://pbs.twimg.com/profile_banners/740529984775852034/1600249508', 'profile_link_color': '1DA1F2', 'profile_sidebar_border_color': 'C0DEED', 'profile_sidebar_fill_color': 'DDEEF6', 'profile_text_color': '333333', 'profile_use_background_image': True, 'has_extended_profile': True, 'default_profile': True, 'default_profile_image': False, 'following': False, 'follow_request_sent': False, 'notifications': False, 'translator_type': 'none'}, id=740529984775852034, id_str='740529984775852034', name='PV', screen_name='pshvarshney803', location='New Delhi, India', description='', url=None, entities={'description': {'urls': []}}, protected=False, followers_count=44, friends_count=182, listed_count=0, created_at=datetime.datetime(2016, 6, 8, 13, 4, 41), favourites_count=3153, utc_offset=None, time_zone=None, geo_enabled=False, verified=False, statuses_count=1142, lang=None, contributors_enabled=False, is_translator=False, is_translation_enabled=False, profile_background_color='F5F8FA', profile_background_image_url=None, profile_background_image_url_https=None, profile_background_tile=False, profile_image_url='http://pbs.twimg.com/profile_images/1320072940105265152/vwVXpVb5_normal.jpg', profile_image_url_https='https://pbs.twimg.com/profile_images/1320072940105265152/vwVXpVb5_normal.jpg', profile_banner_url='https://pbs.twimg.com/profile_banners/740529984775852034/1600249508', profile_link_color='1DA1F2', profile_sidebar_border_color='C0DEED', profile_sidebar_fill_color='DDEEF6', profile_text_color='333333', profile_use_background_image=True, has_extended_profile=True, default_profile=True, default_profile_image=False, following=False, follow_request_sent=False, notifications=False, translator_type='none'), geo=None, coordinates=None, place=None, contributors=None, is_quote_status=False, retweet_count=0, favorite_count=1, favorited=False, retweeted=False, lang='en') \n",
      "\n",
      "........................................\n",
      "\n",
      "Status(_api=<tweepy.api.API object at 0x00000294BF7D1A48>, _json={'created_at': 'Thu Oct 29 13:38:02 +0000 2020', 'id': 1321808515481006081, 'id_str': '1321808515481006081', 'full_text': '@_sabanaqvi @yadavtejashwi In bihar election is sum of caste. no matter how brilliant or intelligent  you are if your cast is not more in numbers you are going to loose.And caste asthmatic is in favour of bjp jdu so dont go overboard lest u eat crow biryani afterwards .', 'truncated': False, 'display_text_range': [27, 270], 'entities': {'hashtags': [], 'symbols': [], 'user_mentions': [{'screen_name': '_sabanaqvi', 'name': 'Saba Naqvi', 'id': 1019469630, 'id_str': '1019469630', 'indices': [0, 11]}, {'screen_name': 'yadavtejashwi', 'name': 'Tejashwi Yadav', 'id': 2253148681, 'id_str': '2253148681', 'indices': [12, 26]}], 'urls': []}, 'metadata': {'iso_language_code': 'en', 'result_type': 'recent'}, 'source': '<a href=\"http://twitter.com/download/android\" rel=\"nofollow\">Twitter for Android</a>', 'in_reply_to_status_id': 1321806937856462848, 'in_reply_to_status_id_str': '1321806937856462848', 'in_reply_to_user_id': 1019469630, 'in_reply_to_user_id_str': '1019469630', 'in_reply_to_screen_name': '_sabanaqvi', 'user': {'id': 1171328563607326720, 'id_str': '1171328563607326720', 'name': 'Sanjaysrinagar', 'screen_name': 'sanjaysonmarg', 'location': 'Srinagar, India', 'description': 'Ex bjpian now only https://t.co/SAjnTv3Qan my country.RTs are endorsement.Hindi Hindu Hindustan.Yogi ji n bjp in 2024.ByecottChineseGoods.CopycatChina.', 'url': None, 'entities': {'description': {'urls': [{'url': 'https://t.co/SAjnTv3Qan', 'expanded_url': 'http://Hindu.love', 'display_url': 'Hindu.love', 'indices': [19, 42]}]}}, 'protected': False, 'followers_count': 671, 'friends_count': 1475, 'listed_count': 0, 'created_at': 'Tue Sep 10 07:45:04 +0000 2019', 'favourites_count': 3524, 'utc_offset': None, 'time_zone': None, 'geo_enabled': False, 'verified': False, 'statuses_count': 10988, 'lang': None, 'contributors_enabled': False, 'is_translator': False, 'is_translation_enabled': False, 'profile_background_color': 'F5F8FA', 'profile_background_image_url': None, 'profile_background_image_url_https': None, 'profile_background_tile': False, 'profile_image_url': 'http://pbs.twimg.com/profile_images/1183201635981332480/-2i_FEsx_normal.jpg', 'profile_image_url_https': 'https://pbs.twimg.com/profile_images/1183201635981332480/-2i_FEsx_normal.jpg', 'profile_banner_url': 'https://pbs.twimg.com/profile_banners/1171328563607326720/1577706458', 'profile_link_color': '1DA1F2', 'profile_sidebar_border_color': 'C0DEED', 'profile_sidebar_fill_color': 'DDEEF6', 'profile_text_color': '333333', 'profile_use_background_image': True, 'has_extended_profile': False, 'default_profile': True, 'default_profile_image': False, 'following': False, 'follow_request_sent': False, 'notifications': False, 'translator_type': 'none'}, 'geo': None, 'coordinates': None, 'place': None, 'contributors': None, 'is_quote_status': False, 'retweet_count': 0, 'favorite_count': 0, 'favorited': False, 'retweeted': False, 'lang': 'en'}, created_at=datetime.datetime(2020, 10, 29, 13, 38, 2), id=1321808515481006081, id_str='1321808515481006081', full_text='@_sabanaqvi @yadavtejashwi In bihar election is sum of caste. no matter how brilliant or intelligent  you are if your cast is not more in numbers you are going to loose.And caste asthmatic is in favour of bjp jdu so dont go overboard lest u eat crow biryani afterwards .', truncated=False, display_text_range=[27, 270], entities={'hashtags': [], 'symbols': [], 'user_mentions': [{'screen_name': '_sabanaqvi', 'name': 'Saba Naqvi', 'id': 1019469630, 'id_str': '1019469630', 'indices': [0, 11]}, {'screen_name': 'yadavtejashwi', 'name': 'Tejashwi Yadav', 'id': 2253148681, 'id_str': '2253148681', 'indices': [12, 26]}], 'urls': []}, metadata={'iso_language_code': 'en', 'result_type': 'recent'}, source='Twitter for Android', source_url='http://twitter.com/download/android', in_reply_to_status_id=1321806937856462848, in_reply_to_status_id_str='1321806937856462848', in_reply_to_user_id=1019469630, in_reply_to_user_id_str='1019469630', in_reply_to_screen_name='_sabanaqvi', author=User(_api=<tweepy.api.API object at 0x00000294BF7D1A48>, _json={'id': 1171328563607326720, 'id_str': '1171328563607326720', 'name': 'Sanjaysrinagar', 'screen_name': 'sanjaysonmarg', 'location': 'Srinagar, India', 'description': 'Ex bjpian now only https://t.co/SAjnTv3Qan my country.RTs are endorsement.Hindi Hindu Hindustan.Yogi ji n bjp in 2024.ByecottChineseGoods.CopycatChina.', 'url': None, 'entities': {'description': {'urls': [{'url': 'https://t.co/SAjnTv3Qan', 'expanded_url': 'http://Hindu.love', 'display_url': 'Hindu.love', 'indices': [19, 42]}]}}, 'protected': False, 'followers_count': 671, 'friends_count': 1475, 'listed_count': 0, 'created_at': 'Tue Sep 10 07:45:04 +0000 2019', 'favourites_count': 3524, 'utc_offset': None, 'time_zone': None, 'geo_enabled': False, 'verified': False, 'statuses_count': 10988, 'lang': None, 'contributors_enabled': False, 'is_translator': False, 'is_translation_enabled': False, 'profile_background_color': 'F5F8FA', 'profile_background_image_url': None, 'profile_background_image_url_https': None, 'profile_background_tile': False, 'profile_image_url': 'http://pbs.twimg.com/profile_images/1183201635981332480/-2i_FEsx_normal.jpg', 'profile_image_url_https': 'https://pbs.twimg.com/profile_images/1183201635981332480/-2i_FEsx_normal.jpg', 'profile_banner_url': 'https://pbs.twimg.com/profile_banners/1171328563607326720/1577706458', 'profile_link_color': '1DA1F2', 'profile_sidebar_border_color': 'C0DEED', 'profile_sidebar_fill_color': 'DDEEF6', 'profile_text_color': '333333', 'profile_use_background_image': True, 'has_extended_profile': False, 'default_profile': True, 'default_profile_image': False, 'following': False, 'follow_request_sent': False, 'notifications': False, 'translator_type': 'none'}, id=1171328563607326720, id_str='1171328563607326720', name='Sanjaysrinagar', screen_name='sanjaysonmarg', location='Srinagar, India', description='Ex bjpian now only https://t.co/SAjnTv3Qan my country.RTs are endorsement.Hindi Hindu Hindustan.Yogi ji n bjp in 2024.ByecottChineseGoods.CopycatChina.', url=None, entities={'description': {'urls': [{'url': 'https://t.co/SAjnTv3Qan', 'expanded_url': 'http://Hindu.love', 'display_url': 'Hindu.love', 'indices': [19, 42]}]}}, protected=False, followers_count=671, friends_count=1475, listed_count=0, created_at=datetime.datetime(2019, 9, 10, 7, 45, 4), favourites_count=3524, utc_offset=None, time_zone=None, geo_enabled=False, verified=False, statuses_count=10988, lang=None, contributors_enabled=False, is_translator=False, is_translation_enabled=False, profile_background_color='F5F8FA', profile_background_image_url=None, profile_background_image_url_https=None, profile_background_tile=False, profile_image_url='http://pbs.twimg.com/profile_images/1183201635981332480/-2i_FEsx_normal.jpg', profile_image_url_https='https://pbs.twimg.com/profile_images/1183201635981332480/-2i_FEsx_normal.jpg', profile_banner_url='https://pbs.twimg.com/profile_banners/1171328563607326720/1577706458', profile_link_color='1DA1F2', profile_sidebar_border_color='C0DEED', profile_sidebar_fill_color='DDEEF6', profile_text_color='333333', profile_use_background_image=True, has_extended_profile=False, default_profile=True, default_profile_image=False, following=False, follow_request_sent=False, notifications=False, translator_type='none'), user=User(_api=<tweepy.api.API object at 0x00000294BF7D1A48>, _json={'id': 1171328563607326720, 'id_str': '1171328563607326720', 'name': 'Sanjaysrinagar', 'screen_name': 'sanjaysonmarg', 'location': 'Srinagar, India', 'description': 'Ex bjpian now only https://t.co/SAjnTv3Qan my country.RTs are endorsement.Hindi Hindu Hindustan.Yogi ji n bjp in 2024.ByecottChineseGoods.CopycatChina.', 'url': None, 'entities': {'description': {'urls': [{'url': 'https://t.co/SAjnTv3Qan', 'expanded_url': 'http://Hindu.love', 'display_url': 'Hindu.love', 'indices': [19, 42]}]}}, 'protected': False, 'followers_count': 671, 'friends_count': 1475, 'listed_count': 0, 'created_at': 'Tue Sep 10 07:45:04 +0000 2019', 'favourites_count': 3524, 'utc_offset': None, 'time_zone': None, 'geo_enabled': False, 'verified': False, 'statuses_count': 10988, 'lang': None, 'contributors_enabled': False, 'is_translator': False, 'is_translation_enabled': False, 'profile_background_color': 'F5F8FA', 'profile_background_image_url': None, 'profile_background_image_url_https': None, 'profile_background_tile': False, 'profile_image_url': 'http://pbs.twimg.com/profile_images/1183201635981332480/-2i_FEsx_normal.jpg', 'profile_image_url_https': 'https://pbs.twimg.com/profile_images/1183201635981332480/-2i_FEsx_normal.jpg', 'profile_banner_url': 'https://pbs.twimg.com/profile_banners/1171328563607326720/1577706458', 'profile_link_color': '1DA1F2', 'profile_sidebar_border_color': 'C0DEED', 'profile_sidebar_fill_color': 'DDEEF6', 'profile_text_color': '333333', 'profile_use_background_image': True, 'has_extended_profile': False, 'default_profile': True, 'default_profile_image': False, 'following': False, 'follow_request_sent': False, 'notifications': False, 'translator_type': 'none'}, id=1171328563607326720, id_str='1171328563607326720', name='Sanjaysrinagar', screen_name='sanjaysonmarg', location='Srinagar, India', description='Ex bjpian now only https://t.co/SAjnTv3Qan my country.RTs are endorsement.Hindi Hindu Hindustan.Yogi ji n bjp in 2024.ByecottChineseGoods.CopycatChina.', url=None, entities={'description': {'urls': [{'url': 'https://t.co/SAjnTv3Qan', 'expanded_url': 'http://Hindu.love', 'display_url': 'Hindu.love', 'indices': [19, 42]}]}}, protected=False, followers_count=671, friends_count=1475, listed_count=0, created_at=datetime.datetime(2019, 9, 10, 7, 45, 4), favourites_count=3524, utc_offset=None, time_zone=None, geo_enabled=False, verified=False, statuses_count=10988, lang=None, contributors_enabled=False, is_translator=False, is_translation_enabled=False, profile_background_color='F5F8FA', profile_background_image_url=None, profile_background_image_url_https=None, profile_background_tile=False, profile_image_url='http://pbs.twimg.com/profile_images/1183201635981332480/-2i_FEsx_normal.jpg', profile_image_url_https='https://pbs.twimg.com/profile_images/1183201635981332480/-2i_FEsx_normal.jpg', profile_banner_url='https://pbs.twimg.com/profile_banners/1171328563607326720/1577706458', profile_link_color='1DA1F2', profile_sidebar_border_color='C0DEED', profile_sidebar_fill_color='DDEEF6', profile_text_color='333333', profile_use_background_image=True, has_extended_profile=False, default_profile=True, default_profile_image=False, following=False, follow_request_sent=False, notifications=False, translator_type='none'), geo=None, coordinates=None, place=None, contributors=None, is_quote_status=False, retweet_count=0, favorite_count=0, favorited=False, retweeted=False, lang='en') \n",
      "\n",
      "........................................\n",
      "\n",
      "Status(_api=<tweepy.api.API object at 0x00000294BF7D1A48>, _json={'created_at': 'Thu Oct 29 13:35:49 +0000 2020', 'id': 1321807955482738688, 'id_str': '1321807955482738688', 'full_text': '@fayedsouza When Indian intelligence failed to prove Pakistan role in Pulwama, Pakistan Half mind Minister finally admit the crime. This is absolutely shocking. This is an example of state sponsored terrorism. V CONDEMNS IT STRONGLY. \\nBTW this will help BJP in Bihar election.', 'truncated': False, 'display_text_range': [12, 276], 'entities': {'hashtags': [], 'symbols': [], 'user_mentions': [{'screen_name': 'fayedsouza', 'name': 'Faye DSouza', 'id': 33915298, 'id_str': '33915298', 'indices': [0, 11]}], 'urls': []}, 'metadata': {'iso_language_code': 'en', 'result_type': 'recent'}, 'source': '<a href=\"http://twitter.com/download/android\" rel=\"nofollow\">Twitter for Android</a>', 'in_reply_to_status_id': 1321806640862044160, 'in_reply_to_status_id_str': '1321806640862044160', 'in_reply_to_user_id': 33915298, 'in_reply_to_user_id_str': '33915298', 'in_reply_to_screen_name': 'fayedsouza', 'user': {'id': 1130961047261655040, 'id_str': '1130961047261655040', 'name': 'Murtaza Shakiri', 'screen_name': 'ShakiriMurtaza', 'location': 'Kargil, Jammu And Kashmir', 'description': 'These are my opinions. Not necessarily shared by reasonable-minded people nor my benevolent corporate overlords.\\n\\nViews are personal/ RT are not endorsement...', 'url': None, 'entities': {'description': {'urls': []}}, 'protected': False, 'followers_count': 81, 'friends_count': 294, 'listed_count': 0, 'created_at': 'Tue May 21 22:18:20 +0000 2019', 'favourites_count': 6825, 'utc_offset': None, 'time_zone': None, 'geo_enabled': True, 'verified': False, 'statuses_count': 334, 'lang': None, 'contributors_enabled': False, 'is_translator': False, 'is_translation_enabled': False, 'profile_background_color': 'F5F8FA', 'profile_background_image_url': None, 'profile_background_image_url_https': None, 'profile_background_tile': False, 'profile_image_url': 'http://pbs.twimg.com/profile_images/1311280240975437824/4okYdk8P_normal.jpg', 'profile_image_url_https': 'https://pbs.twimg.com/profile_images/1311280240975437824/4okYdk8P_normal.jpg', 'profile_banner_url': 'https://pbs.twimg.com/profile_banners/1130961047261655040/1601468545', 'profile_link_color': '1DA1F2', 'profile_sidebar_border_color': 'C0DEED', 'profile_sidebar_fill_color': 'DDEEF6', 'profile_text_color': '333333', 'profile_use_background_image': True, 'has_extended_profile': False, 'default_profile': True, 'default_profile_image': False, 'following': False, 'follow_request_sent': False, 'notifications': False, 'translator_type': 'none'}, 'geo': None, 'coordinates': None, 'place': None, 'contributors': None, 'is_quote_status': False, 'retweet_count': 0, 'favorite_count': 4, 'favorited': False, 'retweeted': False, 'lang': 'en'}, created_at=datetime.datetime(2020, 10, 29, 13, 35, 49), id=1321807955482738688, id_str='1321807955482738688', full_text='@fayedsouza When Indian intelligence failed to prove Pakistan role in Pulwama, Pakistan Half mind Minister finally admit the crime. This is absolutely shocking. This is an example of state sponsored terrorism. V CONDEMNS IT STRONGLY. \\nBTW this will help BJP in Bihar election.', truncated=False, display_text_range=[12, 276], entities={'hashtags': [], 'symbols': [], 'user_mentions': [{'screen_name': 'fayedsouza', 'name': 'Faye DSouza', 'id': 33915298, 'id_str': '33915298', 'indices': [0, 11]}], 'urls': []}, metadata={'iso_language_code': 'en', 'result_type': 'recent'}, source='Twitter for Android', source_url='http://twitter.com/download/android', in_reply_to_status_id=1321806640862044160, in_reply_to_status_id_str='1321806640862044160', in_reply_to_user_id=33915298, in_reply_to_user_id_str='33915298', in_reply_to_screen_name='fayedsouza', author=User(_api=<tweepy.api.API object at 0x00000294BF7D1A48>, _json={'id': 1130961047261655040, 'id_str': '1130961047261655040', 'name': 'Murtaza Shakiri', 'screen_name': 'ShakiriMurtaza', 'location': 'Kargil, Jammu And Kashmir', 'description': 'These are my opinions. Not necessarily shared by reasonable-minded people nor my benevolent corporate overlords.\\n\\nViews are personal/ RT are not endorsement...', 'url': None, 'entities': {'description': {'urls': []}}, 'protected': False, 'followers_count': 81, 'friends_count': 294, 'listed_count': 0, 'created_at': 'Tue May 21 22:18:20 +0000 2019', 'favourites_count': 6825, 'utc_offset': None, 'time_zone': None, 'geo_enabled': True, 'verified': False, 'statuses_count': 334, 'lang': None, 'contributors_enabled': False, 'is_translator': False, 'is_translation_enabled': False, 'profile_background_color': 'F5F8FA', 'profile_background_image_url': None, 'profile_background_image_url_https': None, 'profile_background_tile': False, 'profile_image_url': 'http://pbs.twimg.com/profile_images/1311280240975437824/4okYdk8P_normal.jpg', 'profile_image_url_https': 'https://pbs.twimg.com/profile_images/1311280240975437824/4okYdk8P_normal.jpg', 'profile_banner_url': 'https://pbs.twimg.com/profile_banners/1130961047261655040/1601468545', 'profile_link_color': '1DA1F2', 'profile_sidebar_border_color': 'C0DEED', 'profile_sidebar_fill_color': 'DDEEF6', 'profile_text_color': '333333', 'profile_use_background_image': True, 'has_extended_profile': False, 'default_profile': True, 'default_profile_image': False, 'following': False, 'follow_request_sent': False, 'notifications': False, 'translator_type': 'none'}, id=1130961047261655040, id_str='1130961047261655040', name='Murtaza Shakiri', screen_name='ShakiriMurtaza', location='Kargil, Jammu And Kashmir', description='These are my opinions. Not necessarily shared by reasonable-minded people nor my benevolent corporate overlords.\\n\\nViews are personal/ RT are not endorsement...', url=None, entities={'description': {'urls': []}}, protected=False, followers_count=81, friends_count=294, listed_count=0, created_at=datetime.datetime(2019, 5, 21, 22, 18, 20), favourites_count=6825, utc_offset=None, time_zone=None, geo_enabled=True, verified=False, statuses_count=334, lang=None, contributors_enabled=False, is_translator=False, is_translation_enabled=False, profile_background_color='F5F8FA', profile_background_image_url=None, profile_background_image_url_https=None, profile_background_tile=False, profile_image_url='http://pbs.twimg.com/profile_images/1311280240975437824/4okYdk8P_normal.jpg', profile_image_url_https='https://pbs.twimg.com/profile_images/1311280240975437824/4okYdk8P_normal.jpg', profile_banner_url='https://pbs.twimg.com/profile_banners/1130961047261655040/1601468545', profile_link_color='1DA1F2', profile_sidebar_border_color='C0DEED', profile_sidebar_fill_color='DDEEF6', profile_text_color='333333', profile_use_background_image=True, has_extended_profile=False, default_profile=True, default_profile_image=False, following=False, follow_request_sent=False, notifications=False, translator_type='none'), user=User(_api=<tweepy.api.API object at 0x00000294BF7D1A48>, _json={'id': 1130961047261655040, 'id_str': '1130961047261655040', 'name': 'Murtaza Shakiri', 'screen_name': 'ShakiriMurtaza', 'location': 'Kargil, Jammu And Kashmir', 'description': 'These are my opinions. Not necessarily shared by reasonable-minded people nor my benevolent corporate overlords.\\n\\nViews are personal/ RT are not endorsement...', 'url': None, 'entities': {'description': {'urls': []}}, 'protected': False, 'followers_count': 81, 'friends_count': 294, 'listed_count': 0, 'created_at': 'Tue May 21 22:18:20 +0000 2019', 'favourites_count': 6825, 'utc_offset': None, 'time_zone': None, 'geo_enabled': True, 'verified': False, 'statuses_count': 334, 'lang': None, 'contributors_enabled': False, 'is_translator': False, 'is_translation_enabled': False, 'profile_background_color': 'F5F8FA', 'profile_background_image_url': None, 'profile_background_image_url_https': None, 'profile_background_tile': False, 'profile_image_url': 'http://pbs.twimg.com/profile_images/1311280240975437824/4okYdk8P_normal.jpg', 'profile_image_url_https': 'https://pbs.twimg.com/profile_images/1311280240975437824/4okYdk8P_normal.jpg', 'profile_banner_url': 'https://pbs.twimg.com/profile_banners/1130961047261655040/1601468545', 'profile_link_color': '1DA1F2', 'profile_sidebar_border_color': 'C0DEED', 'profile_sidebar_fill_color': 'DDEEF6', 'profile_text_color': '333333', 'profile_use_background_image': True, 'has_extended_profile': False, 'default_profile': True, 'default_profile_image': False, 'following': False, 'follow_request_sent': False, 'notifications': False, 'translator_type': 'none'}, id=1130961047261655040, id_str='1130961047261655040', name='Murtaza Shakiri', screen_name='ShakiriMurtaza', location='Kargil, Jammu And Kashmir', description='These are my opinions. Not necessarily shared by reasonable-minded people nor my benevolent corporate overlords.\\n\\nViews are personal/ RT are not endorsement...', url=None, entities={'description': {'urls': []}}, protected=False, followers_count=81, friends_count=294, listed_count=0, created_at=datetime.datetime(2019, 5, 21, 22, 18, 20), favourites_count=6825, utc_offset=None, time_zone=None, geo_enabled=True, verified=False, statuses_count=334, lang=None, contributors_enabled=False, is_translator=False, is_translation_enabled=False, profile_background_color='F5F8FA', profile_background_image_url=None, profile_background_image_url_https=None, profile_background_tile=False, profile_image_url='http://pbs.twimg.com/profile_images/1311280240975437824/4okYdk8P_normal.jpg', profile_image_url_https='https://pbs.twimg.com/profile_images/1311280240975437824/4okYdk8P_normal.jpg', profile_banner_url='https://pbs.twimg.com/profile_banners/1130961047261655040/1601468545', profile_link_color='1DA1F2', profile_sidebar_border_color='C0DEED', profile_sidebar_fill_color='DDEEF6', profile_text_color='333333', profile_use_background_image=True, has_extended_profile=False, default_profile=True, default_profile_image=False, following=False, follow_request_sent=False, notifications=False, translator_type='none'), geo=None, coordinates=None, place=None, contributors=None, is_quote_status=False, retweet_count=0, favorite_count=4, favorited=False, retweeted=False, lang='en') \n",
      "\n",
      "........................................\n",
      "\n",
      "Status(_api=<tweepy.api.API object at 0x00000294BF7D1A48>, _json={'created_at': 'Thu Oct 29 12:55:02 +0000 2020', 'id': 1321797691580600320, 'id_str': '1321797691580600320', 'full_text': 'So there is election in Bihar and Nawaz League is (still) helping Modi (BJP) in elections. This was all planned. They wanted to start this conversation at this exact hour.\\nOur Govt got played by opposition, and BJP. \\n\\n@BhittaniKhannnn @KhurramDehwar @umaraqti @PTIofficial https://t.co/eV3cqCv9kW', 'truncated': False, 'display_text_range': [0, 272], 'entities': {'hashtags': [], 'symbols': [], 'user_mentions': [{'screen_name': 'BhittaniKhannnn', 'name': 'Asfandyar Bhittani', 'id': 2831713327, 'id_str': '2831713327', 'indices': [218, 234]}, {'screen_name': 'KhurramDehwar', 'name': 'Malik Khurram Khan Dehwar', 'id': 1216455968105648129, 'id_str': '1216455968105648129', 'indices': [235, 249]}, {'screen_name': 'umaraqti', 'name': 'Umar', 'id': 843705438986256384, 'id_str': '843705438986256384', 'indices': [250, 259]}, {'screen_name': 'PTIofficial', 'name': 'PTI', 'id': 127483019, 'id_str': '127483019', 'indices': [260, 272]}], 'urls': [{'url': 'https://t.co/eV3cqCv9kW', 'expanded_url': 'https://twitter.com/Abhijee49450862/status/1321796084708990976', 'display_url': 'twitter.com/Abhijee4945086…', 'indices': [273, 296]}]}, 'metadata': {'iso_language_code': 'en', 'result_type': 'recent'}, 'source': '<a href=\"http://twitter.com/download/android\" rel=\"nofollow\">Twitter for Android</a>', 'in_reply_to_status_id': None, 'in_reply_to_status_id_str': None, 'in_reply_to_user_id': None, 'in_reply_to_user_id_str': None, 'in_reply_to_screen_name': None, 'user': {'id': 1030647632157454336, 'id_str': '1030647632157454336', 'name': '30 Beat Khan', 'screen_name': 'Hoo_Carez', 'location': 'Pakistan ', 'description': 'Muslim, Pakistani, Pukhtun.... (I tweet as muslim but the other three- Pakistani, Pukhtun and Paki+Pukhtun- are my Alter Egos). \\nFollow at your own risk.', 'url': 'https://t.co/5inJUjAoI2', 'entities': {'url': {'urls': [{'url': 'https://t.co/5inJUjAoI2', 'expanded_url': 'http://KalaBaZay.com', 'display_url': 'KalaBaZay.com', 'indices': [0, 23]}]}, 'description': {'urls': []}}, 'protected': False, 'followers_count': 256, 'friends_count': 437, 'listed_count': 1, 'created_at': 'Sat Aug 18 02:48:38 +0000 2018', 'favourites_count': 23591, 'utc_offset': None, 'time_zone': None, 'geo_enabled': True, 'verified': False, 'statuses_count': 17029, 'lang': None, 'contributors_enabled': False, 'is_translator': False, 'is_translation_enabled': False, 'profile_background_color': 'F5F8FA', 'profile_background_image_url': None, 'profile_background_image_url_https': None, 'profile_background_tile': False, 'profile_image_url': 'http://pbs.twimg.com/profile_images/1249115096183431175/LWyWy6LU_normal.jpg', 'profile_image_url_https': 'https://pbs.twimg.com/profile_images/1249115096183431175/LWyWy6LU_normal.jpg', 'profile_banner_url': 'https://pbs.twimg.com/profile_banners/1030647632157454336/1597259961', 'profile_link_color': '1DA1F2', 'profile_sidebar_border_color': 'C0DEED', 'profile_sidebar_fill_color': 'DDEEF6', 'profile_text_color': '333333', 'profile_use_background_image': True, 'has_extended_profile': False, 'default_profile': True, 'default_profile_image': False, 'following': False, 'follow_request_sent': False, 'notifications': False, 'translator_type': 'none'}, 'geo': None, 'coordinates': None, 'place': None, 'contributors': None, 'is_quote_status': True, 'quoted_status_id': 1321796084708990976, 'quoted_status_id_str': '1321796084708990976', 'quoted_status': {'created_at': 'Thu Oct 29 12:48:39 +0000 2020', 'id': 1321796084708990976, 'id_str': '1321796084708990976', 'full_text': '@ndtv India me Election ke samay hi inlog ka muh khulta hai', 'truncated': False, 'display_text_range': [6, 59], 'entities': {'hashtags': [], 'symbols': [], 'user_mentions': [{'screen_name': 'ndtv', 'name': 'NDTV', 'id': 37034483, 'id_str': '37034483', 'indices': [0, 5]}], 'urls': []}, 'metadata': {'iso_language_code': 'en', 'result_type': 'recent'}, 'source': '<a href=\"http://twitter.com/download/android\" rel=\"nofollow\">Twitter for Android</a>', 'in_reply_to_status_id': 1321795130022572032, 'in_reply_to_status_id_str': '1321795130022572032', 'in_reply_to_user_id': 37034483, 'in_reply_to_user_id_str': '37034483', 'in_reply_to_screen_name': 'ndtv', 'user': {'id': 1297151045181743107, 'id_str': '1297151045181743107', 'name': 'Abhijeet Kumar', 'screen_name': 'Abhijee49450862', 'location': '', 'description': 'Ab', 'url': None, 'entities': {'description': {'urls': []}}, 'protected': False, 'followers_count': 0, 'friends_count': 164, 'listed_count': 0, 'created_at': 'Sat Aug 22 12:38:54 +0000 2020', 'favourites_count': 191, 'utc_offset': None, 'time_zone': None, 'geo_enabled': False, 'verified': False, 'statuses_count': 1576, 'lang': None, 'contributors_enabled': False, 'is_translator': False, 'is_translation_enabled': False, 'profile_background_color': 'F5F8FA', 'profile_background_image_url': None, 'profile_background_image_url_https': None, 'profile_background_tile': False, 'profile_image_url': 'http://pbs.twimg.com/profile_images/1298199367178805248/UijBC82v_normal.jpg', 'profile_image_url_https': 'https://pbs.twimg.com/profile_images/1298199367178805248/UijBC82v_normal.jpg', 'profile_link_color': '1DA1F2', 'profile_sidebar_border_color': 'C0DEED', 'profile_sidebar_fill_color': 'DDEEF6', 'profile_text_color': '333333', 'profile_use_background_image': True, 'has_extended_profile': True, 'default_profile': True, 'default_profile_image': False, 'following': False, 'follow_request_sent': False, 'notifications': False, 'translator_type': 'none'}, 'geo': None, 'coordinates': None, 'place': None, 'contributors': None, 'is_quote_status': False, 'retweet_count': 0, 'favorite_count': 2, 'favorited': False, 'retweeted': False, 'lang': 'tl'}, 'retweet_count': 0, 'favorite_count': 0, 'favorited': False, 'retweeted': False, 'possibly_sensitive': False, 'lang': 'en'}, created_at=datetime.datetime(2020, 10, 29, 12, 55, 2), id=1321797691580600320, id_str='1321797691580600320', full_text='So there is election in Bihar and Nawaz League is (still) helping Modi (BJP) in elections. This was all planned. They wanted to start this conversation at this exact hour.\\nOur Govt got played by opposition, and BJP. \\n\\n@BhittaniKhannnn @KhurramDehwar @umaraqti @PTIofficial https://t.co/eV3cqCv9kW', truncated=False, display_text_range=[0, 272], entities={'hashtags': [], 'symbols': [], 'user_mentions': [{'screen_name': 'BhittaniKhannnn', 'name': 'Asfandyar Bhittani', 'id': 2831713327, 'id_str': '2831713327', 'indices': [218, 234]}, {'screen_name': 'KhurramDehwar', 'name': 'Malik Khurram Khan Dehwar', 'id': 1216455968105648129, 'id_str': '1216455968105648129', 'indices': [235, 249]}, {'screen_name': 'umaraqti', 'name': 'Umar', 'id': 843705438986256384, 'id_str': '843705438986256384', 'indices': [250, 259]}, {'screen_name': 'PTIofficial', 'name': 'PTI', 'id': 127483019, 'id_str': '127483019', 'indices': [260, 272]}], 'urls': [{'url': 'https://t.co/eV3cqCv9kW', 'expanded_url': 'https://twitter.com/Abhijee49450862/status/1321796084708990976', 'display_url': 'twitter.com/Abhijee4945086…', 'indices': [273, 296]}]}, metadata={'iso_language_code': 'en', 'result_type': 'recent'}, source='Twitter for Android', source_url='http://twitter.com/download/android', in_reply_to_status_id=None, in_reply_to_status_id_str=None, in_reply_to_user_id=None, in_reply_to_user_id_str=None, in_reply_to_screen_name=None, author=User(_api=<tweepy.api.API object at 0x00000294BF7D1A48>, _json={'id': 1030647632157454336, 'id_str': '1030647632157454336', 'name': '30 Beat Khan', 'screen_name': 'Hoo_Carez', 'location': 'Pakistan ', 'description': 'Muslim, Pakistani, Pukhtun.... (I tweet as muslim but the other three- Pakistani, Pukhtun and Paki+Pukhtun- are my Alter Egos). \\nFollow at your own risk.', 'url': 'https://t.co/5inJUjAoI2', 'entities': {'url': {'urls': [{'url': 'https://t.co/5inJUjAoI2', 'expanded_url': 'http://KalaBaZay.com', 'display_url': 'KalaBaZay.com', 'indices': [0, 23]}]}, 'description': {'urls': []}}, 'protected': False, 'followers_count': 256, 'friends_count': 437, 'listed_count': 1, 'created_at': 'Sat Aug 18 02:48:38 +0000 2018', 'favourites_count': 23591, 'utc_offset': None, 'time_zone': None, 'geo_enabled': True, 'verified': False, 'statuses_count': 17029, 'lang': None, 'contributors_enabled': False, 'is_translator': False, 'is_translation_enabled': False, 'profile_background_color': 'F5F8FA', 'profile_background_image_url': None, 'profile_background_image_url_https': None, 'profile_background_tile': False, 'profile_image_url': 'http://pbs.twimg.com/profile_images/1249115096183431175/LWyWy6LU_normal.jpg', 'profile_image_url_https': 'https://pbs.twimg.com/profile_images/1249115096183431175/LWyWy6LU_normal.jpg', 'profile_banner_url': 'https://pbs.twimg.com/profile_banners/1030647632157454336/1597259961', 'profile_link_color': '1DA1F2', 'profile_sidebar_border_color': 'C0DEED', 'profile_sidebar_fill_color': 'DDEEF6', 'profile_text_color': '333333', 'profile_use_background_image': True, 'has_extended_profile': False, 'default_profile': True, 'default_profile_image': False, 'following': False, 'follow_request_sent': False, 'notifications': False, 'translator_type': 'none'}, id=1030647632157454336, id_str='1030647632157454336', name='30 Beat Khan', screen_name='Hoo_Carez', location='Pakistan ', description='Muslim, Pakistani, Pukhtun.... (I tweet as muslim but the other three- Pakistani, Pukhtun and Paki+Pukhtun- are my Alter Egos). \\nFollow at your own risk.', url='https://t.co/5inJUjAoI2', entities={'url': {'urls': [{'url': 'https://t.co/5inJUjAoI2', 'expanded_url': 'http://KalaBaZay.com', 'display_url': 'KalaBaZay.com', 'indices': [0, 23]}]}, 'description': {'urls': []}}, protected=False, followers_count=256, friends_count=437, listed_count=1, created_at=datetime.datetime(2018, 8, 18, 2, 48, 38), favourites_count=23591, utc_offset=None, time_zone=None, geo_enabled=True, verified=False, statuses_count=17029, lang=None, contributors_enabled=False, is_translator=False, is_translation_enabled=False, profile_background_color='F5F8FA', profile_background_image_url=None, profile_background_image_url_https=None, profile_background_tile=False, profile_image_url='http://pbs.twimg.com/profile_images/1249115096183431175/LWyWy6LU_normal.jpg', profile_image_url_https='https://pbs.twimg.com/profile_images/1249115096183431175/LWyWy6LU_normal.jpg', profile_banner_url='https://pbs.twimg.com/profile_banners/1030647632157454336/1597259961', profile_link_color='1DA1F2', profile_sidebar_border_color='C0DEED', profile_sidebar_fill_color='DDEEF6', profile_text_color='333333', profile_use_background_image=True, has_extended_profile=False, default_profile=True, default_profile_image=False, following=False, follow_request_sent=False, notifications=False, translator_type='none'), user=User(_api=<tweepy.api.API object at 0x00000294BF7D1A48>, _json={'id': 1030647632157454336, 'id_str': '1030647632157454336', 'name': '30 Beat Khan', 'screen_name': 'Hoo_Carez', 'location': 'Pakistan ', 'description': 'Muslim, Pakistani, Pukhtun.... (I tweet as muslim but the other three- Pakistani, Pukhtun and Paki+Pukhtun- are my Alter Egos). \\nFollow at your own risk.', 'url': 'https://t.co/5inJUjAoI2', 'entities': {'url': {'urls': [{'url': 'https://t.co/5inJUjAoI2', 'expanded_url': 'http://KalaBaZay.com', 'display_url': 'KalaBaZay.com', 'indices': [0, 23]}]}, 'description': {'urls': []}}, 'protected': False, 'followers_count': 256, 'friends_count': 437, 'listed_count': 1, 'created_at': 'Sat Aug 18 02:48:38 +0000 2018', 'favourites_count': 23591, 'utc_offset': None, 'time_zone': None, 'geo_enabled': True, 'verified': False, 'statuses_count': 17029, 'lang': None, 'contributors_enabled': False, 'is_translator': False, 'is_translation_enabled': False, 'profile_background_color': 'F5F8FA', 'profile_background_image_url': None, 'profile_background_image_url_https': None, 'profile_background_tile': False, 'profile_image_url': 'http://pbs.twimg.com/profile_images/1249115096183431175/LWyWy6LU_normal.jpg', 'profile_image_url_https': 'https://pbs.twimg.com/profile_images/1249115096183431175/LWyWy6LU_normal.jpg', 'profile_banner_url': 'https://pbs.twimg.com/profile_banners/1030647632157454336/1597259961', 'profile_link_color': '1DA1F2', 'profile_sidebar_border_color': 'C0DEED', 'profile_sidebar_fill_color': 'DDEEF6', 'profile_text_color': '333333', 'profile_use_background_image': True, 'has_extended_profile': False, 'default_profile': True, 'default_profile_image': False, 'following': False, 'follow_request_sent': False, 'notifications': False, 'translator_type': 'none'}, id=1030647632157454336, id_str='1030647632157454336', name='30 Beat Khan', screen_name='Hoo_Carez', location='Pakistan ', description='Muslim, Pakistani, Pukhtun.... (I tweet as muslim but the other three- Pakistani, Pukhtun and Paki+Pukhtun- are my Alter Egos). \\nFollow at your own risk.', url='https://t.co/5inJUjAoI2', entities={'url': {'urls': [{'url': 'https://t.co/5inJUjAoI2', 'expanded_url': 'http://KalaBaZay.com', 'display_url': 'KalaBaZay.com', 'indices': [0, 23]}]}, 'description': {'urls': []}}, protected=False, followers_count=256, friends_count=437, listed_count=1, created_at=datetime.datetime(2018, 8, 18, 2, 48, 38), favourites_count=23591, utc_offset=None, time_zone=None, geo_enabled=True, verified=False, statuses_count=17029, lang=None, contributors_enabled=False, is_translator=False, is_translation_enabled=False, profile_background_color='F5F8FA', profile_background_image_url=None, profile_background_image_url_https=None, profile_background_tile=False, profile_image_url='http://pbs.twimg.com/profile_images/1249115096183431175/LWyWy6LU_normal.jpg', profile_image_url_https='https://pbs.twimg.com/profile_images/1249115096183431175/LWyWy6LU_normal.jpg', profile_banner_url='https://pbs.twimg.com/profile_banners/1030647632157454336/1597259961', profile_link_color='1DA1F2', profile_sidebar_border_color='C0DEED', profile_sidebar_fill_color='DDEEF6', profile_text_color='333333', profile_use_background_image=True, has_extended_profile=False, default_profile=True, default_profile_image=False, following=False, follow_request_sent=False, notifications=False, translator_type='none'), geo=None, coordinates=None, place=None, contributors=None, is_quote_status=True, quoted_status_id=1321796084708990976, quoted_status_id_str='1321796084708990976', quoted_status=Status(_api=<tweepy.api.API object at 0x00000294BF7D1A48>, _json={'created_at': 'Thu Oct 29 12:48:39 +0000 2020', 'id': 1321796084708990976, 'id_str': '1321796084708990976', 'full_text': '@ndtv India me Election ke samay hi inlog ka muh khulta hai', 'truncated': False, 'display_text_range': [6, 59], 'entities': {'hashtags': [], 'symbols': [], 'user_mentions': [{'screen_name': 'ndtv', 'name': 'NDTV', 'id': 37034483, 'id_str': '37034483', 'indices': [0, 5]}], 'urls': []}, 'metadata': {'iso_language_code': 'en', 'result_type': 'recent'}, 'source': '<a href=\"http://twitter.com/download/android\" rel=\"nofollow\">Twitter for Android</a>', 'in_reply_to_status_id': 1321795130022572032, 'in_reply_to_status_id_str': '1321795130022572032', 'in_reply_to_user_id': 37034483, 'in_reply_to_user_id_str': '37034483', 'in_reply_to_screen_name': 'ndtv', 'user': {'id': 1297151045181743107, 'id_str': '1297151045181743107', 'name': 'Abhijeet Kumar', 'screen_name': 'Abhijee49450862', 'location': '', 'description': 'Ab', 'url': None, 'entities': {'description': {'urls': []}}, 'protected': False, 'followers_count': 0, 'friends_count': 164, 'listed_count': 0, 'created_at': 'Sat Aug 22 12:38:54 +0000 2020', 'favourites_count': 191, 'utc_offset': None, 'time_zone': None, 'geo_enabled': False, 'verified': False, 'statuses_count': 1576, 'lang': None, 'contributors_enabled': False, 'is_translator': False, 'is_translation_enabled': False, 'profile_background_color': 'F5F8FA', 'profile_background_image_url': None, 'profile_background_image_url_https': None, 'profile_background_tile': False, 'profile_image_url': 'http://pbs.twimg.com/profile_images/1298199367178805248/UijBC82v_normal.jpg', 'profile_image_url_https': 'https://pbs.twimg.com/profile_images/1298199367178805248/UijBC82v_normal.jpg', 'profile_link_color': '1DA1F2', 'profile_sidebar_border_color': 'C0DEED', 'profile_sidebar_fill_color': 'DDEEF6', 'profile_text_color': '333333', 'profile_use_background_image': True, 'has_extended_profile': True, 'default_profile': True, 'default_profile_image': False, 'following': False, 'follow_request_sent': False, 'notifications': False, 'translator_type': 'none'}, 'geo': None, 'coordinates': None, 'place': None, 'contributors': None, 'is_quote_status': False, 'retweet_count': 0, 'favorite_count': 2, 'favorited': False, 'retweeted': False, 'lang': 'tl'}, created_at=datetime.datetime(2020, 10, 29, 12, 48, 39), id=1321796084708990976, id_str='1321796084708990976', full_text='@ndtv India me Election ke samay hi inlog ka muh khulta hai', truncated=False, display_text_range=[6, 59], entities={'hashtags': [], 'symbols': [], 'user_mentions': [{'screen_name': 'ndtv', 'name': 'NDTV', 'id': 37034483, 'id_str': '37034483', 'indices': [0, 5]}], 'urls': []}, metadata={'iso_language_code': 'en', 'result_type': 'recent'}, source='Twitter for Android', source_url='http://twitter.com/download/android', in_reply_to_status_id=1321795130022572032, in_reply_to_status_id_str='1321795130022572032', in_reply_to_user_id=37034483, in_reply_to_user_id_str='37034483', in_reply_to_screen_name='ndtv', author=User(_api=<tweepy.api.API object at 0x00000294BF7D1A48>, _json={'id': 1297151045181743107, 'id_str': '1297151045181743107', 'name': 'Abhijeet Kumar', 'screen_name': 'Abhijee49450862', 'location': '', 'description': 'Ab', 'url': None, 'entities': {'description': {'urls': []}}, 'protected': False, 'followers_count': 0, 'friends_count': 164, 'listed_count': 0, 'created_at': 'Sat Aug 22 12:38:54 +0000 2020', 'favourites_count': 191, 'utc_offset': None, 'time_zone': None, 'geo_enabled': False, 'verified': False, 'statuses_count': 1576, 'lang': None, 'contributors_enabled': False, 'is_translator': False, 'is_translation_enabled': False, 'profile_background_color': 'F5F8FA', 'profile_background_image_url': None, 'profile_background_image_url_https': None, 'profile_background_tile': False, 'profile_image_url': 'http://pbs.twimg.com/profile_images/1298199367178805248/UijBC82v_normal.jpg', 'profile_image_url_https': 'https://pbs.twimg.com/profile_images/1298199367178805248/UijBC82v_normal.jpg', 'profile_link_color': '1DA1F2', 'profile_sidebar_border_color': 'C0DEED', 'profile_sidebar_fill_color': 'DDEEF6', 'profile_text_color': '333333', 'profile_use_background_image': True, 'has_extended_profile': True, 'default_profile': True, 'default_profile_image': False, 'following': False, 'follow_request_sent': False, 'notifications': False, 'translator_type': 'none'}, id=1297151045181743107, id_str='1297151045181743107', name='Abhijeet Kumar', screen_name='Abhijee49450862', location='', description='Ab', url=None, entities={'description': {'urls': []}}, protected=False, followers_count=0, friends_count=164, listed_count=0, created_at=datetime.datetime(2020, 8, 22, 12, 38, 54), favourites_count=191, utc_offset=None, time_zone=None, geo_enabled=False, verified=False, statuses_count=1576, lang=None, contributors_enabled=False, is_translator=False, is_translation_enabled=False, profile_background_color='F5F8FA', profile_background_image_url=None, profile_background_image_url_https=None, profile_background_tile=False, profile_image_url='http://pbs.twimg.com/profile_images/1298199367178805248/UijBC82v_normal.jpg', profile_image_url_https='https://pbs.twimg.com/profile_images/1298199367178805248/UijBC82v_normal.jpg', profile_link_color='1DA1F2', profile_sidebar_border_color='C0DEED', profile_sidebar_fill_color='DDEEF6', profile_text_color='333333', profile_use_background_image=True, has_extended_profile=True, default_profile=True, default_profile_image=False, following=False, follow_request_sent=False, notifications=False, translator_type='none'), user=User(_api=<tweepy.api.API object at 0x00000294BF7D1A48>, _json={'id': 1297151045181743107, 'id_str': '1297151045181743107', 'name': 'Abhijeet Kumar', 'screen_name': 'Abhijee49450862', 'location': '', 'description': 'Ab', 'url': None, 'entities': {'description': {'urls': []}}, 'protected': False, 'followers_count': 0, 'friends_count': 164, 'listed_count': 0, 'created_at': 'Sat Aug 22 12:38:54 +0000 2020', 'favourites_count': 191, 'utc_offset': None, 'time_zone': None, 'geo_enabled': False, 'verified': False, 'statuses_count': 1576, 'lang': None, 'contributors_enabled': False, 'is_translator': False, 'is_translation_enabled': False, 'profile_background_color': 'F5F8FA', 'profile_background_image_url': None, 'profile_background_image_url_https': None, 'profile_background_tile': False, 'profile_image_url': 'http://pbs.twimg.com/profile_images/1298199367178805248/UijBC82v_normal.jpg', 'profile_image_url_https': 'https://pbs.twimg.com/profile_images/1298199367178805248/UijBC82v_normal.jpg', 'profile_link_color': '1DA1F2', 'profile_sidebar_border_color': 'C0DEED', 'profile_sidebar_fill_color': 'DDEEF6', 'profile_text_color': '333333', 'profile_use_background_image': True, 'has_extended_profile': True, 'default_profile': True, 'default_profile_image': False, 'following': False, 'follow_request_sent': False, 'notifications': False, 'translator_type': 'none'}, id=1297151045181743107, id_str='1297151045181743107', name='Abhijeet Kumar', screen_name='Abhijee49450862', location='', description='Ab', url=None, entities={'description': {'urls': []}}, protected=False, followers_count=0, friends_count=164, listed_count=0, created_at=datetime.datetime(2020, 8, 22, 12, 38, 54), favourites_count=191, utc_offset=None, time_zone=None, geo_enabled=False, verified=False, statuses_count=1576, lang=None, contributors_enabled=False, is_translator=False, is_translation_enabled=False, profile_background_color='F5F8FA', profile_background_image_url=None, profile_background_image_url_https=None, profile_background_tile=False, profile_image_url='http://pbs.twimg.com/profile_images/1298199367178805248/UijBC82v_normal.jpg', profile_image_url_https='https://pbs.twimg.com/profile_images/1298199367178805248/UijBC82v_normal.jpg', profile_link_color='1DA1F2', profile_sidebar_border_color='C0DEED', profile_sidebar_fill_color='DDEEF6', profile_text_color='333333', profile_use_background_image=True, has_extended_profile=True, default_profile=True, default_profile_image=False, following=False, follow_request_sent=False, notifications=False, translator_type='none'), geo=None, coordinates=None, place=None, contributors=None, is_quote_status=False, retweet_count=0, favorite_count=2, favorited=False, retweeted=False, lang='tl'), retweet_count=0, favorite_count=0, favorited=False, retweeted=False, possibly_sensitive=False, lang='en') \n",
      "\n",
      "........................................\n",
      "\n",
      "Status(_api=<tweepy.api.API object at 0x00000294BF7D1A48>, _json={'created_at': 'Thu Oct 29 12:54:02 +0000 2020', 'id': 1321797443323891713, 'id_str': '1321797443323891713', 'full_text': '@bsdhanoa @EconomicTimes How many years does it take to build such capacity? What Mr Dhanoa is doing is basically election campaigning for his master in BJP. But then should do it openly like Gen VJ Singh did. He should go to Bihar and campaign. He is entitled to have his own political opinion.', 'truncated': False, 'display_text_range': [25, 295], 'entities': {'hashtags': [], 'symbols': [], 'user_mentions': [{'screen_name': 'bsdhanoa', 'name': 'Birender Dhanoa', 'id': 70620161, 'id_str': '70620161', 'indices': [0, 9]}, {'screen_name': 'EconomicTimes', 'name': 'Economic Times', 'id': 39743812, 'id_str': '39743812', 'indices': [10, 24]}], 'urls': []}, 'metadata': {'iso_language_code': 'en', 'result_type': 'recent'}, 'source': '<a href=\"https://mobile.twitter.com\" rel=\"nofollow\">Twitter Web App</a>', 'in_reply_to_status_id': 1321735298053664768, 'in_reply_to_status_id_str': '1321735298053664768', 'in_reply_to_user_id': 70620161, 'in_reply_to_user_id_str': '70620161', 'in_reply_to_screen_name': 'bsdhanoa', 'user': {'id': 996025117883977731, 'id_str': '996025117883977731', 'name': 'Prof Haldhar Balram', 'screen_name': 'BalramProf', 'location': 'India', 'description': 'M Sc, Ph D., Professor of Physics\\nLibral, Solution of everything through debate,  Being critical is the driving force for evolution. .', 'url': None, 'entities': {'description': {'urls': []}}, 'protected': False, 'followers_count': 104, 'friends_count': 274, 'listed_count': 0, 'created_at': 'Mon May 14 13:51:08 +0000 2018', 'favourites_count': 9729, 'utc_offset': None, 'time_zone': None, 'geo_enabled': False, 'verified': False, 'statuses_count': 12790, 'lang': None, 'contributors_enabled': False, 'is_translator': False, 'is_translation_enabled': False, 'profile_background_color': 'F5F8FA', 'profile_background_image_url': None, 'profile_background_image_url_https': None, 'profile_background_tile': False, 'profile_image_url': 'http://abs.twimg.com/sticky/default_profile_images/default_profile_normal.png', 'profile_image_url_https': 'https://abs.twimg.com/sticky/default_profile_images/default_profile_normal.png', 'profile_link_color': '1DA1F2', 'profile_sidebar_border_color': 'C0DEED', 'profile_sidebar_fill_color': 'DDEEF6', 'profile_text_color': '333333', 'profile_use_background_image': True, 'has_extended_profile': True, 'default_profile': True, 'default_profile_image': True, 'following': False, 'follow_request_sent': False, 'notifications': False, 'translator_type': 'none'}, 'geo': None, 'coordinates': None, 'place': None, 'contributors': None, 'is_quote_status': False, 'retweet_count': 0, 'favorite_count': 0, 'favorited': False, 'retweeted': False, 'lang': 'en'}, created_at=datetime.datetime(2020, 10, 29, 12, 54, 2), id=1321797443323891713, id_str='1321797443323891713', full_text='@bsdhanoa @EconomicTimes How many years does it take to build such capacity? What Mr Dhanoa is doing is basically election campaigning for his master in BJP. But then should do it openly like Gen VJ Singh did. He should go to Bihar and campaign. He is entitled to have his own political opinion.', truncated=False, display_text_range=[25, 295], entities={'hashtags': [], 'symbols': [], 'user_mentions': [{'screen_name': 'bsdhanoa', 'name': 'Birender Dhanoa', 'id': 70620161, 'id_str': '70620161', 'indices': [0, 9]}, {'screen_name': 'EconomicTimes', 'name': 'Economic Times', 'id': 39743812, 'id_str': '39743812', 'indices': [10, 24]}], 'urls': []}, metadata={'iso_language_code': 'en', 'result_type': 'recent'}, source='Twitter Web App', source_url='https://mobile.twitter.com', in_reply_to_status_id=1321735298053664768, in_reply_to_status_id_str='1321735298053664768', in_reply_to_user_id=70620161, in_reply_to_user_id_str='70620161', in_reply_to_screen_name='bsdhanoa', author=User(_api=<tweepy.api.API object at 0x00000294BF7D1A48>, _json={'id': 996025117883977731, 'id_str': '996025117883977731', 'name': 'Prof Haldhar Balram', 'screen_name': 'BalramProf', 'location': 'India', 'description': 'M Sc, Ph D., Professor of Physics\\nLibral, Solution of everything through debate,  Being critical is the driving force for evolution. .', 'url': None, 'entities': {'description': {'urls': []}}, 'protected': False, 'followers_count': 104, 'friends_count': 274, 'listed_count': 0, 'created_at': 'Mon May 14 13:51:08 +0000 2018', 'favourites_count': 9729, 'utc_offset': None, 'time_zone': None, 'geo_enabled': False, 'verified': False, 'statuses_count': 12790, 'lang': None, 'contributors_enabled': False, 'is_translator': False, 'is_translation_enabled': False, 'profile_background_color': 'F5F8FA', 'profile_background_image_url': None, 'profile_background_image_url_https': None, 'profile_background_tile': False, 'profile_image_url': 'http://abs.twimg.com/sticky/default_profile_images/default_profile_normal.png', 'profile_image_url_https': 'https://abs.twimg.com/sticky/default_profile_images/default_profile_normal.png', 'profile_link_color': '1DA1F2', 'profile_sidebar_border_color': 'C0DEED', 'profile_sidebar_fill_color': 'DDEEF6', 'profile_text_color': '333333', 'profile_use_background_image': True, 'has_extended_profile': True, 'default_profile': True, 'default_profile_image': True, 'following': False, 'follow_request_sent': False, 'notifications': False, 'translator_type': 'none'}, id=996025117883977731, id_str='996025117883977731', name='Prof Haldhar Balram', screen_name='BalramProf', location='India', description='M Sc, Ph D., Professor of Physics\\nLibral, Solution of everything through debate,  Being critical is the driving force for evolution. .', url=None, entities={'description': {'urls': []}}, protected=False, followers_count=104, friends_count=274, listed_count=0, created_at=datetime.datetime(2018, 5, 14, 13, 51, 8), favourites_count=9729, utc_offset=None, time_zone=None, geo_enabled=False, verified=False, statuses_count=12790, lang=None, contributors_enabled=False, is_translator=False, is_translation_enabled=False, profile_background_color='F5F8FA', profile_background_image_url=None, profile_background_image_url_https=None, profile_background_tile=False, profile_image_url='http://abs.twimg.com/sticky/default_profile_images/default_profile_normal.png', profile_image_url_https='https://abs.twimg.com/sticky/default_profile_images/default_profile_normal.png', profile_link_color='1DA1F2', profile_sidebar_border_color='C0DEED', profile_sidebar_fill_color='DDEEF6', profile_text_color='333333', profile_use_background_image=True, has_extended_profile=True, default_profile=True, default_profile_image=True, following=False, follow_request_sent=False, notifications=False, translator_type='none'), user=User(_api=<tweepy.api.API object at 0x00000294BF7D1A48>, _json={'id': 996025117883977731, 'id_str': '996025117883977731', 'name': 'Prof Haldhar Balram', 'screen_name': 'BalramProf', 'location': 'India', 'description': 'M Sc, Ph D., Professor of Physics\\nLibral, Solution of everything through debate,  Being critical is the driving force for evolution. .', 'url': None, 'entities': {'description': {'urls': []}}, 'protected': False, 'followers_count': 104, 'friends_count': 274, 'listed_count': 0, 'created_at': 'Mon May 14 13:51:08 +0000 2018', 'favourites_count': 9729, 'utc_offset': None, 'time_zone': None, 'geo_enabled': False, 'verified': False, 'statuses_count': 12790, 'lang': None, 'contributors_enabled': False, 'is_translator': False, 'is_translation_enabled': False, 'profile_background_color': 'F5F8FA', 'profile_background_image_url': None, 'profile_background_image_url_https': None, 'profile_background_tile': False, 'profile_image_url': 'http://abs.twimg.com/sticky/default_profile_images/default_profile_normal.png', 'profile_image_url_https': 'https://abs.twimg.com/sticky/default_profile_images/default_profile_normal.png', 'profile_link_color': '1DA1F2', 'profile_sidebar_border_color': 'C0DEED', 'profile_sidebar_fill_color': 'DDEEF6', 'profile_text_color': '333333', 'profile_use_background_image': True, 'has_extended_profile': True, 'default_profile': True, 'default_profile_image': True, 'following': False, 'follow_request_sent': False, 'notifications': False, 'translator_type': 'none'}, id=996025117883977731, id_str='996025117883977731', name='Prof Haldhar Balram', screen_name='BalramProf', location='India', description='M Sc, Ph D., Professor of Physics\\nLibral, Solution of everything through debate,  Being critical is the driving force for evolution. .', url=None, entities={'description': {'urls': []}}, protected=False, followers_count=104, friends_count=274, listed_count=0, created_at=datetime.datetime(2018, 5, 14, 13, 51, 8), favourites_count=9729, utc_offset=None, time_zone=None, geo_enabled=False, verified=False, statuses_count=12790, lang=None, contributors_enabled=False, is_translator=False, is_translation_enabled=False, profile_background_color='F5F8FA', profile_background_image_url=None, profile_background_image_url_https=None, profile_background_tile=False, profile_image_url='http://abs.twimg.com/sticky/default_profile_images/default_profile_normal.png', profile_image_url_https='https://abs.twimg.com/sticky/default_profile_images/default_profile_normal.png', profile_link_color='1DA1F2', profile_sidebar_border_color='C0DEED', profile_sidebar_fill_color='DDEEF6', profile_text_color='333333', profile_use_background_image=True, has_extended_profile=True, default_profile=True, default_profile_image=True, following=False, follow_request_sent=False, notifications=False, translator_type='none'), geo=None, coordinates=None, place=None, contributors=None, is_quote_status=False, retweet_count=0, favorite_count=0, favorited=False, retweeted=False, lang='en') \n",
      "\n",
      "........................................\n",
      "\n",
      "Status(_api=<tweepy.api.API object at 0x00000294BF7D1A48>, _json={'created_at': 'Thu Oct 29 12:27:18 +0000 2020', 'id': 1321790715081285635, 'id_str': '1321790715081285635', 'full_text': 'Bihar Assembly Election 2020: BJP looks to retain Madhuban constituency in a three-way contest\\nhttps://t.co/G5yKrfVB4C', 'truncated': False, 'display_text_range': [0, 118], 'entities': {'hashtags': [], 'symbols': [], 'user_mentions': [], 'urls': [{'url': 'https://t.co/G5yKrfVB4C', 'expanded_url': 'http://www.hindustantimes.com/bihar-election/bihar-assembly-election-2020-bjp-looks-to-retain-madhuban-constituency-in-a-three-way-contest/story-6JbbFJLbRXlyh23IhfE7LL.html', 'display_url': 'hindustantimes.com/bihar-election…', 'indices': [95, 118]}]}, 'metadata': {'iso_language_code': 'en', 'result_type': 'recent'}, 'source': '<a href=\"https://www.hindustantimes.com/\" rel=\"nofollow\">ht-twitter-handler</a>', 'in_reply_to_status_id': None, 'in_reply_to_status_id_str': None, 'in_reply_to_user_id': None, 'in_reply_to_user_id_str': None, 'in_reply_to_screen_name': None, 'user': {'id': 1066972567943053312, 'id_str': '1066972567943053312', 'name': 'Hindustan Times', 'screen_name': 'HindustanTimes', 'location': 'New Delhi, India', 'description': \"One of India's largest media companies. Latest news from around the world. Retweets are not endorsements.\", 'url': 'https://t.co/WtJj2BvIpU', 'entities': {'url': {'urls': [{'url': 'https://t.co/WtJj2BvIpU', 'expanded_url': 'https://www.hindustantimes.com/', 'display_url': 'hindustantimes.com', 'indices': [0, 23]}]}, 'description': {'urls': []}}, 'protected': False, 'followers_count': 26680, 'friends_count': 12, 'listed_count': 149, 'created_at': 'Mon Nov 26 08:30:58 +0000 2018', 'favourites_count': 9, 'utc_offset': None, 'time_zone': None, 'geo_enabled': False, 'verified': True, 'statuses_count': 225408, 'lang': None, 'contributors_enabled': False, 'is_translator': False, 'is_translation_enabled': False, 'profile_background_color': 'F5F8FA', 'profile_background_image_url': None, 'profile_background_image_url_https': None, 'profile_background_tile': False, 'profile_image_url': 'http://pbs.twimg.com/profile_images/1300145486469328896/K9Qophk9_normal.jpg', 'profile_image_url_https': 'https://pbs.twimg.com/profile_images/1300145486469328896/K9Qophk9_normal.jpg', 'profile_link_color': '1DA1F2', 'profile_sidebar_border_color': 'C0DEED', 'profile_sidebar_fill_color': 'DDEEF6', 'profile_text_color': '333333', 'profile_use_background_image': True, 'has_extended_profile': False, 'default_profile': True, 'default_profile_image': False, 'following': False, 'follow_request_sent': False, 'notifications': False, 'translator_type': 'none'}, 'geo': None, 'coordinates': None, 'place': None, 'contributors': None, 'is_quote_status': False, 'retweet_count': 0, 'favorite_count': 0, 'favorited': False, 'retweeted': False, 'possibly_sensitive': False, 'lang': 'en'}, created_at=datetime.datetime(2020, 10, 29, 12, 27, 18), id=1321790715081285635, id_str='1321790715081285635', full_text='Bihar Assembly Election 2020: BJP looks to retain Madhuban constituency in a three-way contest\\nhttps://t.co/G5yKrfVB4C', truncated=False, display_text_range=[0, 118], entities={'hashtags': [], 'symbols': [], 'user_mentions': [], 'urls': [{'url': 'https://t.co/G5yKrfVB4C', 'expanded_url': 'http://www.hindustantimes.com/bihar-election/bihar-assembly-election-2020-bjp-looks-to-retain-madhuban-constituency-in-a-three-way-contest/story-6JbbFJLbRXlyh23IhfE7LL.html', 'display_url': 'hindustantimes.com/bihar-election…', 'indices': [95, 118]}]}, metadata={'iso_language_code': 'en', 'result_type': 'recent'}, source='ht-twitter-handler', source_url='https://www.hindustantimes.com/', in_reply_to_status_id=None, in_reply_to_status_id_str=None, in_reply_to_user_id=None, in_reply_to_user_id_str=None, in_reply_to_screen_name=None, author=User(_api=<tweepy.api.API object at 0x00000294BF7D1A48>, _json={'id': 1066972567943053312, 'id_str': '1066972567943053312', 'name': 'Hindustan Times', 'screen_name': 'HindustanTimes', 'location': 'New Delhi, India', 'description': \"One of India's largest media companies. Latest news from around the world. Retweets are not endorsements.\", 'url': 'https://t.co/WtJj2BvIpU', 'entities': {'url': {'urls': [{'url': 'https://t.co/WtJj2BvIpU', 'expanded_url': 'https://www.hindustantimes.com/', 'display_url': 'hindustantimes.com', 'indices': [0, 23]}]}, 'description': {'urls': []}}, 'protected': False, 'followers_count': 26680, 'friends_count': 12, 'listed_count': 149, 'created_at': 'Mon Nov 26 08:30:58 +0000 2018', 'favourites_count': 9, 'utc_offset': None, 'time_zone': None, 'geo_enabled': False, 'verified': True, 'statuses_count': 225408, 'lang': None, 'contributors_enabled': False, 'is_translator': False, 'is_translation_enabled': False, 'profile_background_color': 'F5F8FA', 'profile_background_image_url': None, 'profile_background_image_url_https': None, 'profile_background_tile': False, 'profile_image_url': 'http://pbs.twimg.com/profile_images/1300145486469328896/K9Qophk9_normal.jpg', 'profile_image_url_https': 'https://pbs.twimg.com/profile_images/1300145486469328896/K9Qophk9_normal.jpg', 'profile_link_color': '1DA1F2', 'profile_sidebar_border_color': 'C0DEED', 'profile_sidebar_fill_color': 'DDEEF6', 'profile_text_color': '333333', 'profile_use_background_image': True, 'has_extended_profile': False, 'default_profile': True, 'default_profile_image': False, 'following': False, 'follow_request_sent': False, 'notifications': False, 'translator_type': 'none'}, id=1066972567943053312, id_str='1066972567943053312', name='Hindustan Times', screen_name='HindustanTimes', location='New Delhi, India', description=\"One of India's largest media companies. Latest news from around the world. Retweets are not endorsements.\", url='https://t.co/WtJj2BvIpU', entities={'url': {'urls': [{'url': 'https://t.co/WtJj2BvIpU', 'expanded_url': 'https://www.hindustantimes.com/', 'display_url': 'hindustantimes.com', 'indices': [0, 23]}]}, 'description': {'urls': []}}, protected=False, followers_count=26680, friends_count=12, listed_count=149, created_at=datetime.datetime(2018, 11, 26, 8, 30, 58), favourites_count=9, utc_offset=None, time_zone=None, geo_enabled=False, verified=True, statuses_count=225408, lang=None, contributors_enabled=False, is_translator=False, is_translation_enabled=False, profile_background_color='F5F8FA', profile_background_image_url=None, profile_background_image_url_https=None, profile_background_tile=False, profile_image_url='http://pbs.twimg.com/profile_images/1300145486469328896/K9Qophk9_normal.jpg', profile_image_url_https='https://pbs.twimg.com/profile_images/1300145486469328896/K9Qophk9_normal.jpg', profile_link_color='1DA1F2', profile_sidebar_border_color='C0DEED', profile_sidebar_fill_color='DDEEF6', profile_text_color='333333', profile_use_background_image=True, has_extended_profile=False, default_profile=True, default_profile_image=False, following=False, follow_request_sent=False, notifications=False, translator_type='none'), user=User(_api=<tweepy.api.API object at 0x00000294BF7D1A48>, _json={'id': 1066972567943053312, 'id_str': '1066972567943053312', 'name': 'Hindustan Times', 'screen_name': 'HindustanTimes', 'location': 'New Delhi, India', 'description': \"One of India's largest media companies. Latest news from around the world. Retweets are not endorsements.\", 'url': 'https://t.co/WtJj2BvIpU', 'entities': {'url': {'urls': [{'url': 'https://t.co/WtJj2BvIpU', 'expanded_url': 'https://www.hindustantimes.com/', 'display_url': 'hindustantimes.com', 'indices': [0, 23]}]}, 'description': {'urls': []}}, 'protected': False, 'followers_count': 26680, 'friends_count': 12, 'listed_count': 149, 'created_at': 'Mon Nov 26 08:30:58 +0000 2018', 'favourites_count': 9, 'utc_offset': None, 'time_zone': None, 'geo_enabled': False, 'verified': True, 'statuses_count': 225408, 'lang': None, 'contributors_enabled': False, 'is_translator': False, 'is_translation_enabled': False, 'profile_background_color': 'F5F8FA', 'profile_background_image_url': None, 'profile_background_image_url_https': None, 'profile_background_tile': False, 'profile_image_url': 'http://pbs.twimg.com/profile_images/1300145486469328896/K9Qophk9_normal.jpg', 'profile_image_url_https': 'https://pbs.twimg.com/profile_images/1300145486469328896/K9Qophk9_normal.jpg', 'profile_link_color': '1DA1F2', 'profile_sidebar_border_color': 'C0DEED', 'profile_sidebar_fill_color': 'DDEEF6', 'profile_text_color': '333333', 'profile_use_background_image': True, 'has_extended_profile': False, 'default_profile': True, 'default_profile_image': False, 'following': False, 'follow_request_sent': False, 'notifications': False, 'translator_type': 'none'}, id=1066972567943053312, id_str='1066972567943053312', name='Hindustan Times', screen_name='HindustanTimes', location='New Delhi, India', description=\"One of India's largest media companies. Latest news from around the world. Retweets are not endorsements.\", url='https://t.co/WtJj2BvIpU', entities={'url': {'urls': [{'url': 'https://t.co/WtJj2BvIpU', 'expanded_url': 'https://www.hindustantimes.com/', 'display_url': 'hindustantimes.com', 'indices': [0, 23]}]}, 'description': {'urls': []}}, protected=False, followers_count=26680, friends_count=12, listed_count=149, created_at=datetime.datetime(2018, 11, 26, 8, 30, 58), favourites_count=9, utc_offset=None, time_zone=None, geo_enabled=False, verified=True, statuses_count=225408, lang=None, contributors_enabled=False, is_translator=False, is_translation_enabled=False, profile_background_color='F5F8FA', profile_background_image_url=None, profile_background_image_url_https=None, profile_background_tile=False, profile_image_url='http://pbs.twimg.com/profile_images/1300145486469328896/K9Qophk9_normal.jpg', profile_image_url_https='https://pbs.twimg.com/profile_images/1300145486469328896/K9Qophk9_normal.jpg', profile_link_color='1DA1F2', profile_sidebar_border_color='C0DEED', profile_sidebar_fill_color='DDEEF6', profile_text_color='333333', profile_use_background_image=True, has_extended_profile=False, default_profile=True, default_profile_image=False, following=False, follow_request_sent=False, notifications=False, translator_type='none'), geo=None, coordinates=None, place=None, contributors=None, is_quote_status=False, retweet_count=0, favorite_count=0, favorited=False, retweeted=False, possibly_sensitive=False, lang='en') \n",
      "\n",
      "........................................\n",
      "\n"
     ]
    }
   ],
   "source": [
    "Tweets = api.search(query, count = 10, lang = 'en', exclude = 'retweets', tweet_mode = 'extended')\n",
    "# tweet_mode = 'extended' - full text attribute\n",
    "# tweet_mode = 'compat' - extract tweets having only 140 characters\n",
    "\n",
    "for tweet in Tweets:\n",
    "    print(tweet,\"\\n\")\n",
    "    print(\"........................................\\n\")"
   ]
  },
  {
   "cell_type": "markdown",
   "metadata": {},
   "source": [
    "### Get Tweets and some Attributes"
   ]
  },
  {
   "cell_type": "markdown",
   "metadata": {},
   "source": [
    "tweepy.Cursor() - allow us to get as many tweets as we want"
   ]
  },
  {
   "cell_type": "code",
   "execution_count": 12,
   "metadata": {},
   "outputs": [
    {
     "name": "stdout",
     "output_type": "stream",
     "text": [
      "Empty DataFrame\n",
      "Columns: [Tweets, Users, User_status_count, user_followers, user_location, user_verified, fav_count, rt_count, tweet_date]\n",
      "Index: []\n",
      "(0, 9)\n"
     ]
    }
   ],
   "source": [
    "df = pd.DataFrame(columns= ['Tweets', 'Users', 'User_status_count', 'user_followers',\n",
    "                           'user_location', 'user_verified', 'fav_count', 'rt_count',\n",
    "                           'tweet_date'])\n",
    "print(df)\n",
    "print(df.shape)"
   ]
  },
  {
   "cell_type": "code",
   "execution_count": 13,
   "metadata": {},
   "outputs": [],
   "source": [
    "def stream(data, file_name):\n",
    "    i=0\n",
    "    for tweet in tweepy.Cursor(api.search, q=data, count=100, lang='en').items():\n",
    "        print(i, end='\\r')\n",
    "        df.loc[i, 'Tweets'] = tweet.text\n",
    "        df.loc[i, 'User'] = tweet.user.name\n",
    "        df.loc[i, 'User_status_count'] = tweet.user.statuses_count\n",
    "        df.loc[i, 'user_followers'] = tweet.user.followers_count\n",
    "        df.loc[i, 'user_location'] = tweet.user.location\n",
    "        df.loc[i, 'user_verified'] = tweet.user.verified\n",
    "        df.loc[i, 'fav_count'] = tweet.favorite_count\n",
    "        df.loc[i, 'rt_count'] = tweet.retweet_count\n",
    "        df.loc[i, 'tweet_date'] = tweet.created_at\n",
    "        \n",
    "        df.to_excel('{}.xlsx'.format(file_name))\n",
    "        i = i+1\n",
    "        if i == 1000:\n",
    "            break\n",
    "        else:\n",
    "            pass"
   ]
  },
  {
   "cell_type": "code",
   "execution_count": 15,
   "metadata": {},
   "outputs": [
    {
     "name": "stdout",
     "output_type": "stream",
     "text": [
      "999\r"
     ]
    }
   ],
   "source": [
    "stream(data=['bjp election in bihar'],file_name='my_tweets')"
   ]
  },
  {
   "cell_type": "code",
   "execution_count": 16,
   "metadata": {},
   "outputs": [
    {
     "data": {
      "text/html": [
       "<div>\n",
       "<style scoped>\n",
       "    .dataframe tbody tr th:only-of-type {\n",
       "        vertical-align: middle;\n",
       "    }\n",
       "\n",
       "    .dataframe tbody tr th {\n",
       "        vertical-align: top;\n",
       "    }\n",
       "\n",
       "    .dataframe thead th {\n",
       "        text-align: right;\n",
       "    }\n",
       "</style>\n",
       "<table border=\"1\" class=\"dataframe\">\n",
       "  <thead>\n",
       "    <tr style=\"text-align: right;\">\n",
       "      <th></th>\n",
       "      <th>Tweets</th>\n",
       "      <th>Users</th>\n",
       "      <th>User_status_count</th>\n",
       "      <th>user_followers</th>\n",
       "      <th>user_location</th>\n",
       "      <th>user_verified</th>\n",
       "      <th>fav_count</th>\n",
       "      <th>rt_count</th>\n",
       "      <th>tweet_date</th>\n",
       "      <th>User</th>\n",
       "    </tr>\n",
       "  </thead>\n",
       "  <tbody>\n",
       "    <tr>\n",
       "      <th>0</th>\n",
       "      <td>RT @pallavict: Those angry with BJP for police...</td>\n",
       "      <td>NaN</td>\n",
       "      <td>28090</td>\n",
       "      <td>221</td>\n",
       "      <td>भारत</td>\n",
       "      <td>False</td>\n",
       "      <td>0</td>\n",
       "      <td>48</td>\n",
       "      <td>2020-10-29 14:06:15</td>\n",
       "      <td>पार्थ कुलकर्णी 🇮🇳</td>\n",
       "    </tr>\n",
       "    <tr>\n",
       "      <th>1</th>\n",
       "      <td>@SalmanNizami_ Bihar learnt a lesson from the ...</td>\n",
       "      <td>NaN</td>\n",
       "      <td>4402</td>\n",
       "      <td>584</td>\n",
       "      <td></td>\n",
       "      <td>False</td>\n",
       "      <td>0</td>\n",
       "      <td>0</td>\n",
       "      <td>2020-10-29 14:04:59</td>\n",
       "      <td>Nomanuddin Hassan</td>\n",
       "    </tr>\n",
       "    <tr>\n",
       "      <th>2</th>\n",
       "      <td>@ZarrarKhuhro @Khalil_a_hassan Bihar Elections...</td>\n",
       "      <td>NaN</td>\n",
       "      <td>17029</td>\n",
       "      <td>256</td>\n",
       "      <td>Pakistan</td>\n",
       "      <td>False</td>\n",
       "      <td>0</td>\n",
       "      <td>0</td>\n",
       "      <td>2020-10-29 14:00:00</td>\n",
       "      <td>30 Beat Khan</td>\n",
       "    </tr>\n",
       "    <tr>\n",
       "      <th>3</th>\n",
       "      <td>@AbhishBanerj Bihar...After Maharashtra it's t...</td>\n",
       "      <td>NaN</td>\n",
       "      <td>4387</td>\n",
       "      <td>673</td>\n",
       "      <td>Mumbai, India</td>\n",
       "      <td>False</td>\n",
       "      <td>1</td>\n",
       "      <td>0</td>\n",
       "      <td>2020-10-29 13:58:34</td>\n",
       "      <td>Onc Doc</td>\n",
       "    </tr>\n",
       "    <tr>\n",
       "      <th>4</th>\n",
       "      <td>RT @pallavict: Those angry with BJP for police...</td>\n",
       "      <td>NaN</td>\n",
       "      <td>8030</td>\n",
       "      <td>68</td>\n",
       "      <td>Hell</td>\n",
       "      <td>False</td>\n",
       "      <td>0</td>\n",
       "      <td>48</td>\n",
       "      <td>2020-10-29 13:58:28</td>\n",
       "      <td>King Of Hell</td>\n",
       "    </tr>\n",
       "  </tbody>\n",
       "</table>\n",
       "</div>"
      ],
      "text/plain": [
       "                                              Tweets Users User_status_count  \\\n",
       "0  RT @pallavict: Those angry with BJP for police...   NaN             28090   \n",
       "1  @SalmanNizami_ Bihar learnt a lesson from the ...   NaN              4402   \n",
       "2  @ZarrarKhuhro @Khalil_a_hassan Bihar Elections...   NaN             17029   \n",
       "3  @AbhishBanerj Bihar...After Maharashtra it's t...   NaN              4387   \n",
       "4  RT @pallavict: Those angry with BJP for police...   NaN              8030   \n",
       "\n",
       "  user_followers  user_location user_verified fav_count rt_count  \\\n",
       "0            221           भारत         False         0       48   \n",
       "1            584                        False         0        0   \n",
       "2            256      Pakistan          False         0        0   \n",
       "3            673  Mumbai, India         False         1        0   \n",
       "4             68           Hell         False         0       48   \n",
       "\n",
       "            tweet_date               User  \n",
       "0  2020-10-29 14:06:15  पार्थ कुलकर्णी 🇮🇳  \n",
       "1  2020-10-29 14:04:59  Nomanuddin Hassan  \n",
       "2  2020-10-29 14:00:00       30 Beat Khan  \n",
       "3  2020-10-29 13:58:34            Onc Doc  \n",
       "4  2020-10-29 13:58:28       King Of Hell  "
      ]
     },
     "execution_count": 16,
     "metadata": {},
     "output_type": "execute_result"
    }
   ],
   "source": [
    "df.head()"
   ]
  },
  {
   "cell_type": "code",
   "execution_count": 17,
   "metadata": {},
   "outputs": [
    {
     "name": "stdout",
     "output_type": "stream",
     "text": [
      "Requirement already satisfied: textblob in d:\\anaconda\\lib\\site-packages (0.15.3)\n",
      "Requirement already satisfied: nltk>=3.1 in d:\\anaconda\\lib\\site-packages (from textblob) (3.4.5)\n",
      "Requirement already satisfied: six in d:\\anaconda\\lib\\site-packages (from nltk>=3.1->textblob) (1.14.0)\n"
     ]
    }
   ],
   "source": [
    "!pip install textblob "
   ]
  },
  {
   "cell_type": "markdown",
   "metadata": {},
   "source": [
    "#### return sentiment(polarity, subjectivity)\n",
    "\n",
    "#### Polarity score : [-1, +1]\n",
    "\n",
    "#### Subjectivity : [0.0, 1.0]\n",
    "\n",
    "#### where 0.0 is very objectivity and 1.0 is very subjective"
   ]
  },
  {
   "cell_type": "code",
   "execution_count": 18,
   "metadata": {},
   "outputs": [],
   "source": [
    "from textblob import TextBlob"
   ]
  },
  {
   "cell_type": "code",
   "execution_count": 19,
   "metadata": {},
   "outputs": [],
   "source": [
    "import re\n",
    "def clean_tweet(tweet):\n",
    "    return ' '.join(re.sub('(@[A-Za-z0-9]+)|([^0-9A-Za-z \\t])|(\\w+:\\/\\/\\S+)', ' ',tweet).split())"
   ]
  },
  {
   "cell_type": "code",
   "execution_count": 20,
   "metadata": {},
   "outputs": [],
   "source": [
    "def analyze_sentiment(tweet):\n",
    "    analysis = TextBlob(tweet)\n",
    "    if analysis.sentiment.polarity > 0:\n",
    "        return 'Positive'\n",
    "    elif analysis.sentiment.polarity == 0:\n",
    "        return 'Neutral'\n",
    "    else:\n",
    "        return 'Negative'"
   ]
  },
  {
   "cell_type": "code",
   "execution_count": 21,
   "metadata": {},
   "outputs": [],
   "source": [
    "df['clean_tweet'] = df['Tweets'].apply(lambda x : clean_tweet(x))"
   ]
  },
  {
   "cell_type": "code",
   "execution_count": 22,
   "metadata": {},
   "outputs": [
    {
     "data": {
      "text/html": [
       "<div>\n",
       "<style scoped>\n",
       "    .dataframe tbody tr th:only-of-type {\n",
       "        vertical-align: middle;\n",
       "    }\n",
       "\n",
       "    .dataframe tbody tr th {\n",
       "        vertical-align: top;\n",
       "    }\n",
       "\n",
       "    .dataframe thead th {\n",
       "        text-align: right;\n",
       "    }\n",
       "</style>\n",
       "<table border=\"1\" class=\"dataframe\">\n",
       "  <thead>\n",
       "    <tr style=\"text-align: right;\">\n",
       "      <th></th>\n",
       "      <th>Tweets</th>\n",
       "      <th>Users</th>\n",
       "      <th>User_status_count</th>\n",
       "      <th>user_followers</th>\n",
       "      <th>user_location</th>\n",
       "      <th>user_verified</th>\n",
       "      <th>fav_count</th>\n",
       "      <th>rt_count</th>\n",
       "      <th>tweet_date</th>\n",
       "      <th>User</th>\n",
       "      <th>clean_tweet</th>\n",
       "    </tr>\n",
       "  </thead>\n",
       "  <tbody>\n",
       "    <tr>\n",
       "      <th>0</th>\n",
       "      <td>RT @pallavict: Those angry with BJP for police...</td>\n",
       "      <td>NaN</td>\n",
       "      <td>28090</td>\n",
       "      <td>221</td>\n",
       "      <td>भारत</td>\n",
       "      <td>False</td>\n",
       "      <td>0</td>\n",
       "      <td>48</td>\n",
       "      <td>2020-10-29 14:06:15</td>\n",
       "      <td>पार्थ कुलकर्णी 🇮🇳</td>\n",
       "      <td>RT Those angry with BJP for police atrocities ...</td>\n",
       "    </tr>\n",
       "    <tr>\n",
       "      <th>1</th>\n",
       "      <td>@SalmanNizami_ Bihar learnt a lesson from the ...</td>\n",
       "      <td>NaN</td>\n",
       "      <td>4402</td>\n",
       "      <td>584</td>\n",
       "      <td></td>\n",
       "      <td>False</td>\n",
       "      <td>0</td>\n",
       "      <td>0</td>\n",
       "      <td>2020-10-29 14:04:59</td>\n",
       "      <td>Nomanuddin Hassan</td>\n",
       "      <td>Bihar learnt a lesson from the last election w...</td>\n",
       "    </tr>\n",
       "    <tr>\n",
       "      <th>2</th>\n",
       "      <td>@ZarrarKhuhro @Khalil_a_hassan Bihar Elections...</td>\n",
       "      <td>NaN</td>\n",
       "      <td>17029</td>\n",
       "      <td>256</td>\n",
       "      <td>Pakistan</td>\n",
       "      <td>False</td>\n",
       "      <td>0</td>\n",
       "      <td>0</td>\n",
       "      <td>2020-10-29 14:00:00</td>\n",
       "      <td>30 Beat Khan</td>\n",
       "      <td>a hassan Bihar Elections Modi needed his minio...</td>\n",
       "    </tr>\n",
       "    <tr>\n",
       "      <th>3</th>\n",
       "      <td>@AbhishBanerj Bihar...After Maharashtra it's t...</td>\n",
       "      <td>NaN</td>\n",
       "      <td>4387</td>\n",
       "      <td>673</td>\n",
       "      <td>Mumbai, India</td>\n",
       "      <td>False</td>\n",
       "      <td>1</td>\n",
       "      <td>0</td>\n",
       "      <td>2020-10-29 13:58:34</td>\n",
       "      <td>Onc Doc</td>\n",
       "      <td>Bihar After Maharashtra it s the second electi...</td>\n",
       "    </tr>\n",
       "    <tr>\n",
       "      <th>4</th>\n",
       "      <td>RT @pallavict: Those angry with BJP for police...</td>\n",
       "      <td>NaN</td>\n",
       "      <td>8030</td>\n",
       "      <td>68</td>\n",
       "      <td>Hell</td>\n",
       "      <td>False</td>\n",
       "      <td>0</td>\n",
       "      <td>48</td>\n",
       "      <td>2020-10-29 13:58:28</td>\n",
       "      <td>King Of Hell</td>\n",
       "      <td>RT Those angry with BJP for police atrocities ...</td>\n",
       "    </tr>\n",
       "  </tbody>\n",
       "</table>\n",
       "</div>"
      ],
      "text/plain": [
       "                                              Tweets Users User_status_count  \\\n",
       "0  RT @pallavict: Those angry with BJP for police...   NaN             28090   \n",
       "1  @SalmanNizami_ Bihar learnt a lesson from the ...   NaN              4402   \n",
       "2  @ZarrarKhuhro @Khalil_a_hassan Bihar Elections...   NaN             17029   \n",
       "3  @AbhishBanerj Bihar...After Maharashtra it's t...   NaN              4387   \n",
       "4  RT @pallavict: Those angry with BJP for police...   NaN              8030   \n",
       "\n",
       "  user_followers  user_location user_verified fav_count rt_count  \\\n",
       "0            221           भारत         False         0       48   \n",
       "1            584                        False         0        0   \n",
       "2            256      Pakistan          False         0        0   \n",
       "3            673  Mumbai, India         False         1        0   \n",
       "4             68           Hell         False         0       48   \n",
       "\n",
       "            tweet_date               User  \\\n",
       "0  2020-10-29 14:06:15  पार्थ कुलकर्णी 🇮🇳   \n",
       "1  2020-10-29 14:04:59  Nomanuddin Hassan   \n",
       "2  2020-10-29 14:00:00       30 Beat Khan   \n",
       "3  2020-10-29 13:58:34            Onc Doc   \n",
       "4  2020-10-29 13:58:28       King Of Hell   \n",
       "\n",
       "                                         clean_tweet  \n",
       "0  RT Those angry with BJP for police atrocities ...  \n",
       "1  Bihar learnt a lesson from the last election w...  \n",
       "2  a hassan Bihar Elections Modi needed his minio...  \n",
       "3  Bihar After Maharashtra it s the second electi...  \n",
       "4  RT Those angry with BJP for police atrocities ...  "
      ]
     },
     "execution_count": 22,
     "metadata": {},
     "output_type": "execute_result"
    }
   ],
   "source": [
    "df.head()"
   ]
  },
  {
   "cell_type": "code",
   "execution_count": 23,
   "metadata": {},
   "outputs": [
    {
     "data": {
      "text/html": [
       "<div>\n",
       "<style scoped>\n",
       "    .dataframe tbody tr th:only-of-type {\n",
       "        vertical-align: middle;\n",
       "    }\n",
       "\n",
       "    .dataframe tbody tr th {\n",
       "        vertical-align: top;\n",
       "    }\n",
       "\n",
       "    .dataframe thead th {\n",
       "        text-align: right;\n",
       "    }\n",
       "</style>\n",
       "<table border=\"1\" class=\"dataframe\">\n",
       "  <thead>\n",
       "    <tr style=\"text-align: right;\">\n",
       "      <th></th>\n",
       "      <th>Tweets</th>\n",
       "      <th>Users</th>\n",
       "      <th>User_status_count</th>\n",
       "      <th>user_followers</th>\n",
       "      <th>user_location</th>\n",
       "      <th>user_verified</th>\n",
       "      <th>fav_count</th>\n",
       "      <th>rt_count</th>\n",
       "      <th>tweet_date</th>\n",
       "      <th>User</th>\n",
       "      <th>clean_tweet</th>\n",
       "      <th>Sentiment</th>\n",
       "    </tr>\n",
       "  </thead>\n",
       "  <tbody>\n",
       "    <tr>\n",
       "      <th>0</th>\n",
       "      <td>RT @pallavict: Those angry with BJP for police...</td>\n",
       "      <td>NaN</td>\n",
       "      <td>28090</td>\n",
       "      <td>221</td>\n",
       "      <td>भारत</td>\n",
       "      <td>False</td>\n",
       "      <td>0</td>\n",
       "      <td>48</td>\n",
       "      <td>2020-10-29 14:06:15</td>\n",
       "      <td>पार्थ कुलकर्णी 🇮🇳</td>\n",
       "      <td>RT Those angry with BJP for police atrocities ...</td>\n",
       "      <td>Negative</td>\n",
       "    </tr>\n",
       "    <tr>\n",
       "      <th>1</th>\n",
       "      <td>@SalmanNizami_ Bihar learnt a lesson from the ...</td>\n",
       "      <td>NaN</td>\n",
       "      <td>4402</td>\n",
       "      <td>584</td>\n",
       "      <td></td>\n",
       "      <td>False</td>\n",
       "      <td>0</td>\n",
       "      <td>0</td>\n",
       "      <td>2020-10-29 14:04:59</td>\n",
       "      <td>Nomanuddin Hassan</td>\n",
       "      <td>Bihar learnt a lesson from the last election w...</td>\n",
       "      <td>Positive</td>\n",
       "    </tr>\n",
       "    <tr>\n",
       "      <th>2</th>\n",
       "      <td>@ZarrarKhuhro @Khalil_a_hassan Bihar Elections...</td>\n",
       "      <td>NaN</td>\n",
       "      <td>17029</td>\n",
       "      <td>256</td>\n",
       "      <td>Pakistan</td>\n",
       "      <td>False</td>\n",
       "      <td>0</td>\n",
       "      <td>0</td>\n",
       "      <td>2020-10-29 14:00:00</td>\n",
       "      <td>30 Beat Khan</td>\n",
       "      <td>a hassan Bihar Elections Modi needed his minio...</td>\n",
       "      <td>Neutral</td>\n",
       "    </tr>\n",
       "    <tr>\n",
       "      <th>3</th>\n",
       "      <td>@AbhishBanerj Bihar...After Maharashtra it's t...</td>\n",
       "      <td>NaN</td>\n",
       "      <td>4387</td>\n",
       "      <td>673</td>\n",
       "      <td>Mumbai, India</td>\n",
       "      <td>False</td>\n",
       "      <td>1</td>\n",
       "      <td>0</td>\n",
       "      <td>2020-10-29 13:58:34</td>\n",
       "      <td>Onc Doc</td>\n",
       "      <td>Bihar After Maharashtra it s the second electi...</td>\n",
       "      <td>Negative</td>\n",
       "    </tr>\n",
       "    <tr>\n",
       "      <th>4</th>\n",
       "      <td>RT @pallavict: Those angry with BJP for police...</td>\n",
       "      <td>NaN</td>\n",
       "      <td>8030</td>\n",
       "      <td>68</td>\n",
       "      <td>Hell</td>\n",
       "      <td>False</td>\n",
       "      <td>0</td>\n",
       "      <td>48</td>\n",
       "      <td>2020-10-29 13:58:28</td>\n",
       "      <td>King Of Hell</td>\n",
       "      <td>RT Those angry with BJP for police atrocities ...</td>\n",
       "      <td>Negative</td>\n",
       "    </tr>\n",
       "  </tbody>\n",
       "</table>\n",
       "</div>"
      ],
      "text/plain": [
       "                                              Tweets Users User_status_count  \\\n",
       "0  RT @pallavict: Those angry with BJP for police...   NaN             28090   \n",
       "1  @SalmanNizami_ Bihar learnt a lesson from the ...   NaN              4402   \n",
       "2  @ZarrarKhuhro @Khalil_a_hassan Bihar Elections...   NaN             17029   \n",
       "3  @AbhishBanerj Bihar...After Maharashtra it's t...   NaN              4387   \n",
       "4  RT @pallavict: Those angry with BJP for police...   NaN              8030   \n",
       "\n",
       "  user_followers  user_location user_verified fav_count rt_count  \\\n",
       "0            221           भारत         False         0       48   \n",
       "1            584                        False         0        0   \n",
       "2            256      Pakistan          False         0        0   \n",
       "3            673  Mumbai, India         False         1        0   \n",
       "4             68           Hell         False         0       48   \n",
       "\n",
       "            tweet_date               User  \\\n",
       "0  2020-10-29 14:06:15  पार्थ कुलकर्णी 🇮🇳   \n",
       "1  2020-10-29 14:04:59  Nomanuddin Hassan   \n",
       "2  2020-10-29 14:00:00       30 Beat Khan   \n",
       "3  2020-10-29 13:58:34            Onc Doc   \n",
       "4  2020-10-29 13:58:28       King Of Hell   \n",
       "\n",
       "                                         clean_tweet Sentiment  \n",
       "0  RT Those angry with BJP for police atrocities ...  Negative  \n",
       "1  Bihar learnt a lesson from the last election w...  Positive  \n",
       "2  a hassan Bihar Elections Modi needed his minio...   Neutral  \n",
       "3  Bihar After Maharashtra it s the second electi...  Negative  \n",
       "4  RT Those angry with BJP for police atrocities ...  Negative  "
      ]
     },
     "execution_count": 23,
     "metadata": {},
     "output_type": "execute_result"
    }
   ],
   "source": [
    "df['Sentiment'] = df['clean_tweet'].apply(lambda x : analyze_sentiment(x))\n",
    "df.head()"
   ]
  },
  {
   "cell_type": "code",
   "execution_count": 24,
   "metadata": {},
   "outputs": [
    {
     "name": "stdout",
     "output_type": "stream",
     "text": [
      "Original tweet:\n",
      " @SalmanNizami_ Bihar learnt a lesson from the last election when one of the party of Grand Alliance allied with BJP… https://t.co/h5Gz3cLb0B\n",
      "\n",
      "Clean tweet:\n",
      " Bihar learnt a lesson from the last election when one of the party of Grand Alliance allied with BJP\n",
      "\n",
      "Sentiment tweet:\n",
      " Positive\n"
     ]
    }
   ],
   "source": [
    "n = 1\n",
    "print(\"Original tweet:\\n\", df['Tweets'][n])\n",
    "print()\n",
    "print(\"Clean tweet:\\n\", df['clean_tweet'][n])\n",
    "print()\n",
    "print(\"Sentiment tweet:\\n\", df['Sentiment'][n])"
   ]
  },
  {
   "cell_type": "code",
   "execution_count": 25,
   "metadata": {},
   "outputs": [
    {
     "name": "stdout",
     "output_type": "stream",
     "text": [
      "Original tweet:\n",
      " RT @pallavict: Those angry with BJP for police atrocities committed in Munger in Bihar when Election Commission was in charge\n",
      "\n",
      "Pls remember…\n",
      "\n",
      "Clean tweet:\n",
      " RT Those angry with BJP for police atrocities committed in Munger in Bihar when Election Commission was in charge Pls remember\n",
      "\n",
      "Sentiment tweet:\n",
      " Negative\n"
     ]
    }
   ],
   "source": [
    "n = 25\n",
    "print(\"Original tweet:\\n\", df['Tweets'][n])\n",
    "print()\n",
    "print(\"Clean tweet:\\n\", df['clean_tweet'][n])\n",
    "print()\n",
    "print(\"Sentiment tweet:\\n\", df['Sentiment'][n])"
   ]
  },
  {
   "cell_type": "code",
   "execution_count": 26,
   "metadata": {},
   "outputs": [
    {
     "name": "stdout",
     "output_type": "stream",
     "text": [
      "Original tweet:\n",
      " #ElectionswithMC 🗳️ \"People of Bihar have taken a resolve to again defeat those who brought 'jungle raj' in the sta… https://t.co/hrrl85VdqK\n",
      "\n",
      "Clean tweet:\n",
      " ElectionswithMC People of Bihar have taken a resolve to again defeat those who brought jungle raj in the sta\n",
      "\n",
      "Sentiment tweet:\n",
      " Neutral\n"
     ]
    }
   ],
   "source": [
    "n = 500\n",
    "print(\"Original tweet:\\n\", df['Tweets'][n])\n",
    "print()\n",
    "print(\"Clean tweet:\\n\", df['clean_tweet'][n])\n",
    "print()\n",
    "print(\"Sentiment tweet:\\n\", df['Sentiment'][n])"
   ]
  },
  {
   "cell_type": "code",
   "execution_count": 27,
   "metadata": {},
   "outputs": [
    {
     "name": "stdout",
     "output_type": "stream",
     "text": [
      "Original tweet:\n",
      " @ArnabGoswamiRTV @narendramodi @AmitShah @myogiadityanath due to implementation of code of conduct(aachaar sanhita)… https://t.co/WXI1ZSH4la\n",
      "\n",
      "Clean tweet:\n",
      " due to implementation of code of conduct aachaar sanhita\n",
      "\n",
      "Sentiment tweet:\n",
      " Negative\n"
     ]
    }
   ],
   "source": [
    "n = 777\n",
    "print(\"Original tweet:\\n\", df['Tweets'][n])\n",
    "print()\n",
    "print(\"Clean tweet:\\n\", df['clean_tweet'][n])\n",
    "print()\n",
    "print(\"Sentiment tweet:\\n\", df['Sentiment'][n])"
   ]
  },
  {
   "cell_type": "code",
   "execution_count": 28,
   "metadata": {},
   "outputs": [
    {
     "data": {
      "text/plain": [
       "349"
      ]
     },
     "execution_count": 28,
     "metadata": {},
     "output_type": "execute_result"
    }
   ],
   "source": [
    "df[df.Sentiment == 'Positive'].shape[0]"
   ]
  },
  {
   "cell_type": "code",
   "execution_count": 29,
   "metadata": {},
   "outputs": [
    {
     "data": {
      "text/plain": [
       "480"
      ]
     },
     "execution_count": 29,
     "metadata": {},
     "output_type": "execute_result"
    }
   ],
   "source": [
    "df[df.Sentiment == 'Neutral'].shape[0]"
   ]
  },
  {
   "cell_type": "code",
   "execution_count": 30,
   "metadata": {},
   "outputs": [
    {
     "data": {
      "text/plain": [
       "171"
      ]
     },
     "execution_count": 30,
     "metadata": {},
     "output_type": "execute_result"
    }
   ],
   "source": [
    "df[df.Sentiment == 'Negative'].shape[0]"
   ]
  }
 ],
 "metadata": {
  "kernelspec": {
   "display_name": "Python 3",
   "language": "python",
   "name": "python3"
  },
  "language_info": {
   "codemirror_mode": {
    "name": "ipython",
    "version": 3
   },
   "file_extension": ".py",
   "mimetype": "text/x-python",
   "name": "python",
   "nbconvert_exporter": "python",
   "pygments_lexer": "ipython3",
   "version": "3.7.6"
  }
 },
 "nbformat": 4,
 "nbformat_minor": 4
}
