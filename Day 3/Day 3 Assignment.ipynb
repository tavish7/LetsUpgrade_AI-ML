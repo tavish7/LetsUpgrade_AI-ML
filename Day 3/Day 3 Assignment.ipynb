{
 "cells": [
  {
   "cell_type": "code",
   "execution_count": 16,
   "metadata": {},
   "outputs": [
    {
     "name": "stdout",
     "output_type": "stream",
     "text": [
      "Subtraction =  (3-13j)\n"
     ]
    }
   ],
   "source": [
    "# 1. Subtract two complex numbers\n",
    "c1 = 5 - 7j\n",
    "c2 = 2 + 6j\n",
    "print('Subtraction = ', c1 - c2 )"
   ]
  },
  {
   "cell_type": "code",
   "execution_count": 17,
   "metadata": {},
   "outputs": [
    {
     "name": "stdout",
     "output_type": "stream",
     "text": [
      "Fourth root of a number =  2.0\n"
     ]
    }
   ],
   "source": [
    "# 2. Fourth root of a number\n",
    "num = 16\n",
    "ans = num**(1/4)\n",
    "print('Fourth root of a number = ',ans)"
   ]
  },
  {
   "cell_type": "code",
   "execution_count": 18,
   "metadata": {},
   "outputs": [
    {
     "name": "stdout",
     "output_type": "stream",
     "text": [
      "Before swapping\n",
      "5   8\n",
      "After swapping\n",
      "8   5\n"
     ]
    }
   ],
   "source": [
    "# 3. Swap two numbers with temporary variable\n",
    "a = 5\n",
    "b = 8\n",
    "print('Before swapping')\n",
    "print(a,' ',b)\n",
    "temp = a\n",
    "a = b\n",
    "b = temp\n",
    "print('After swapping')\n",
    "print(a,' ',b)"
   ]
  },
  {
   "cell_type": "code",
   "execution_count": 19,
   "metadata": {},
   "outputs": [
    {
     "name": "stdout",
     "output_type": "stream",
     "text": [
      "Before swapping\n",
      "5   8\n",
      "After swapping\n",
      "8   5\n"
     ]
    }
   ],
   "source": [
    "# 4. Swap two numbers without temporary variable\n",
    "a = 5\n",
    "b = 8\n",
    "print('Before swapping')\n",
    "print(a,' ',b)\n",
    "a,b = b,a\n",
    "print('After swapping')\n",
    "print(a,' ',b)"
   ]
  },
  {
   "cell_type": "code",
   "execution_count": 20,
   "metadata": {},
   "outputs": [
    {
     "name": "stdout",
     "output_type": "stream",
     "text": [
      "Fahrenheit to Celsius =  37\n",
      "Fahrenheit to Kelvin =  310\n"
     ]
    }
   ],
   "source": [
    "# 5. Convert fahrenheit to kelvin and celsius both\n",
    "temp_f = 100\n",
    "temp_c = (5*(temp_f-32))//9\n",
    "temp_k = temp_c + 273\n",
    "print('Fahrenheit to Celsius = ',temp_c)\n",
    "print('Fahrenheit to Kelvin = ',temp_k)"
   ]
  },
  {
   "cell_type": "code",
   "execution_count": 21,
   "metadata": {},
   "outputs": [
    {
     "name": "stdout",
     "output_type": "stream",
     "text": [
      "<class 'int'>\n",
      "<class 'float'>\n",
      "<class 'complex'>\n",
      "<class 'str'>\n",
      "<class 'bool'>\n"
     ]
    }
   ],
   "source": [
    "# 6. Data types in python\n",
    "a = 27\n",
    "b = 8.5\n",
    "c = 5 + 8j\n",
    "d = 'jack'\n",
    "e = True\n",
    "print(type(a))\n",
    "print(type(b))\n",
    "print(type(c))\n",
    "print(type(d))\n",
    "print(type(e))"
   ]
  },
  {
   "cell_type": "markdown",
   "metadata": {},
   "source": [
    "## Create Github Profile\n",
    "1. Go to https://github.com/join.\n",
    "2. Enter your Username, Email and Password.\n",
    "3. Verify your account\n",
    "4. Click on Create account\n",
    "\n",
    "## Upload Assignment\n",
    "1. In Repository section click _New.\n",
    "2. Enter ___Repository name___.\n",
    "3. Click ___Create Repository___.\n",
    "4. Click on ___uploading an existing file___.\n",
    "5. Drag and drop your file or folder and then click ___Commit changes___."
   ]
  },
  {
   "cell_type": "code",
   "execution_count": null,
   "metadata": {},
   "outputs": [],
   "source": []
  }
 ],
 "metadata": {
  "kernelspec": {
   "display_name": "Python 3",
   "language": "python",
   "name": "python3"
  },
  "language_info": {
   "codemirror_mode": {
    "name": "ipython",
    "version": 3
   },
   "file_extension": ".py",
   "mimetype": "text/x-python",
   "name": "python",
   "nbconvert_exporter": "python",
   "pygments_lexer": "ipython3",
   "version": "3.7.6"
  }
 },
 "nbformat": 4,
 "nbformat_minor": 4
}
