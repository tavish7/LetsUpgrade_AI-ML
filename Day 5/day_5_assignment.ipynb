{
 "cells": [
  {
   "cell_type": "markdown",
   "metadata": {},
   "source": [
    "## Day 5 Assignment"
   ]
  },
  {
   "cell_type": "markdown",
   "metadata": {},
   "source": [
    "### Q1. Write a Python program to find the first 20 non-even prime                natural numbers."
   ]
  },
  {
   "cell_type": "code",
   "execution_count": 1,
   "metadata": {},
   "outputs": [
    {
     "name": "stdout",
     "output_type": "stream",
     "text": [
      "3 5 7 9 11 13 15 17 19 "
     ]
    }
   ],
   "source": [
    "# Ans1.\n",
    "for n in range(20):\n",
    "    if n > 1:\n",
    "        for i in range(2,n):\n",
    "            if (n%i)==0:\n",
    "                break\n",
    "        if n%2!=0:\n",
    "            print(n,end=' ')"
   ]
  },
  {
   "cell_type": "markdown",
   "metadata": {},
   "source": [
    "### Q2. Write a Python program to implement 15 functions of string."
   ]
  },
  {
   "cell_type": "code",
   "execution_count": 2,
   "metadata": {},
   "outputs": [
    {
     "name": "stdout",
     "output_type": "stream",
     "text": [
      "abcdefg\n",
      "ABCDEFG\n",
      "True\n",
      "7\n",
      "Abc Efg\n",
      "ABC eFG\n",
      "False\n",
      "iAbcDefGs\n",
      "['abc Efg']\n",
      "4\n",
      "True\n",
      "1\n",
      "000abc Efg\n",
      "True\n",
      "7\n"
     ]
    }
   ],
   "source": [
    "# Ans2\n",
    "s = \"AbcDefG\"\n",
    "a = \"abc Efg\"\n",
    "n = 123\n",
    "d = \"a1s54e\"\n",
    "string = \"Python is good\"\n",
    "sub = \"is\"\n",
    "# 1. lower()\n",
    "print(s.lower())\n",
    "\n",
    "# 2. upper()\n",
    "print(s.upper())\n",
    "\n",
    "# 3. isalpha()\n",
    "print(s.isalpha())\n",
    "\n",
    "# 4. find()\n",
    "print(string.find('is'))\n",
    "\n",
    "# 5. title()\n",
    "print(a.title())\n",
    "\n",
    "# 6. swapcase()\n",
    "print(a.swapcase())\n",
    "\n",
    "# 7. isspace()\n",
    "print(a.isspace())\n",
    "\n",
    "# 8. .join()\n",
    "print(s.join(sub))\n",
    "\n",
    "# 9. split()\n",
    "print(a.split(','))\n",
    "\n",
    "# 10. rfind()\n",
    "print(s.rfind(\"e\"))\n",
    "\n",
    "# 11. isalnum()\n",
    "print(d.isalnum())\n",
    "\n",
    "# 12. count()\n",
    "print(string.count(sub))\n",
    "\n",
    "# 13. zfill()\n",
    "print(a.zfill(10))\n",
    "\n",
    "# 14. endswith()\n",
    "print(string.endswith('good'))\n",
    "\n",
    "# 15. index()\n",
    "print(string.index('is'))"
   ]
  },
  {
   "cell_type": "markdown",
   "metadata": {},
   "source": [
    "### Q3. Write a Python program to check if the given string is a Palindrome or Anagram or None of them. Display the message accordingly to the user.\n"
   ]
  },
  {
   "cell_type": "code",
   "execution_count": 3,
   "metadata": {},
   "outputs": [
    {
     "name": "stdout",
     "output_type": "stream",
     "text": [
      "The given string is Plaindrome\n",
      "The given string is Anagram\n"
     ]
    }
   ],
   "source": [
    "# Ans3.\n",
    "s1 = \"dad\"\n",
    "s2 = \"add\"\n",
    "if (s1 == s1[::-1]):\n",
    "    print(\"The given string is Plaindrome\")\n",
    "if (sorted(s1)==sorted(s2)):\n",
    "    print(\"The given string is Anagram\")\n",
    "if s1 != s1[::-1] and sorted(s1)!=sorted(s2):\n",
    "    print(\"The given string is neither Palindrome nor Anagram\")    "
   ]
  },
  {
   "cell_type": "markdown",
   "metadata": {},
   "source": [
    "### Q4. Write a Python's user defined function that removes all the additional characters from the string and converts it finally to lower case using built-in lower(). eg: If the string is \"Dr. Darshan Ingle @AI-ML Trainer\", then the output be \"drdarshaningleaimltrainer\""
   ]
  },
  {
   "cell_type": "code",
   "execution_count": 4,
   "metadata": {},
   "outputs": [
    {
     "name": "stdout",
     "output_type": "stream",
     "text": [
      "drdarshaningleaimltrainer"
     ]
    }
   ],
   "source": [
    "def rem(string):\n",
    "    s=''\n",
    "    for i in string.lower():\n",
    "        if i.isalnum():\n",
    "            print(i,end='')\n",
    "rem(\"Dr. Darshan Ingle @AI-ML Trainer\")"
   ]
  }
 ],
 "metadata": {
  "kernelspec": {
   "display_name": "Python 3",
   "language": "python",
   "name": "python3"
  },
  "language_info": {
   "codemirror_mode": {
    "name": "ipython",
    "version": 3
   },
   "file_extension": ".py",
   "mimetype": "text/x-python",
   "name": "python",
   "nbconvert_exporter": "python",
   "pygments_lexer": "ipython3",
   "version": "3.7.6"
  }
 },
 "nbformat": 4,
 "nbformat_minor": 4
}
