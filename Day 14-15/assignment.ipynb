{
 "cells": [
  {
   "cell_type": "markdown",
   "metadata": {},
   "source": [
    "# Assignment"
   ]
  },
  {
   "cell_type": "code",
   "execution_count": 1,
   "metadata": {},
   "outputs": [],
   "source": [
    "import numpy as np"
   ]
  },
  {
   "cell_type": "markdown",
   "metadata": {},
   "source": [
    "## Q1. Create a 3x3x3 array with random values."
   ]
  },
  {
   "cell_type": "code",
   "execution_count": 2,
   "metadata": {},
   "outputs": [
    {
     "name": "stdout",
     "output_type": "stream",
     "text": [
      "3x3x3 Array: \n",
      "[[[0.55730997 0.45441129 0.33571967]\n",
      "  [0.90810397 0.9483115  0.47617735]\n",
      "  [0.09499623 0.12041623 0.11290011]]\n",
      "\n",
      " [[0.24541529 0.67024269 0.33612315]\n",
      "  [0.52813118 0.63734707 0.48102256]\n",
      "  [0.91231698 0.15938051 0.26148356]]\n",
      "\n",
      " [[0.74789865 0.20969568 0.52118422]\n",
      "  [0.97831166 0.43906462 0.86970117]\n",
      "  [0.23098918 0.05331374 0.6368639 ]]]\n",
      "Shape: (3, 3, 3)\n"
     ]
    }
   ],
   "source": [
    "# Ans1.\n",
    "x = np.random.random((3,3,3))\n",
    "print('3x3x3 Array: ')\n",
    "print(x)\n",
    "print('Shape:',x.shape)"
   ]
  },
  {
   "cell_type": "markdown",
   "metadata": {},
   "source": [
    "## Q2. Create a 5x5 matrix with values 1,2,3,4 just below the diagonal."
   ]
  },
  {
   "cell_type": "code",
   "execution_count": 3,
   "metadata": {},
   "outputs": [
    {
     "name": "stdout",
     "output_type": "stream",
     "text": [
      "[[0. 0. 0. 0. 0.]\n",
      " [1. 0. 0. 0. 0.]\n",
      " [0. 2. 0. 0. 0.]\n",
      " [0. 0. 3. 0. 0.]\n",
      " [0. 0. 0. 4. 0.]]\n"
     ]
    }
   ],
   "source": [
    "# Ans2. \n",
    "y = np.zeros((5,5))\n",
    "for i in range(len(y)):\n",
    "    for j in range(len(y)):\n",
    "        if(i==j+1):\n",
    "            y[i][j]=i\n",
    "print(y)"
   ]
  },
  {
   "cell_type": "markdown",
   "metadata": {},
   "source": [
    "## Q3. Create a 8x8 matrix and fill it with a checkerboard pattern."
   ]
  },
  {
   "cell_type": "code",
   "execution_count": 4,
   "metadata": {},
   "outputs": [
    {
     "name": "stdout",
     "output_type": "stream",
     "text": [
      "[[0 1 0 1 0 1 0 1]\n",
      " [1 0 1 0 1 0 1 0]\n",
      " [0 1 0 1 0 1 0 1]\n",
      " [1 0 1 0 1 0 1 0]\n",
      " [0 1 0 1 0 1 0 1]\n",
      " [1 0 1 0 1 0 1 0]\n",
      " [0 1 0 1 0 1 0 1]\n",
      " [1 0 1 0 1 0 1 0]]\n"
     ]
    }
   ],
   "source": [
    "# Ans3. \n",
    "Z = np.zeros ((8,8), dtype=int)\n",
    "Z[1::2, ::2]= 1\n",
    "Z[::2, 1::2] = 1\n",
    "print (Z)"
   ]
  },
  {
   "cell_type": "markdown",
   "metadata": {},
   "source": [
    "## Q4. Normalize a 5x5 random matrix."
   ]
  },
  {
   "cell_type": "code",
   "execution_count": 5,
   "metadata": {},
   "outputs": [
    {
     "name": "stdout",
     "output_type": "stream",
     "text": [
      "Before:\n",
      "\n",
      "[[ 0.64305691  0.27379953  1.72046172 -0.27565441 -0.37268213]\n",
      " [-0.64862126 -0.78514069 -0.79681565 -0.28238804  0.92546322]\n",
      " [-2.05482689  0.10598264 -0.28363704  0.4020496   1.08837366]\n",
      " [-1.25375514  1.97319248 -0.79843375 -0.23043551  1.21927198]\n",
      " [ 1.10408398  0.826327   -0.8035545   0.16795703 -0.14629187]]\n",
      "\n",
      "After:\n",
      "\n",
      "[[0.66977925 0.57810705 0.93725682 0.44169909 0.41761089]\n",
      " [0.34910597 0.31521353 0.31231509 0.44002739 0.73988971]\n",
      " [0.         0.53644467 0.43971731 0.60994654 0.78033402]\n",
      " [0.19887485 1.         0.31191338 0.45292517 0.81283096]\n",
      " [0.78423428 0.71527806 0.3106421  0.55183049 0.47381476]]\n"
     ]
    }
   ],
   "source": [
    "# Ans4.\n",
    "a = np.random.randn(5,5)\n",
    "print(\"Before:\\n\")\n",
    "print(a)\n",
    "\n",
    "amax, amin = a.max(), a.min()\n",
    "a = (a - amin)/(amax - amin)\n",
    "\n",
    "print(\"\\nAfter:\\n\")\n",
    "print(a)"
   ]
  },
  {
   "cell_type": "markdown",
   "metadata": {},
   "source": [
    "## Q5. How to find common values between two arrays?"
   ]
  },
  {
   "cell_type": "code",
   "execution_count": 6,
   "metadata": {},
   "outputs": [
    {
     "name": "stdout",
     "output_type": "stream",
     "text": [
      "Array 1:  [1 5 7 9 8 5]\n",
      "Array 2:  [6, 9, 7, 9, 5]\n",
      "Common values between two arrays: [5 7 9]\n"
     ]
    }
   ],
   "source": [
    "# Ans5.\n",
    "a1 = np.array([1,5,7,9,8,5])\n",
    "a2 = [6,9,7,9,5]\n",
    "print(\"Array 1: \", a1)\n",
    "print(\"Array 2: \", a2)\n",
    "print(\"Common values between two arrays:\", np.intersect1d(a1, a2))"
   ]
  },
  {
   "cell_type": "markdown",
   "metadata": {},
   "source": [
    "## Q6. How to get the dates of yesterday, today and tomorrow?"
   ]
  },
  {
   "cell_type": "code",
   "execution_count": 7,
   "metadata": {},
   "outputs": [
    {
     "name": "stdout",
     "output_type": "stream",
     "text": [
      "Yesterday:  2020-07-26\n",
      "Today:  2020-07-27\n",
      "Tomorrow:  2020-07-28\n"
     ]
    }
   ],
   "source": [
    "#Ans6.\n",
    "import datetime as dt\n",
    "today = dt.date.today()\n",
    "yesterday = today - dt.timedelta(days = 1)\n",
    "tomorrow = today + dt.timedelta(days = 1) \n",
    "\n",
    "print('Yesterday: ',yesterday)\n",
    "print('Today: ', today)\n",
    "print('Tomorrow: ', tomorrow)"
   ]
  },
  {
   "cell_type": "markdown",
   "metadata": {},
   "source": [
    "## Q7. Consider two random array A and B, check if they are equal."
   ]
  },
  {
   "cell_type": "code",
   "execution_count": 8,
   "metadata": {},
   "outputs": [
    {
     "name": "stdout",
     "output_type": "stream",
     "text": [
      "Array 1:\n",
      " [5 3 1 4 2]\n",
      "Array 2:\n",
      " [1 2 3 4 5]\n",
      "True if two arrays are equal\n",
      "False if two arrays are equal\n"
     ]
    },
    {
     "data": {
      "text/plain": [
       "False"
      ]
     },
     "execution_count": 8,
     "metadata": {},
     "output_type": "execute_result"
    }
   ],
   "source": [
    "# Ans7.\n",
    "a = np.array([5,3,1,4,2])\n",
    "b =  np.array([1,2,3,4,5])\n",
    "print('Array 1:\\n', a)\n",
    "print('Array 2:\\n', b)\n",
    "print('True if two arrays are equal')\n",
    "print('False if two arrays are equal')\n",
    "np.array_equal(a,b)"
   ]
  },
  {
   "cell_type": "markdown",
   "metadata": {},
   "source": [
    "## Q8. Create random vector of size 10 and replace the maximum value by 0."
   ]
  },
  {
   "cell_type": "code",
   "execution_count": 9,
   "metadata": {},
   "outputs": [
    {
     "name": "stdout",
     "output_type": "stream",
     "text": [
      "Random Vector: \n",
      "[[-1.10046884]\n",
      " [-0.6064781 ]\n",
      " [ 0.44016142]\n",
      " [-0.30985938]\n",
      " [ 0.76557149]\n",
      " [ 2.42458562]\n",
      " [-0.92748183]\n",
      " [-0.05671949]\n",
      " [ 0.70633231]\n",
      " [ 0.67650707]]\n",
      "Maximum Value in the vector is:  2.424585623864498\n",
      "Updated vector is: \n",
      "[[-1.10046884]\n",
      " [-0.6064781 ]\n",
      " [ 0.44016142]\n",
      " [-0.30985938]\n",
      " [ 0.76557149]\n",
      " [ 0.        ]\n",
      " [-0.92748183]\n",
      " [-0.05671949]\n",
      " [ 0.70633231]\n",
      " [ 0.67650707]]\n"
     ]
    }
   ],
   "source": [
    "# Ans8.\n",
    "v = np.random.randn(10,1)\n",
    "print('Random Vector: ')\n",
    "print(v)\n",
    "max_val = np.amax(v)\n",
    "print('Maximum Value in the vector is: ',max_val)\n",
    "loc = np.where(v==max_val)\n",
    "v[loc] = 0\n",
    "print('Updated vector is: ')\n",
    "print(v)"
   ]
  },
  {
   "cell_type": "markdown",
   "metadata": {},
   "source": [
    "## Q9. How to print all the values of an array?"
   ]
  },
  {
   "cell_type": "code",
   "execution_count": 10,
   "metadata": {},
   "outputs": [
    {
     "name": "stdout",
     "output_type": "stream",
     "text": [
      "The array is:\n",
      "[[-0.27936223 -0.20580961  0.17951216]\n",
      " [-0.50834851  1.55479785 -0.08633245]\n",
      " [ 0.15461186  1.76072376  1.09722922]]\n",
      "The value at index( 0 , 0 )is: -0.27936223463006776\n",
      "The value at index( 0 , 1 )is: -0.2058096134932729\n",
      "The value at index( 0 , 2 )is: 0.17951215562910916\n",
      "The value at index( 1 , 0 )is: -0.5083485147335729\n",
      "The value at index( 1 , 1 )is: 1.5547978491712635\n",
      "The value at index( 1 , 2 )is: -0.08633245020347373\n",
      "The value at index( 2 , 0 )is: 0.15461186225636062\n",
      "The value at index( 2 , 1 )is: 1.7607237597269316\n",
      "The value at index( 2 , 2 )is: 1.097229224368524\n"
     ]
    }
   ],
   "source": [
    "#Ans9.\n",
    "d = np.random.randn(3,3)\n",
    "print(\"The array is:\")\n",
    "print(d)\n",
    "for i in range(len(d)):\n",
    "    for j in range(len(d)):\n",
    "        print(\"The value at index(\",i,\",\",j,\")is:\",d[i][j])"
   ]
  },
  {
   "cell_type": "markdown",
   "metadata": {},
   "source": [
    "## Q10. Subtract the mean of each row of a matrix."
   ]
  },
  {
   "cell_type": "code",
   "execution_count": 11,
   "metadata": {},
   "outputs": [
    {
     "name": "stdout",
     "output_type": "stream",
     "text": [
      "Initially:\n",
      "[[ 0.72563811  1.44906747  0.89853889]\n",
      " [ 0.54811858  0.73224781 -1.39148682]\n",
      " [ 0.61060708 -0.33906419 -0.25269769]]\n",
      "The mean value of each row is:\n",
      "[ 1.02441483 -0.03704014  0.00628173]\n",
      "Matrix after mean is subtracted\n",
      "[[-0.29877671  1.48610762  0.89225716]\n",
      " [-0.47629625  0.76928796 -1.39776855]\n",
      " [-0.41380775 -0.30202405 -0.25897943]]\n"
     ]
    }
   ],
   "source": [
    "# Ans10.\n",
    "arr = np.random.randn(3,3)\n",
    "print(\"Initially:\")\n",
    "print(arr)\n",
    "print(\"The mean value of each row is:\")\n",
    "arr1=np.mean(arr,axis=1)\n",
    "print(arr1)\n",
    "arr2=arr-arr1\n",
    "print(\"Matrix after mean is subtracted\")\n",
    "print(arr2)"
   ]
  },
  {
   "cell_type": "markdown",
   "metadata": {},
   "source": [
    "## Q11. Consider a given vector, how to add 1 to each element indexed by a second vector (be careful with repeated indices)?"
   ]
  },
  {
   "cell_type": "code",
   "execution_count": 12,
   "metadata": {},
   "outputs": [
    {
     "name": "stdout",
     "output_type": "stream",
     "text": [
      "Initial Vector:\n",
      " [0.66803292 0.84834203 0.59745213 0.11140291 0.18741549]\n",
      "Random Values:\n",
      " [3 0 2 3 3]\n",
      "Resultant Vector:\n",
      " [1.66803292 0.84834203 1.59745213 3.11140291 0.18741549]\n"
     ]
    }
   ],
   "source": [
    "# Ans11.\n",
    "k = np.random.rand(5)\n",
    "print(\"Initial Vector:\\n\",k)\n",
    "i = np.random.randint(0, len(k),5)\n",
    "print(\"Random Values:\\n\",i)\n",
    "k += np.bincount(i, minlength=len(k))\n",
    "print(\"Resultant Vector:\\n\",k)"
   ]
  },
  {
   "cell_type": "markdown",
   "metadata": {},
   "source": [
    "## Q12. How to get the diagonal of a dot product?"
   ]
  },
  {
   "cell_type": "code",
   "execution_count": 13,
   "metadata": {},
   "outputs": [
    {
     "name": "stdout",
     "output_type": "stream",
     "text": [
      "Array A:\n",
      " [[7 9 7]\n",
      " [3 2 0]\n",
      " [9 5 8]]\n",
      "\n",
      "Array B:\n",
      " [[3 9 5]\n",
      " [9 0 4]\n",
      " [8 2 5]]\n",
      "\n",
      "Dot product:\n",
      " [[158  77 106]\n",
      " [ 27  27  23]\n",
      " [136  97 105]]\n",
      "\n",
      "Diagonal Elements are:\n",
      " [158  27 105]\n"
     ]
    }
   ],
   "source": [
    "A = np.random.randint(0,10,(3,3))\n",
    "B= np.random.randint(0,10,(3,3))\n",
    "print(\"Array A:\\n\", A)\n",
    "print(\"\\nArray B:\\n\", B)\n",
    "print('\\nDot product:\\n',np.dot(A,B))\n",
    "dot = np.diag(np.dot(A, B))\n",
    "print('\\nDiagonal Elements are:\\n', dot)"
   ]
  },
  {
   "cell_type": "markdown",
   "metadata": {},
   "source": [
    "## Q13. How to find the most frequent value in an array?"
   ]
  },
  {
   "cell_type": "code",
   "execution_count": 14,
   "metadata": {},
   "outputs": [
    {
     "name": "stdout",
     "output_type": "stream",
     "text": [
      "[9 7 3 9 3 0 7 6 2 3 5 7 3 6 8]\n",
      "Most frequent value:  3\n"
     ]
    }
   ],
   "source": [
    "# Ans13.\n",
    "g = np.random.randint(0,10,15)\n",
    "print(g)\n",
    "print('Most frequent value: ',np.bincount(g).argmax())"
   ]
  },
  {
   "cell_type": "markdown",
   "metadata": {},
   "source": [
    "## Q14. How to get the n largest values of an array?"
   ]
  },
  {
   "cell_type": "code",
   "execution_count": 16,
   "metadata": {},
   "outputs": [
    {
     "name": "stdout",
     "output_type": "stream",
     "text": [
      "Enter the value of n: 5\n",
      "[99 95 97 98 96]\n"
     ]
    }
   ],
   "source": [
    "# Ans14.\n",
    "s = np.arange(100)\n",
    "np.random.shuffle(s)\n",
    "n = int(input('Enter the value of n: '))\n",
    "print (s[np.argpartition(-s,n)[:n]])"
   ]
  },
  {
   "cell_type": "markdown",
   "metadata": {},
   "source": [
    "## Q15. How to create a record array from a regular array?"
   ]
  },
  {
   "cell_type": "code",
   "execution_count": 17,
   "metadata": {},
   "outputs": [
    {
     "name": "stdout",
     "output_type": "stream",
     "text": [
      "Regular Array 1: ['T' 'A' 'V' 'I' 'S' 'H']\n",
      "Regular Array 2: [1 2 3 4 5 6]\n",
      "\n",
      "Recorded Array: [('T', 1) ('A', 2) ('V', 3) ('I', 4) ('S', 5) ('H', 6)]\n"
     ]
    }
   ],
   "source": [
    "# Ans15.\n",
    "x1 = np.array(['T','A','V','I','S','H'])\n",
    "x2 = np.array([1,2,3,4,5,6])\n",
    "\n",
    "print('Regular Array 1:',x1)\n",
    "print('Regular Array 2:',x2)\n",
    "\n",
    "records = np.core.records.fromarrays([x1,x2], names='Col1, Col2') # The arrays are now transposed \n",
    "\n",
    "print('\\nRecorded Array:', records)"
   ]
  }
 ],
 "metadata": {
  "kernelspec": {
   "display_name": "Python 3",
   "language": "python",
   "name": "python3"
  },
  "language_info": {
   "codemirror_mode": {
    "name": "ipython",
    "version": 3
   },
   "file_extension": ".py",
   "mimetype": "text/x-python",
   "name": "python",
   "nbconvert_exporter": "python",
   "pygments_lexer": "ipython3",
   "version": "3.7.6"
  }
 },
 "nbformat": 4,
 "nbformat_minor": 4
}
