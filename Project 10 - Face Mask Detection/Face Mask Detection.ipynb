{
 "cells": [
  {
   "cell_type": "markdown",
   "id": "e5621606",
   "metadata": {},
   "source": [
    "# Import Necessary Files"
   ]
  },
  {
   "cell_type": "code",
   "execution_count": 1,
   "id": "506e57ab",
   "metadata": {},
   "outputs": [],
   "source": [
    "import keras\n",
    "import tensorflow as tf"
   ]
  },
  {
   "cell_type": "code",
   "execution_count": 2,
   "id": "07fc44e2",
   "metadata": {},
   "outputs": [],
   "source": [
    "from keras.preprocessing.image import ImageDataGenerator\n",
    "import cv2\n",
    "from keras.models import Sequential\n",
    "from keras.layers import Conv2D, Input, ZeroPadding2D\n",
    "from keras.layers import BatchNormalization, Activation, MaxPool2D\n",
    "from keras.layers import Flatten, Dense, Dropout\n",
    "from keras.optimizers import RMSprop\n",
    "from keras.models import Model, load_model\n",
    "from keras.metrics import Accuracy\n",
    "from keras import utils\n",
    "import imutils\n",
    "import numpy as np"
   ]
  },
  {
   "cell_type": "markdown",
   "id": "ca0bbaf5",
   "metadata": {},
   "source": [
    "# Data Augmentation"
   ]
  },
  {
   "cell_type": "code",
   "execution_count": 3,
   "id": "3986bd9f",
   "metadata": {},
   "outputs": [],
   "source": [
    "from keras.preprocessing.image import ImageDataGenerator,array_to_img,img_to_array, load_img\n",
    "import matplotlib\n",
    "\n",
    "train_datagen = ImageDataGenerator(rotation_range=40,\n",
    "                                  width_shift_range=.2,\n",
    "                                  height_shift_range=.2,\n",
    "                                  rescale=1./255,\n",
    "                                  zoom_range=.2,\n",
    "                                  horizontal_flip=True,\n",
    "                                  fill_mode='nearest')\n",
    "\n",
    "test_datagen = ImageDataGenerator(rescale=1./255)\n"
   ]
  },
  {
   "cell_type": "markdown",
   "id": "f91562b0",
   "metadata": {},
   "source": [
    "### Read Train dir of Images"
   ]
  },
  {
   "cell_type": "code",
   "execution_count": 4,
   "id": "085eec4c",
   "metadata": {},
   "outputs": [
    {
     "name": "stdout",
     "output_type": "stream",
     "text": [
      "Found 1315 images belonging to 2 classes.\n"
     ]
    }
   ],
   "source": [
    "batch_size = 10\n",
    "\n",
    "train_data = train_datagen.flow_from_directory(r'D:\\Courses\\LetsUpgrade\\Project 10 - Mask detection using OpenCV\\observations-master\\experiements\\dest_folder\\train',\n",
    "                                              target_size=(100,100),batch_size=batch_size,\n",
    "                                              class_mode='binary')\n"
   ]
  },
  {
   "cell_type": "markdown",
   "id": "df618d38",
   "metadata": {},
   "source": [
    "### Read Test dir Images"
   ]
  },
  {
   "cell_type": "code",
   "execution_count": 5,
   "id": "154989df",
   "metadata": {},
   "outputs": [
    {
     "name": "stdout",
     "output_type": "stream",
     "text": [
      "Found 194 images belonging to 2 classes.\n"
     ]
    }
   ],
   "source": [
    "tes_data = test_datagen.flow_from_directory(r'D:\\Courses\\LetsUpgrade\\Project 10 - Mask detection using OpenCV\\observations-master\\experiements\\dest_folder\\test',\n",
    "                                           target_size = (100,100),\n",
    "                                           batch_size = batch_size,\n",
    "                                           class_mode = 'binary')"
   ]
  },
  {
   "cell_type": "markdown",
   "id": "08ec08ed",
   "metadata": {},
   "source": [
    "### CNN Model"
   ]
  },
  {
   "cell_type": "code",
   "execution_count": 15,
   "id": "ac0b1bc7",
   "metadata": {},
   "outputs": [
    {
     "name": "stdout",
     "output_type": "stream",
     "text": [
      "Model: \"sequential_2\"\n",
      "_________________________________________________________________\n",
      "Layer (type)                 Output Shape              Param #   \n",
      "=================================================================\n",
      "conv2d_5 (Conv2D)            (None, 98, 98, 100)       2800      \n",
      "_________________________________________________________________\n",
      "max_pooling2d_5 (MaxPooling2 (None, 49, 49, 100)       0         \n",
      "_________________________________________________________________\n",
      "conv2d_6 (Conv2D)            (None, 47, 47, 100)       90100     \n",
      "_________________________________________________________________\n",
      "max_pooling2d_6 (MaxPooling2 (None, 23, 23, 100)       0         \n",
      "_________________________________________________________________\n",
      "conv2d_7 (Conv2D)            (None, 21, 21, 100)       90100     \n",
      "_________________________________________________________________\n",
      "max_pooling2d_7 (MaxPooling2 (None, 10, 10, 100)       0         \n",
      "_________________________________________________________________\n",
      "flatten_2 (Flatten)          (None, 10000)             0         \n",
      "_________________________________________________________________\n",
      "dropout_2 (Dropout)          (None, 10000)             0         \n",
      "_________________________________________________________________\n",
      "dense_4 (Dense)              (None, 50)                500050    \n",
      "_________________________________________________________________\n",
      "dense_5 (Dense)              (None, 2)                 102       \n",
      "=================================================================\n",
      "Total params: 683,152\n",
      "Trainable params: 683,152\n",
      "Non-trainable params: 0\n",
      "_________________________________________________________________\n"
     ]
    }
   ],
   "source": [
    "model = Sequential([\n",
    "    Conv2D(100,(3,3),activation='relu',input_shape=(100,100,3)),\n",
    "    MaxPool2D(2,2),\n",
    "    \n",
    "    Conv2D(100,(3,3),activation='relu'),\n",
    "    MaxPool2D(2,2),\n",
    "    \n",
    "    Conv2D(100,(3,3),activation='relu'),\n",
    "    MaxPool2D(2,2),\n",
    "    \n",
    "    Flatten(),\n",
    "    Dropout(0.5),\n",
    "    Dense(50,activation='relu'),\n",
    "    \n",
    "    Dense(2,activation='softmax')\n",
    "])\n",
    "\n",
    "model.summary()"
   ]
  },
  {
   "cell_type": "markdown",
   "id": "2c0f6259",
   "metadata": {},
   "source": [
    "### Complilation of CNN"
   ]
  },
  {
   "cell_type": "code",
   "execution_count": 16,
   "id": "1ff3d462",
   "metadata": {},
   "outputs": [],
   "source": [
    "model.compile(optimizer='adam', loss='binary_crossentropy', metrics=['accuracy'])"
   ]
  },
  {
   "cell_type": "markdown",
   "id": "9f026b13",
   "metadata": {},
   "source": [
    "### Train the model with the Data"
   ]
  },
  {
   "cell_type": "code",
   "execution_count": 19,
   "id": "b790d4e3",
   "metadata": {},
   "outputs": [
    {
     "name": "stdout",
     "output_type": "stream",
     "text": [
      "Epoch 1/10\n",
      "5/5 [==============================] - 1s 185ms/step - loss: 0.6932 - accuracy: 0.3600 - val_loss: 0.6932 - val_accuracy: 0.4000\n",
      "Epoch 2/10\n",
      "5/5 [==============================] - 1s 174ms/step - loss: 0.6932 - accuracy: 0.5600 - val_loss: 0.6932 - val_accuracy: 0.6500\n",
      "Epoch 3/10\n",
      "5/5 [==============================] - 1s 204ms/step - loss: 0.6932 - accuracy: 0.4400 - val_loss: 0.6932 - val_accuracy: 0.5000\n",
      "Epoch 4/10\n",
      "5/5 [==============================] - 1s 175ms/step - loss: 0.6932 - accuracy: 0.5000 - val_loss: 0.6932 - val_accuracy: 0.5000\n",
      "Epoch 5/10\n",
      "5/5 [==============================] - 1s 224ms/step - loss: 0.6932 - accuracy: 0.4600 - val_loss: 0.6932 - val_accuracy: 0.4500\n",
      "Epoch 6/10\n",
      "5/5 [==============================] - 1s 184ms/step - loss: 0.6932 - accuracy: 0.5800 - val_loss: 0.6932 - val_accuracy: 0.5500\n",
      "Epoch 7/10\n",
      "5/5 [==============================] - 1s 193ms/step - loss: 0.6932 - accuracy: 0.5000 - val_loss: 0.6932 - val_accuracy: 0.6000\n",
      "Epoch 8/10\n",
      "5/5 [==============================] - 1s 195ms/step - loss: 0.6932 - accuracy: 0.4800 - val_loss: 0.6932 - val_accuracy: 0.4500\n",
      "Epoch 9/10\n",
      "5/5 [==============================] - 1s 178ms/step - loss: 0.6932 - accuracy: 0.4200 - val_loss: 0.6932 - val_accuracy: 0.6500\n",
      "Epoch 10/10\n",
      "5/5 [==============================] - 1s 197ms/step - loss: 0.6932 - accuracy: 0.6000 - val_loss: 0.6932 - val_accuracy: 0.6500\n"
     ]
    }
   ],
   "source": [
    "history = model.fit_generator(train_data,steps_per_epoch=50//batch_size,\n",
    "                             epochs=10,\n",
    "                             validation_data=tes_data,\n",
    "                             validation_steps=20//batch_size)"
   ]
  },
  {
   "cell_type": "markdown",
   "id": "b21a3ccb",
   "metadata": {},
   "source": [
    "#### Save trained model"
   ]
  },
  {
   "cell_type": "code",
   "execution_count": 20,
   "id": "72469505",
   "metadata": {},
   "outputs": [],
   "source": [
    "model.save('detection.h5')"
   ]
  },
  {
   "cell_type": "markdown",
   "id": "be05a16e",
   "metadata": {},
   "source": [
    "## Implement Face Mask Detection with opencv - Haarcascade Classifier"
   ]
  },
  {
   "cell_type": "code",
   "execution_count": null,
   "id": "8e8dff76",
   "metadata": {},
   "outputs": [],
   "source": [
    "model = tf.keras.models.load_model('detection.h5')\n",
    "results = {0:'without mask', 1:'with mask'}\n",
    "GR_dict={0:(0,0,255),1:(0,0,255)}         ### Group dictionary\n",
    "\n",
    "rect_size=4\n",
    "\n",
    "cap=cv2.VideoCapture(0)\n",
    "haarcascade=cv2.CascadeClassifier('haarcascade_frontalface_default.xml')\n",
    "while True:\n",
    "    (rval, im) = cap.read()\n",
    "    im=cv2.flip(im,1,1) \n",
    "\n",
    "    \n",
    "    rerect_size = cv2.resize(im, (im.shape[1] // rect_size, im.shape[0] // rect_size))\n",
    "    faces = haarcascade.detectMultiScale(rerect_size)\n",
    "    for f in faces:\n",
    "        (x, y, w, h) = [v * rect_size for v in f] \n",
    "        \n",
    "        face_img = im[y:y+h, x:x+w]\n",
    "        rerect_sized=cv2.resize(face_img,(100,100))\n",
    "        normalized=rerect_sized/255.0\n",
    "        reshaped=np.reshape(normalized,(1,100,100,3))\n",
    "        reshaped = np.vstack([reshaped])\n",
    "        result=model.predict(reshaped)\n",
    "\n",
    "        \n",
    "        label=np.argmax(result,axis=1)[0]\n",
    "      \n",
    "        cv2.rectangle(im,(x,y),(x+w,y+h),GR_dict[label],2)\n",
    "        cv2.rectangle(im,(x,y-40),(x+w,y),GR_dict[label],-1)\n",
    "        cv2.putText(im, results[label], (x, y-10),cv2.FONT_HERSHEY_SIMPLEX,0.8,(255,255,255),2)\n",
    "\n",
    "    cv2.imshow('LIVE',im)\n",
    "    key = cv2.waitKey(10)\n",
    "    \n",
    "    if key == 'q': \n",
    "        break\n",
    "\n",
    "cap.release()\n",
    "\n",
    "cv2.destroyAllWindows()"
   ]
  },
  {
   "cell_type": "code",
   "execution_count": null,
   "id": "455880a2",
   "metadata": {},
   "outputs": [],
   "source": []
  }
 ],
 "metadata": {
  "kernelspec": {
   "display_name": "Python 3",
   "language": "python",
   "name": "python3"
  },
  "language_info": {
   "codemirror_mode": {
    "name": "ipython",
    "version": 3
   },
   "file_extension": ".py",
   "mimetype": "text/x-python",
   "name": "python",
   "nbconvert_exporter": "python",
   "pygments_lexer": "ipython3",
   "version": "3.8.8"
  }
 },
 "nbformat": 4,
 "nbformat_minor": 5
}
