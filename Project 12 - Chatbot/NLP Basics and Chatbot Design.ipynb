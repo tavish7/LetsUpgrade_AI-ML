{
 "cells": [
  {
   "cell_type": "code",
   "execution_count": 1,
   "id": "6bf2e2da",
   "metadata": {},
   "outputs": [],
   "source": [
    "import nltk"
   ]
  },
  {
   "cell_type": "code",
   "execution_count": 2,
   "id": "dc023122",
   "metadata": {},
   "outputs": [
    {
     "name": "stderr",
     "output_type": "stream",
     "text": [
      "[nltk_data] Downloading package punkt to\n",
      "[nltk_data]     C:\\Users\\HP\\AppData\\Roaming\\nltk_data...\n",
      "[nltk_data]   Package punkt is already up-to-date!\n"
     ]
    },
    {
     "data": {
      "text/plain": [
       "True"
      ]
     },
     "execution_count": 2,
     "metadata": {},
     "output_type": "execute_result"
    }
   ],
   "source": [
    "nltk.download('punkt')"
   ]
  },
  {
   "cell_type": "markdown",
   "id": "9202bff7",
   "metadata": {},
   "source": [
    "# Sentence Tokenization"
   ]
  },
  {
   "cell_type": "code",
   "execution_count": 3,
   "id": "42d65aa9",
   "metadata": {},
   "outputs": [
    {
     "name": "stdout",
     "output_type": "stream",
     "text": [
      "['Hello Mr. John, Hope you are doing good.', 'By the way i have a plan to visit your house next week.']\n"
     ]
    }
   ],
   "source": [
    "from nltk.tokenize import sent_tokenize\n",
    "text = \"\"\"Hello Mr. John, Hope you are doing good.\n",
    "By the way i have a plan to visit your house next week.\"\"\"\n",
    "token_sent = sent_tokenize(text)\n",
    "print(token_sent)"
   ]
  },
  {
   "cell_type": "markdown",
   "id": "69f340e7",
   "metadata": {},
   "source": [
    "# Word token"
   ]
  },
  {
   "cell_type": "code",
   "execution_count": 4,
   "id": "4d5cea64",
   "metadata": {},
   "outputs": [
    {
     "name": "stdout",
     "output_type": "stream",
     "text": [
      "['Hello', 'Mr.', 'John', ',', 'Hope', 'you', 'are', 'doing', 'good', '.', 'By', 'the', 'way', 'i', 'have', 'a', 'plan', 'to', 'visit', 'your', 'house', 'next', 'week', '.']\n"
     ]
    }
   ],
   "source": [
    "from nltk.tokenize import word_tokenize\n",
    "token_word = word_tokenize(text)\n",
    "print(token_word)"
   ]
  },
  {
   "cell_type": "markdown",
   "id": "b801220d",
   "metadata": {},
   "source": [
    "# Frequency Distribution"
   ]
  },
  {
   "cell_type": "code",
   "execution_count": 5,
   "id": "854125b2",
   "metadata": {},
   "outputs": [
    {
     "name": "stdout",
     "output_type": "stream",
     "text": [
      "<FreqDist with 27 samples and 96 outcomes>\n"
     ]
    }
   ],
   "source": [
    "from nltk.probability import FreqDist\n",
    "freq_dist = FreqDist(text)\n",
    "print(freq_dist)"
   ]
  },
  {
   "cell_type": "code",
   "execution_count": 6,
   "id": "3815dab9",
   "metadata": {},
   "outputs": [
    {
     "data": {
      "text/plain": [
       "[(' ', 19),\n",
       " ('o', 10),\n",
       " ('e', 9),\n",
       " ('a', 5),\n",
       " ('h', 4),\n",
       " ('n', 4),\n",
       " ('y', 4),\n",
       " ('i', 4),\n",
       " ('t', 4),\n",
       " ('l', 3),\n",
       " ('r', 3),\n",
       " ('.', 3),\n",
       " ('u', 3),\n",
       " ('H', 2),\n",
       " ('p', 2),\n",
       " ('d', 2),\n",
       " ('g', 2),\n",
       " ('w', 2),\n",
       " ('v', 2),\n",
       " ('s', 2),\n",
       " ('M', 1),\n",
       " ('J', 1),\n",
       " (',', 1),\n",
       " ('\\n', 1),\n",
       " ('B', 1),\n",
       " ('x', 1),\n",
       " ('k', 1)]"
      ]
     },
     "execution_count": 6,
     "metadata": {},
     "output_type": "execute_result"
    }
   ],
   "source": [
    "freq_dist.most_common()"
   ]
  },
  {
   "cell_type": "code",
   "execution_count": 7,
   "id": "ab739034",
   "metadata": {},
   "outputs": [
    {
     "data": {
      "image/png": "[encoded data removed]",
      "text/plain": [
       "<Figure size 432x288 with 1 Axes>"
      ]
     },
     "metadata": {
      "needs_background": "light"
     },
     "output_type": "display_data"
    }
   ],
   "source": [
    "import matplotlib.pyplot as plt\n",
    "freq_dist.plot(27,cumulative=False)\n",
    "plt.show()"
   ]
  },
  {
   "cell_type": "markdown",
   "id": "772e4b7d",
   "metadata": {},
   "source": [
    "# Stop Words"
   ]
  },
  {
   "cell_type": "code",
   "execution_count": 8,
   "id": "630885d4",
   "metadata": {},
   "outputs": [
    {
     "name": "stdout",
     "output_type": "stream",
     "text": [
      "{'by', 'needn', \"shan't\", 'from', 'until', 'a', 'than', 'no', 'they', 'as', 'with', \"it's\", 'so', 'itself', 't', 'didn', 'all', 'few', 'ours', 'only', 'yourself', \"wasn't\", \"you're\", 'his', 'isn', 'that', 'both', 'this', \"isn't\", 'do', 'been', 'were', 'my', 'between', 'our', 'up', 'under', 'these', 'hers', 'against', 'can', 'you', 'are', 'its', \"wouldn't\", 'once', 'm', 'being', 'of', 'out', \"couldn't\", 'had', 'yourselves', 'other', \"she's\", 'o', 'don', 'into', 'now', \"aren't\", 'through', 'while', 'doesn', 'down', 'we', 'me', \"didn't\", 'she', 'is', 'has', 've', 're', 'or', 'during', \"you'd\", 'herself', 'each', 'some', 'such', 'more', 'where', \"mightn't\", 'theirs', 'them', 'over', 'how', 'those', 'did', \"you'll\", 'yours', 'if', 'does', 'to', 'her', 'the', 'further', 'after', \"that'll\", 'an', \"should've\", 'am', 'won', 'below', 'before', 'myself', 'mightn', \"you've\", 'own', 'just', 'in', 'very', 'because', 'will', 'your', 'same', \"mustn't\", \"won't\", 'was', 'off', 'i', \"hadn't\", 'ain', 'ma', 'above', 'then', 'most', 'wouldn', 'weren', 'on', 'what', 'nor', 'which', 'y', 'their', 'why', 'couldn', 'haven', 'but', 'for', 'too', 'be', 'should', 'hadn', \"doesn't\", 'any', \"needn't\", \"shouldn't\", 'and', \"hasn't\", 'ourselves', \"don't\", 'again', 'doing', 'mustn', 'when', 'who', 'll', 'it', 'there', 'not', 'about', 'him', 'have', 'at', 's', 'whom', 'shan', 'having', 'shouldn', 'he', 'himself', 'wasn', \"haven't\", 'themselves', 'hasn', \"weren't\", 'here', 'd', 'aren'}\n"
     ]
    }
   ],
   "source": [
    "from nltk.corpus import stopwords\n",
    "stop_words = set(stopwords.words('english'))\n",
    "print(stop_words)"
   ]
  },
  {
   "cell_type": "code",
   "execution_count": 9,
   "id": "ed2c706c",
   "metadata": {},
   "outputs": [
    {
     "data": {
      "text/plain": [
       "179"
      ]
     },
     "execution_count": 9,
     "metadata": {},
     "output_type": "execute_result"
    }
   ],
   "source": [
    "len(stop_words)"
   ]
  },
  {
   "cell_type": "markdown",
   "id": "5ffd1ed8",
   "metadata": {},
   "source": [
    "# Remove stop words"
   ]
  },
  {
   "cell_type": "code",
   "execution_count": 10,
   "id": "8657844a",
   "metadata": {},
   "outputs": [
    {
     "name": "stdout",
     "output_type": "stream",
     "text": [
      "Token sentence\n",
      "\n",
      " ['Hello', 'Mr.', 'John', ',', 'Hope', 'you', 'are', 'doing', 'good', '.', 'By', 'the', 'way', 'i', 'have', 'a', 'plan', 'to', 'visit', 'your', 'house', 'next', 'week', '.']\n",
      "After Removing Stopwords\n",
      " ['Hello', 'Mr.', 'John', ',', 'Hope', 'good', '.', 'By', 'way', 'plan', 'visit', 'house', 'next', 'week', '.']\n"
     ]
    }
   ],
   "source": [
    "filtered_sent = []\n",
    "for w in token_word:\n",
    "    if w not in stop_words:\n",
    "        filtered_sent.append(w)\n",
    "print(\"Token sentence\\n\\n\", token_word)\n",
    "print(\"After Removing Stopwords\\n\", filtered_sent)"
   ]
  },
  {
   "cell_type": "markdown",
   "id": "3f55a530",
   "metadata": {},
   "source": [
    "# Stemming"
   ]
  },
  {
   "cell_type": "code",
   "execution_count": 11,
   "id": "57004563",
   "metadata": {},
   "outputs": [
    {
     "name": "stdout",
     "output_type": "stream",
     "text": [
      "\n",
      " The filtered sentence\n",
      " \t ['Hello', 'Mr.', 'John', ',', 'Hope', 'good', '.', 'By', 'way', 'plan', 'visit', 'house', 'next', 'week', '.']\n",
      "\n",
      " Stemmed Words \n",
      " ['hello', 'mr.', 'john', ',', 'hope', 'good', '.', 'by', 'way', 'plan', 'visit', 'hous', 'next', 'week', '.']\n"
     ]
    }
   ],
   "source": [
    "from nltk.stem import PorterStemmer\n",
    "ps = PorterStemmer()\n",
    "stemmed_words = []\n",
    "for w in filtered_sent:\n",
    "    stemmed_words.append(ps.stem(w))\n",
    "print(\"\\n The filtered sentence\\n \\t\", filtered_sent)\n",
    "print(\"\\n Stemmed Words \\n\", stemmed_words)"
   ]
  },
  {
   "cell_type": "code",
   "execution_count": 12,
   "id": "c4ba4204",
   "metadata": {},
   "outputs": [
    {
     "name": "stdout",
     "output_type": "stream",
     "text": [
      "['connect', ',', 'connected', ',', 'connecting']\n"
     ]
    }
   ],
   "source": [
    "st = 'connect,connected,connecting'\n",
    "st_word = word_tokenize(st)\n",
    "print(st_word)"
   ]
  },
  {
   "cell_type": "code",
   "execution_count": 13,
   "id": "d6a50d14",
   "metadata": {},
   "outputs": [
    {
     "name": "stdout",
     "output_type": "stream",
     "text": [
      "\n",
      " Stemmed Words \n",
      " ['connect', ',', 'connect', ',', 'connect']\n"
     ]
    }
   ],
   "source": [
    "from nltk.stem import PorterStemmer\n",
    "ps = PorterStemmer()\n",
    "stemmed_words = []\n",
    "for w in st_word:\n",
    "    stemmed_words.append(ps.stem(w))\n",
    "\n",
    "print(\"\\n Stemmed Words \\n\", stemmed_words)"
   ]
  },
  {
   "cell_type": "markdown",
   "id": "d4363be3",
   "metadata": {},
   "source": [
    "# Lemmatization"
   ]
  },
  {
   "cell_type": "code",
   "execution_count": 14,
   "id": "3901da4c",
   "metadata": {},
   "outputs": [
    {
     "name": "stderr",
     "output_type": "stream",
     "text": [
      "[nltk_data] Downloading package wordnet to\n",
      "[nltk_data]     C:\\Users\\HP\\AppData\\Roaming\\nltk_data...\n",
      "[nltk_data]   Package wordnet is already up-to-date!\n"
     ]
    },
    {
     "data": {
      "text/plain": [
       "True"
      ]
     },
     "execution_count": 14,
     "metadata": {},
     "output_type": "execute_result"
    }
   ],
   "source": [
    "nltk.download('wordnet')"
   ]
  },
  {
   "cell_type": "code",
   "execution_count": 15,
   "id": "da7bb0d9",
   "metadata": {},
   "outputs": [
    {
     "name": "stdout",
     "output_type": "stream",
     "text": [
      "Lemmatized word\n",
      " fly\n",
      "\n",
      " Stemmed word\n",
      " fli\n"
     ]
    }
   ],
   "source": [
    "from nltk.stem import WordNetLemmatizer\n",
    "lem = WordNetLemmatizer()\n",
    "stem = PorterStemmer()\n",
    "word = 'flying'\n",
    "print(\"Lemmatized word\\n\", lem.lemmatize(word,'v'))\n",
    "print(\"\\n Stemmed word\\n\", stem.stem(word))"
   ]
  },
  {
   "cell_type": "markdown",
   "id": "8883ac0d",
   "metadata": {},
   "source": [
    "# Chatbot Development with NLTK"
   ]
  },
  {
   "cell_type": "code",
   "execution_count": 16,
   "id": "733a2dc8",
   "metadata": {},
   "outputs": [],
   "source": [
    "# import Libraries\n",
    "import io\n",
    "import random\n",
    "import string\n",
    "import warnings\n",
    "import numpy as np\n",
    "from sklearn.feature_extraction.text import TfidfVectorizer\n",
    "from sklearn.metrics.pairwise import cosine_similarity\n",
    "warnings.filterwarnings('ignore')"
   ]
  },
  {
   "cell_type": "code",
   "execution_count": 17,
   "id": "c748c98b",
   "metadata": {},
   "outputs": [
    {
     "name": "stderr",
     "output_type": "stream",
     "text": [
      "[nltk_data] Downloading package punkt to\n",
      "[nltk_data]     C:\\Users\\HP\\AppData\\Roaming\\nltk_data...\n",
      "[nltk_data]   Package punkt is already up-to-date!\n",
      "[nltk_data] Downloading package wordnet to\n",
      "[nltk_data]     C:\\Users\\HP\\AppData\\Roaming\\nltk_data...\n",
      "[nltk_data]   Package wordnet is already up-to-date!\n"
     ]
    },
    {
     "data": {
      "text/plain": [
       "True"
      ]
     },
     "execution_count": 17,
     "metadata": {},
     "output_type": "execute_result"
    }
   ],
   "source": [
    "import nltk\n",
    "from nltk.stem import WordNetLemmatizer\n",
    "nltk.download('popular', quiet=True)\n",
    "nltk.download('punkt')\n",
    "nltk.download('wordnet')"
   ]
  },
  {
   "cell_type": "markdown",
   "id": "d1be8d2d",
   "metadata": {},
   "source": [
    "# Reading in the Corpus"
   ]
  },
  {
   "cell_type": "code",
   "execution_count": 18,
   "id": "8f658761",
   "metadata": {},
   "outputs": [],
   "source": [
    "f = open('chatbot.txt','r',errors='ignore')\n",
    "raw = f.read()\n",
    "raw = raw.lower()"
   ]
  },
  {
   "cell_type": "markdown",
   "id": "df3af595",
   "metadata": {},
   "source": [
    "# Tokenization"
   ]
  },
  {
   "cell_type": "code",
   "execution_count": 19,
   "id": "bd164cb7",
   "metadata": {},
   "outputs": [],
   "source": [
    "sent_tokenize = nltk.sent_tokenize(raw) # converts list to sentence\n",
    "word_tokenize = nltk.word_tokenize(raw) # converts list to words"
   ]
  },
  {
   "cell_type": "markdown",
   "id": "6b44a102",
   "metadata": {},
   "source": [
    "# Preprocessing"
   ]
  },
  {
   "cell_type": "code",
   "execution_count": 20,
   "id": "61f12c9d",
   "metadata": {},
   "outputs": [],
   "source": [
    "lemmer = nltk.stem.WordNetLemmatizer()\n",
    "def LemTokens(tokens):\n",
    "    return [lemmer.lemmatize(token) for token in tokens]\n",
    "remove_punct_dict = dict((ord(punct), None) for punct in string.punctuation)\n",
    "\n",
    "def LemNormalize(text):\n",
    "    return LemTokens(nltk.word_tokenize(text.lower().translate(remove_punct_dict)))"
   ]
  },
  {
   "cell_type": "markdown",
   "id": "0b0ce16a",
   "metadata": {},
   "source": [
    "# Keyword matching"
   ]
  },
  {
   "cell_type": "code",
   "execution_count": 21,
   "id": "cca7c549",
   "metadata": {},
   "outputs": [],
   "source": [
    "GREETING_INPUTS = (\"hello\",\"hi\",\"greetings\",\"sup\",\"what's up\",\"hey\",)\n",
    "GREETING_RESPONSES = [\"hi\",\"hey\",\"*nods*\",\"hi there\",\"hello\",\"I am glad\"]\n",
    "def greeting(sentence):\n",
    "    for word in sentence.split():\n",
    "        if word.lower() in GREETING_INPUTS:\n",
    "            return random.choice(GREETING_RESPONSES)"
   ]
  },
  {
   "cell_type": "markdown",
   "id": "b0c184e4",
   "metadata": {},
   "source": [
    "# Greeting Response"
   ]
  },
  {
   "cell_type": "code",
   "execution_count": 22,
   "id": "27b55a69",
   "metadata": {},
   "outputs": [],
   "source": [
    "def response(user_response):\n",
    "    robo_response = ''\n",
    "    sent_tokenize.append(user_response)\n",
    "    TfidVec = TfidfVectorizer(tokenizer=LemNormalize, stop_words='english')\n",
    "    tfidf = TfidVec.fit_transform(sent_tokenize)\n",
    "    vals = cosine_similarity(tfidf[-1], tfidf)\n",
    "    idx = vals.argsort()[0][-2]\n",
    "    flat = vals.flatten()\n",
    "    flat.sort()\n",
    "    req_tfidf = flat[-2]\n",
    "    if(req_tfidf==0):\n",
    "        robo_response = robo_response + \"I am sorry! I don't understand you\"\n",
    "        return robo_response\n",
    "    else:\n",
    "        robo_response = robo_response+sent_tokenize[idx]\n",
    "        return robo_response"
   ]
  },
  {
   "cell_type": "code",
   "execution_count": 23,
   "id": "1745baf0",
   "metadata": {},
   "outputs": [
    {
     "name": "stdout",
     "output_type": "stream",
     "text": [
      "RObo: My name is Robo. I will answer your queries about chatbots. If you want to exit, type bye\n",
      "hi\n",
      "Robo: hi there\n",
      "how is chatbot designed\n",
      "Robo: such programs are often designed to convincingly simulate how a human would behave as a conversational partner, thereby passing the turing test.\n",
      "bye\n",
      "Robo: Bye! Take care...\n"
     ]
    }
   ],
   "source": [
    "flag = True\n",
    "print(\"RObo: My name is Robo. I will answer your queries about chatbots. If you want to exit, type bye\")\n",
    "while(flag==True):\n",
    "    user_response = input()\n",
    "    user_response = user_response.lower()\n",
    "    if(user_response!='bye'):\n",
    "        if(user_response=='thanks' or user_response=='thank you'):\n",
    "            flag=False\n",
    "            print(\"Robo: You are welcome...\")\n",
    "        else:\n",
    "            if(greeting(user_response)!=None):\n",
    "                print(\"Robo: \"+greeting(user_response))\n",
    "            else:\n",
    "                print(\"Robo: \",end='')\n",
    "                print(response(user_response))\n",
    "                sent_tokenize.remove(user_response)\n",
    "    else:\n",
    "        flag=False\n",
    "        print(\"Robo: Bye! Take care...\")"
   ]
  },
  {
   "cell_type": "code",
   "execution_count": null,
   "id": "a66847ee",
   "metadata": {},
   "outputs": [],
   "source": []
  }
 ],
 "metadata": {
  "kernelspec": {
   "display_name": "Python 3",
   "language": "python",
   "name": "python3"
  },
  "language_info": {
   "codemirror_mode": {
    "name": "ipython",
    "version": 3
   },
   "file_extension": ".py",
   "mimetype": "text/x-python",
   "name": "python",
   "nbconvert_exporter": "python",
   "pygments_lexer": "ipython3",
   "version": "3.8.8"
  }
 },
 "nbformat": 4,
 "nbformat_minor": 5
}
